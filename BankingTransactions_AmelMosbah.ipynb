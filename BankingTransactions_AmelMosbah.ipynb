{
  "nbformat": 4,
  "nbformat_minor": 0,
  "metadata": {
    "colab": {
      "provenance": [],
      "collapsed_sections": [
        "6CSm6lzToTHp",
        "z9Ch9MLpoweM",
        "7ntFocifpnyy",
        "1V-Cncj6rviz"
      ],
      "authorship_tag": "ABX9TyN0d3yby03/I960oKnlcHd4",
      "include_colab_link": true
    },
    "kernelspec": {
      "name": "python3",
      "display_name": "Python 3"
    },
    "language_info": {
      "name": "python"
    }
  },
  "cells": [
    {
      "cell_type": "markdown",
      "metadata": {
        "id": "view-in-github",
        "colab_type": "text"
      },
      "source": [
        "<a href=\"https://colab.research.google.com/github/Amelbnmbh/BankingTransactions/blob/main/BankingTransactions_AmelMosbah.ipynb\" target=\"_parent\"><img src=\"https://colab.research.google.com/assets/colab-badge.svg\" alt=\"Open In Colab\"/></a>"
      ]
    },
    {
      "cell_type": "markdown",
      "source": [
        "<center>\n",
        "<h1><i>Cleaning and Processing Our Banking Transactions Dataset</i></h1>\n",
        "</center>"
      ],
      "metadata": {
        "id": "dGbrrYcrnkuE"
      }
    },
    {
      "cell_type": "markdown",
      "source": [
        "<p align=\"center\">\n",
        "  <img src=\"https://kinsta.com/fr/wp-content/uploads/sites/4/2021/06/liste-codes-carte-bancaire-refusee.png\" width=\"800\"/>\n",
        "</p>\n"
      ],
      "metadata": {
        "id": "Ti6yHXH0jGRx"
      }
    },
    {
      "cell_type": "markdown",
      "source": [
        "\n",
        "<p>In this project, we worked on a banking transactions dataset that requires meticulous cleaning and processing to ensure reliable analyses. The cleaning process involves identifying and removing duplicates, handling missing values, and correcting inconsistencies. Once these steps are completed, the data is ready to be analyzed to extract relevant information and make informed decisions.</p>\n",
        "\n",
        "<center>\n",
        "<p> realised by <b>Amel MOSBAH </p>\n"
      ],
      "metadata": {
        "id": "-sboX6YQm4DL"
      }
    },
    {
      "cell_type": "markdown",
      "source": [
        "#Importing Libraries\n"
      ],
      "metadata": {
        "id": "6CSm6lzToTHp"
      }
    },
    {
      "cell_type": "code",
      "source": [
        "import pandas as pd\n",
        "import numpy as np\n",
        "import matplotlib.pyplot as plt\n",
        "import seaborn as sns"
      ],
      "metadata": {
        "id": "c40yPcdVkEcd"
      },
      "execution_count": null,
      "outputs": []
    },
    {
      "cell_type": "markdown",
      "source": [
        "# Data Loading"
      ],
      "metadata": {
        "id": "z9Ch9MLpoweM"
      }
    },
    {
      "cell_type": "code",
      "source": [
        "op = pd.read_csv(\"operations.csv\")"
      ],
      "metadata": {
        "id": "_VYjzhHfo6A0"
      },
      "execution_count": null,
      "outputs": []
    },
    {
      "cell_type": "markdown",
      "source": [
        "#Data Exploration"
      ],
      "metadata": {
        "id": "7ntFocifpnyy"
      }
    },
    {
      "cell_type": "code",
      "source": [
        "op.head()"
      ],
      "metadata": {
        "colab": {
          "base_uri": "https://localhost:8080/"
        },
        "id": "NF2QYJ80psI9",
        "outputId": "264e8d57-1c40-46a4-f8e6-9ffd1e13e4fc"
      },
      "execution_count": null,
      "outputs": [
        {
          "output_type": "execute_result",
          "data": {
            "text/plain": [
              "  date_operation                                       libelle  montant  \\\n",
              "0     2023-03-31                      DON XX XX XX XX XX XX XX    -1.44   \n",
              "1     2023-04-03                           CARTE XX XX RAPT XX   -24.00   \n",
              "2     2023-04-03                           CARTE XX XX RAPT XX   -73.00   \n",
              "3     2023-04-03  VIREMENT XX XX XX XX XX XX XX XX XX XX XX XX   676.00   \n",
              "4     2023-04-03                    VIREMENT XX XX XX XX XX XX     4.80   \n",
              "\n",
              "   solde_avt_ope      categ  \n",
              "0        1515.25      AUTRE  \n",
              "1        1513.81  TRANSPORT  \n",
              "2        1489.81  TRANSPORT  \n",
              "3        1416.81      AUTRE  \n",
              "4        2092.81      AUTRE  "
            ],
            "text/html": [
              "\n",
              "  <div id=\"df-ecb64587-1d8f-45a2-83ce-4b68b6f5e940\" class=\"colab-df-container\">\n",
              "    <div>\n",
              "<style scoped>\n",
              "    .dataframe tbody tr th:only-of-type {\n",
              "        vertical-align: middle;\n",
              "    }\n",
              "\n",
              "    .dataframe tbody tr th {\n",
              "        vertical-align: top;\n",
              "    }\n",
              "\n",
              "    .dataframe thead th {\n",
              "        text-align: right;\n",
              "    }\n",
              "</style>\n",
              "<table border=\"1\" class=\"dataframe\">\n",
              "  <thead>\n",
              "    <tr style=\"text-align: right;\">\n",
              "      <th></th>\n",
              "      <th>date_operation</th>\n",
              "      <th>libelle</th>\n",
              "      <th>montant</th>\n",
              "      <th>solde_avt_ope</th>\n",
              "      <th>categ</th>\n",
              "    </tr>\n",
              "  </thead>\n",
              "  <tbody>\n",
              "    <tr>\n",
              "      <th>0</th>\n",
              "      <td>2023-03-31</td>\n",
              "      <td>DON XX XX XX XX XX XX XX</td>\n",
              "      <td>-1.44</td>\n",
              "      <td>1515.25</td>\n",
              "      <td>AUTRE</td>\n",
              "    </tr>\n",
              "    <tr>\n",
              "      <th>1</th>\n",
              "      <td>2023-04-03</td>\n",
              "      <td>CARTE XX XX RAPT XX</td>\n",
              "      <td>-24.00</td>\n",
              "      <td>1513.81</td>\n",
              "      <td>TRANSPORT</td>\n",
              "    </tr>\n",
              "    <tr>\n",
              "      <th>2</th>\n",
              "      <td>2023-04-03</td>\n",
              "      <td>CARTE XX XX RAPT XX</td>\n",
              "      <td>-73.00</td>\n",
              "      <td>1489.81</td>\n",
              "      <td>TRANSPORT</td>\n",
              "    </tr>\n",
              "    <tr>\n",
              "      <th>3</th>\n",
              "      <td>2023-04-03</td>\n",
              "      <td>VIREMENT XX XX XX XX XX XX XX XX XX XX XX XX</td>\n",
              "      <td>676.00</td>\n",
              "      <td>1416.81</td>\n",
              "      <td>AUTRE</td>\n",
              "    </tr>\n",
              "    <tr>\n",
              "      <th>4</th>\n",
              "      <td>2023-04-03</td>\n",
              "      <td>VIREMENT XX XX XX XX XX XX</td>\n",
              "      <td>4.80</td>\n",
              "      <td>2092.81</td>\n",
              "      <td>AUTRE</td>\n",
              "    </tr>\n",
              "  </tbody>\n",
              "</table>\n",
              "</div>\n",
              "    <div class=\"colab-df-buttons\">\n",
              "\n",
              "  <div class=\"colab-df-container\">\n",
              "    <button class=\"colab-df-convert\" onclick=\"convertToInteractive('df-ecb64587-1d8f-45a2-83ce-4b68b6f5e940')\"\n",
              "            title=\"Convert this dataframe to an interactive table.\"\n",
              "            style=\"display:none;\">\n",
              "\n",
              "  <svg xmlns=\"http://www.w3.org/2000/svg\" height=\"24px\" viewBox=\"0 -960 960 960\">\n",
              "    <path d=\"M120-120v-720h720v720H120Zm60-500h600v-160H180v160Zm220 220h160v-160H400v160Zm0 220h160v-160H400v160ZM180-400h160v-160H180v160Zm440 0h160v-160H620v160ZM180-180h160v-160H180v160Zm440 0h160v-160H620v160Z\"/>\n",
              "  </svg>\n",
              "    </button>\n",
              "\n",
              "  <style>\n",
              "    .colab-df-container {\n",
              "      display:flex;\n",
              "      gap: 12px;\n",
              "    }\n",
              "\n",
              "    .colab-df-convert {\n",
              "      background-color: #E8F0FE;\n",
              "      border: none;\n",
              "      border-radius: 50%;\n",
              "      cursor: pointer;\n",
              "      display: none;\n",
              "      fill: #1967D2;\n",
              "      height: 32px;\n",
              "      padding: 0 0 0 0;\n",
              "      width: 32px;\n",
              "    }\n",
              "\n",
              "    .colab-df-convert:hover {\n",
              "      background-color: #E2EBFA;\n",
              "      box-shadow: 0px 1px 2px rgba(60, 64, 67, 0.3), 0px 1px 3px 1px rgba(60, 64, 67, 0.15);\n",
              "      fill: #174EA6;\n",
              "    }\n",
              "\n",
              "    .colab-df-buttons div {\n",
              "      margin-bottom: 4px;\n",
              "    }\n",
              "\n",
              "    [theme=dark] .colab-df-convert {\n",
              "      background-color: #3B4455;\n",
              "      fill: #D2E3FC;\n",
              "    }\n",
              "\n",
              "    [theme=dark] .colab-df-convert:hover {\n",
              "      background-color: #434B5C;\n",
              "      box-shadow: 0px 1px 3px 1px rgba(0, 0, 0, 0.15);\n",
              "      filter: drop-shadow(0px 1px 2px rgba(0, 0, 0, 0.3));\n",
              "      fill: #FFFFFF;\n",
              "    }\n",
              "  </style>\n",
              "\n",
              "    <script>\n",
              "      const buttonEl =\n",
              "        document.querySelector('#df-ecb64587-1d8f-45a2-83ce-4b68b6f5e940 button.colab-df-convert');\n",
              "      buttonEl.style.display =\n",
              "        google.colab.kernel.accessAllowed ? 'block' : 'none';\n",
              "\n",
              "      async function convertToInteractive(key) {\n",
              "        const element = document.querySelector('#df-ecb64587-1d8f-45a2-83ce-4b68b6f5e940');\n",
              "        const dataTable =\n",
              "          await google.colab.kernel.invokeFunction('convertToInteractive',\n",
              "                                                    [key], {});\n",
              "        if (!dataTable) return;\n",
              "\n",
              "        const docLinkHtml = 'Like what you see? Visit the ' +\n",
              "          '<a target=\"_blank\" href=https://colab.research.google.com/notebooks/data_table.ipynb>data table notebook</a>'\n",
              "          + ' to learn more about interactive tables.';\n",
              "        element.innerHTML = '';\n",
              "        dataTable['output_type'] = 'display_data';\n",
              "        await google.colab.output.renderOutput(dataTable, element);\n",
              "        const docLink = document.createElement('div');\n",
              "        docLink.innerHTML = docLinkHtml;\n",
              "        element.appendChild(docLink);\n",
              "      }\n",
              "    </script>\n",
              "  </div>\n",
              "\n",
              "\n",
              "<div id=\"df-4903a6ce-3cb4-49a6-8cb8-94340a8739d9\">\n",
              "  <button class=\"colab-df-quickchart\" onclick=\"quickchart('df-4903a6ce-3cb4-49a6-8cb8-94340a8739d9')\"\n",
              "            title=\"Suggest charts\"\n",
              "            style=\"display:none;\">\n",
              "\n",
              "<svg xmlns=\"http://www.w3.org/2000/svg\" height=\"24px\"viewBox=\"0 0 24 24\"\n",
              "     width=\"24px\">\n",
              "    <g>\n",
              "        <path d=\"M19 3H5c-1.1 0-2 .9-2 2v14c0 1.1.9 2 2 2h14c1.1 0 2-.9 2-2V5c0-1.1-.9-2-2-2zM9 17H7v-7h2v7zm4 0h-2V7h2v10zm4 0h-2v-4h2v4z\"/>\n",
              "    </g>\n",
              "</svg>\n",
              "  </button>\n",
              "\n",
              "<style>\n",
              "  .colab-df-quickchart {\n",
              "      --bg-color: #E8F0FE;\n",
              "      --fill-color: #1967D2;\n",
              "      --hover-bg-color: #E2EBFA;\n",
              "      --hover-fill-color: #174EA6;\n",
              "      --disabled-fill-color: #AAA;\n",
              "      --disabled-bg-color: #DDD;\n",
              "  }\n",
              "\n",
              "  [theme=dark] .colab-df-quickchart {\n",
              "      --bg-color: #3B4455;\n",
              "      --fill-color: #D2E3FC;\n",
              "      --hover-bg-color: #434B5C;\n",
              "      --hover-fill-color: #FFFFFF;\n",
              "      --disabled-bg-color: #3B4455;\n",
              "      --disabled-fill-color: #666;\n",
              "  }\n",
              "\n",
              "  .colab-df-quickchart {\n",
              "    background-color: var(--bg-color);\n",
              "    border: none;\n",
              "    border-radius: 50%;\n",
              "    cursor: pointer;\n",
              "    display: none;\n",
              "    fill: var(--fill-color);\n",
              "    height: 32px;\n",
              "    padding: 0;\n",
              "    width: 32px;\n",
              "  }\n",
              "\n",
              "  .colab-df-quickchart:hover {\n",
              "    background-color: var(--hover-bg-color);\n",
              "    box-shadow: 0 1px 2px rgba(60, 64, 67, 0.3), 0 1px 3px 1px rgba(60, 64, 67, 0.15);\n",
              "    fill: var(--button-hover-fill-color);\n",
              "  }\n",
              "\n",
              "  .colab-df-quickchart-complete:disabled,\n",
              "  .colab-df-quickchart-complete:disabled:hover {\n",
              "    background-color: var(--disabled-bg-color);\n",
              "    fill: var(--disabled-fill-color);\n",
              "    box-shadow: none;\n",
              "  }\n",
              "\n",
              "  .colab-df-spinner {\n",
              "    border: 2px solid var(--fill-color);\n",
              "    border-color: transparent;\n",
              "    border-bottom-color: var(--fill-color);\n",
              "    animation:\n",
              "      spin 1s steps(1) infinite;\n",
              "  }\n",
              "\n",
              "  @keyframes spin {\n",
              "    0% {\n",
              "      border-color: transparent;\n",
              "      border-bottom-color: var(--fill-color);\n",
              "      border-left-color: var(--fill-color);\n",
              "    }\n",
              "    20% {\n",
              "      border-color: transparent;\n",
              "      border-left-color: var(--fill-color);\n",
              "      border-top-color: var(--fill-color);\n",
              "    }\n",
              "    30% {\n",
              "      border-color: transparent;\n",
              "      border-left-color: var(--fill-color);\n",
              "      border-top-color: var(--fill-color);\n",
              "      border-right-color: var(--fill-color);\n",
              "    }\n",
              "    40% {\n",
              "      border-color: transparent;\n",
              "      border-right-color: var(--fill-color);\n",
              "      border-top-color: var(--fill-color);\n",
              "    }\n",
              "    60% {\n",
              "      border-color: transparent;\n",
              "      border-right-color: var(--fill-color);\n",
              "    }\n",
              "    80% {\n",
              "      border-color: transparent;\n",
              "      border-right-color: var(--fill-color);\n",
              "      border-bottom-color: var(--fill-color);\n",
              "    }\n",
              "    90% {\n",
              "      border-color: transparent;\n",
              "      border-bottom-color: var(--fill-color);\n",
              "    }\n",
              "  }\n",
              "</style>\n",
              "\n",
              "  <script>\n",
              "    async function quickchart(key) {\n",
              "      const quickchartButtonEl =\n",
              "        document.querySelector('#' + key + ' button');\n",
              "      quickchartButtonEl.disabled = true;  // To prevent multiple clicks.\n",
              "      quickchartButtonEl.classList.add('colab-df-spinner');\n",
              "      try {\n",
              "        const charts = await google.colab.kernel.invokeFunction(\n",
              "            'suggestCharts', [key], {});\n",
              "      } catch (error) {\n",
              "        console.error('Error during call to suggestCharts:', error);\n",
              "      }\n",
              "      quickchartButtonEl.classList.remove('colab-df-spinner');\n",
              "      quickchartButtonEl.classList.add('colab-df-quickchart-complete');\n",
              "    }\n",
              "    (() => {\n",
              "      let quickchartButtonEl =\n",
              "        document.querySelector('#df-4903a6ce-3cb4-49a6-8cb8-94340a8739d9 button');\n",
              "      quickchartButtonEl.style.display =\n",
              "        google.colab.kernel.accessAllowed ? 'block' : 'none';\n",
              "    })();\n",
              "  </script>\n",
              "</div>\n",
              "\n",
              "    </div>\n",
              "  </div>\n"
            ],
            "application/vnd.google.colaboratory.intrinsic+json": {
              "type": "dataframe",
              "variable_name": "op",
              "summary": "{\n  \"name\": \"op\",\n  \"rows\": 309,\n  \"fields\": [\n    {\n      \"column\": \"date_operation\",\n      \"properties\": {\n        \"dtype\": \"object\",\n        \"num_unique_values\": 113,\n        \"samples\": [\n          \"2023-08-14\",\n          \"2023-04-07\",\n          \"2023-06-12\"\n        ],\n        \"semantic_type\": \"\",\n        \"description\": \"\"\n      }\n    },\n    {\n      \"column\": \"libelle\",\n      \"properties\": {\n        \"dtype\": \"category\",\n        \"num_unique_values\": 30,\n        \"samples\": [\n          \"CARTE XX XX XX XX LA CCNCF XX\",\n          \"XX XX XX XX XX XX XX\",\n          \"CARTE XX XX XX XX XX XX XX\"\n        ],\n        \"semantic_type\": \"\",\n        \"description\": \"\"\n      }\n    },\n    {\n      \"column\": \"montant\",\n      \"properties\": {\n        \"dtype\": \"number\",\n        \"std\": 874.2406048420472,\n        \"min\": -15000.0,\n        \"max\": 1071.6,\n        \"num_unique_values\": 197,\n        \"samples\": [\n          -10.51,\n          -29.2,\n          -20.64\n        ],\n        \"semantic_type\": \"\",\n        \"description\": \"\"\n      }\n    },\n    {\n      \"column\": \"solde_avt_ope\",\n      \"properties\": {\n        \"dtype\": \"number\",\n        \"std\": 666.1802798975381,\n        \"min\": 1416.81,\n        \"max\": 4709.31,\n        \"num_unique_values\": 308,\n        \"samples\": [\n          2898.75,\n          2049.0,\n          3436.58\n        ],\n        \"semantic_type\": \"\",\n        \"description\": \"\"\n      }\n    },\n    {\n      \"column\": \"categ\",\n      \"properties\": {\n        \"dtype\": \"category\",\n        \"num_unique_values\": 7,\n        \"samples\": [\n          \"AUTRE\",\n          \"TRANSPORT\",\n          \"RESTAURANT\"\n        ],\n        \"semantic_type\": \"\",\n        \"description\": \"\"\n      }\n    }\n  ]\n}"
            }
          },
          "metadata": {},
          "execution_count": 297
        }
      ]
    },
    {
      "cell_type": "code",
      "source": [
        "op.dtypes"
      ],
      "metadata": {
        "colab": {
          "base_uri": "https://localhost:8080/"
        },
        "id": "Mt4rgqUfpEHg",
        "outputId": "3fa6e3c7-6517-4ec5-8d52-74debdaaf57a"
      },
      "execution_count": null,
      "outputs": [
        {
          "output_type": "execute_result",
          "data": {
            "text/plain": [
              "date_operation     object\n",
              "libelle            object\n",
              "montant           float64\n",
              "solde_avt_ope     float64\n",
              "categ              object\n",
              "dtype: object"
            ],
            "text/html": [
              "<div>\n",
              "<style scoped>\n",
              "    .dataframe tbody tr th:only-of-type {\n",
              "        vertical-align: middle;\n",
              "    }\n",
              "\n",
              "    .dataframe tbody tr th {\n",
              "        vertical-align: top;\n",
              "    }\n",
              "\n",
              "    .dataframe thead th {\n",
              "        text-align: right;\n",
              "    }\n",
              "</style>\n",
              "<table border=\"1\" class=\"dataframe\">\n",
              "  <thead>\n",
              "    <tr style=\"text-align: right;\">\n",
              "      <th></th>\n",
              "      <th>0</th>\n",
              "    </tr>\n",
              "  </thead>\n",
              "  <tbody>\n",
              "    <tr>\n",
              "      <th>date_operation</th>\n",
              "      <td>object</td>\n",
              "    </tr>\n",
              "    <tr>\n",
              "      <th>libelle</th>\n",
              "      <td>object</td>\n",
              "    </tr>\n",
              "    <tr>\n",
              "      <th>montant</th>\n",
              "      <td>float64</td>\n",
              "    </tr>\n",
              "    <tr>\n",
              "      <th>solde_avt_ope</th>\n",
              "      <td>float64</td>\n",
              "    </tr>\n",
              "    <tr>\n",
              "      <th>categ</th>\n",
              "      <td>object</td>\n",
              "    </tr>\n",
              "  </tbody>\n",
              "</table>\n",
              "</div><br><label><b>dtype:</b> object</label>"
            ]
          },
          "metadata": {},
          "execution_count": 298
        }
      ]
    },
    {
      "cell_type": "markdown",
      "source": [
        "We observe that the <b>date_operation</b> column is currently of type <b>object</b>. We need to convert it to the <b>date</b> type."
      ],
      "metadata": {
        "id": "3adcgMlLrjsO"
      }
    },
    {
      "cell_type": "markdown",
      "source": [
        "<h3>Check for missing values in the dataset</h3>"
      ],
      "metadata": {
        "id": "8Y2A8A1DsG_Y"
      }
    },
    {
      "cell_type": "code",
      "source": [
        "op.isnull().sum()"
      ],
      "metadata": {
        "colab": {
          "base_uri": "https://localhost:8080/"
        },
        "id": "LUut8nxJpRhi",
        "outputId": "d63a3b24-1795-413d-b640-8cde74227994"
      },
      "execution_count": null,
      "outputs": [
        {
          "output_type": "execute_result",
          "data": {
            "text/plain": [
              "date_operation    0\n",
              "libelle           0\n",
              "montant           2\n",
              "solde_avt_ope     0\n",
              "categ             1\n",
              "dtype: int64"
            ],
            "text/html": [
              "<div>\n",
              "<style scoped>\n",
              "    .dataframe tbody tr th:only-of-type {\n",
              "        vertical-align: middle;\n",
              "    }\n",
              "\n",
              "    .dataframe tbody tr th {\n",
              "        vertical-align: top;\n",
              "    }\n",
              "\n",
              "    .dataframe thead th {\n",
              "        text-align: right;\n",
              "    }\n",
              "</style>\n",
              "<table border=\"1\" class=\"dataframe\">\n",
              "  <thead>\n",
              "    <tr style=\"text-align: right;\">\n",
              "      <th></th>\n",
              "      <th>0</th>\n",
              "    </tr>\n",
              "  </thead>\n",
              "  <tbody>\n",
              "    <tr>\n",
              "      <th>date_operation</th>\n",
              "      <td>0</td>\n",
              "    </tr>\n",
              "    <tr>\n",
              "      <th>libelle</th>\n",
              "      <td>0</td>\n",
              "    </tr>\n",
              "    <tr>\n",
              "      <th>montant</th>\n",
              "      <td>2</td>\n",
              "    </tr>\n",
              "    <tr>\n",
              "      <th>solde_avt_ope</th>\n",
              "      <td>0</td>\n",
              "    </tr>\n",
              "    <tr>\n",
              "      <th>categ</th>\n",
              "      <td>1</td>\n",
              "    </tr>\n",
              "  </tbody>\n",
              "</table>\n",
              "</div><br><label><b>dtype:</b> int64</label>"
            ]
          },
          "metadata": {},
          "execution_count": 299
        }
      ]
    },
    {
      "cell_type": "markdown",
      "source": [
        "We note that the <b>montant</b> column has two missing values, and the <b>categ</b> column has one missing value."
      ],
      "metadata": {
        "id": "icLbYMNZrZjA"
      }
    },
    {
      "cell_type": "markdown",
      "source": [
        "# Data Preparation"
      ],
      "metadata": {
        "id": "1V-Cncj6rviz"
      }
    },
    {
      "cell_type": "markdown",
      "source": [
        "<h2>1.Converting to the date type"
      ],
      "metadata": {
        "id": "DkzXoAnSszwV"
      }
    },
    {
      "cell_type": "code",
      "source": [
        "op['date_operation'] = pd.to_datetime(op['date_operation'])"
      ],
      "metadata": {
        "id": "L5anCDVPs_Mg"
      },
      "execution_count": null,
      "outputs": []
    },
    {
      "cell_type": "code",
      "source": [
        "#cheking\n",
        "op.dtypes"
      ],
      "metadata": {
        "colab": {
          "base_uri": "https://localhost:8080/"
        },
        "id": "CFvbxSrHtOOD",
        "outputId": "b07a3d20-2646-4ba1-e391-2e5154d239b2"
      },
      "execution_count": null,
      "outputs": [
        {
          "output_type": "execute_result",
          "data": {
            "text/plain": [
              "date_operation    datetime64[ns]\n",
              "libelle                   object\n",
              "montant                  float64\n",
              "solde_avt_ope            float64\n",
              "categ                     object\n",
              "dtype: object"
            ],
            "text/html": [
              "<div>\n",
              "<style scoped>\n",
              "    .dataframe tbody tr th:only-of-type {\n",
              "        vertical-align: middle;\n",
              "    }\n",
              "\n",
              "    .dataframe tbody tr th {\n",
              "        vertical-align: top;\n",
              "    }\n",
              "\n",
              "    .dataframe thead th {\n",
              "        text-align: right;\n",
              "    }\n",
              "</style>\n",
              "<table border=\"1\" class=\"dataframe\">\n",
              "  <thead>\n",
              "    <tr style=\"text-align: right;\">\n",
              "      <th></th>\n",
              "      <th>0</th>\n",
              "    </tr>\n",
              "  </thead>\n",
              "  <tbody>\n",
              "    <tr>\n",
              "      <th>date_operation</th>\n",
              "      <td>datetime64[ns]</td>\n",
              "    </tr>\n",
              "    <tr>\n",
              "      <th>libelle</th>\n",
              "      <td>object</td>\n",
              "    </tr>\n",
              "    <tr>\n",
              "      <th>montant</th>\n",
              "      <td>float64</td>\n",
              "    </tr>\n",
              "    <tr>\n",
              "      <th>solde_avt_ope</th>\n",
              "      <td>float64</td>\n",
              "    </tr>\n",
              "    <tr>\n",
              "      <th>categ</th>\n",
              "      <td>object</td>\n",
              "    </tr>\n",
              "  </tbody>\n",
              "</table>\n",
              "</div><br><label><b>dtype:</b> object</label>"
            ]
          },
          "metadata": {},
          "execution_count": 301
        }
      ]
    },
    {
      "cell_type": "markdown",
      "source": [
        "<h2> Missing values"
      ],
      "metadata": {
        "id": "RgCKoU1vxzAU"
      }
    },
    {
      "cell_type": "markdown",
      "source": [
        "<h3>Identify rows with missing 'montant' or 'categ'\n",
        "\n"
      ],
      "metadata": {
        "id": "CgZQD85Hr8z9"
      }
    },
    {
      "cell_type": "code",
      "source": [
        "missing_rows = op[op['montant'].isnull() | op['categ'].isnull()]\n",
        "missing_rows"
      ],
      "metadata": {
        "colab": {
          "base_uri": "https://localhost:8080/"
        },
        "id": "MmequIxNsqNA",
        "outputId": "bfb6b29b-5b9b-4365-f10a-4e9a5f30e1c9"
      },
      "execution_count": null,
      "outputs": [
        {
          "output_type": "execute_result",
          "data": {
            "text/plain": [
              "    date_operation                              libelle  montant  \\\n",
              "107     2023-06-12  CARTE XX XX LES ANCIENS ROBINSON XX      NaN   \n",
              "156     2023-07-06       PRELEVEMENT XX TELEPHONE XX XX   -36.48   \n",
              "269     2023-09-11                    CARTE XX XX XX XX      NaN   \n",
              "\n",
              "     solde_avt_ope    categ  \n",
              "107        4667.19  COURSES  \n",
              "156        3295.68      NaN  \n",
              "269        3401.93    AUTRE  "
            ],
            "text/html": [
              "\n",
              "  <div id=\"df-88241331-c04d-4955-98fa-62c73d5394d5\" class=\"colab-df-container\">\n",
              "    <div>\n",
              "<style scoped>\n",
              "    .dataframe tbody tr th:only-of-type {\n",
              "        vertical-align: middle;\n",
              "    }\n",
              "\n",
              "    .dataframe tbody tr th {\n",
              "        vertical-align: top;\n",
              "    }\n",
              "\n",
              "    .dataframe thead th {\n",
              "        text-align: right;\n",
              "    }\n",
              "</style>\n",
              "<table border=\"1\" class=\"dataframe\">\n",
              "  <thead>\n",
              "    <tr style=\"text-align: right;\">\n",
              "      <th></th>\n",
              "      <th>date_operation</th>\n",
              "      <th>libelle</th>\n",
              "      <th>montant</th>\n",
              "      <th>solde_avt_ope</th>\n",
              "      <th>categ</th>\n",
              "    </tr>\n",
              "  </thead>\n",
              "  <tbody>\n",
              "    <tr>\n",
              "      <th>107</th>\n",
              "      <td>2023-06-12</td>\n",
              "      <td>CARTE XX XX LES ANCIENS ROBINSON XX</td>\n",
              "      <td>NaN</td>\n",
              "      <td>4667.19</td>\n",
              "      <td>COURSES</td>\n",
              "    </tr>\n",
              "    <tr>\n",
              "      <th>156</th>\n",
              "      <td>2023-07-06</td>\n",
              "      <td>PRELEVEMENT XX TELEPHONE XX XX</td>\n",
              "      <td>-36.48</td>\n",
              "      <td>3295.68</td>\n",
              "      <td>NaN</td>\n",
              "    </tr>\n",
              "    <tr>\n",
              "      <th>269</th>\n",
              "      <td>2023-09-11</td>\n",
              "      <td>CARTE XX XX XX XX</td>\n",
              "      <td>NaN</td>\n",
              "      <td>3401.93</td>\n",
              "      <td>AUTRE</td>\n",
              "    </tr>\n",
              "  </tbody>\n",
              "</table>\n",
              "</div>\n",
              "    <div class=\"colab-df-buttons\">\n",
              "\n",
              "  <div class=\"colab-df-container\">\n",
              "    <button class=\"colab-df-convert\" onclick=\"convertToInteractive('df-88241331-c04d-4955-98fa-62c73d5394d5')\"\n",
              "            title=\"Convert this dataframe to an interactive table.\"\n",
              "            style=\"display:none;\">\n",
              "\n",
              "  <svg xmlns=\"http://www.w3.org/2000/svg\" height=\"24px\" viewBox=\"0 -960 960 960\">\n",
              "    <path d=\"M120-120v-720h720v720H120Zm60-500h600v-160H180v160Zm220 220h160v-160H400v160Zm0 220h160v-160H400v160ZM180-400h160v-160H180v160Zm440 0h160v-160H620v160ZM180-180h160v-160H180v160Zm440 0h160v-160H620v160Z\"/>\n",
              "  </svg>\n",
              "    </button>\n",
              "\n",
              "  <style>\n",
              "    .colab-df-container {\n",
              "      display:flex;\n",
              "      gap: 12px;\n",
              "    }\n",
              "\n",
              "    .colab-df-convert {\n",
              "      background-color: #E8F0FE;\n",
              "      border: none;\n",
              "      border-radius: 50%;\n",
              "      cursor: pointer;\n",
              "      display: none;\n",
              "      fill: #1967D2;\n",
              "      height: 32px;\n",
              "      padding: 0 0 0 0;\n",
              "      width: 32px;\n",
              "    }\n",
              "\n",
              "    .colab-df-convert:hover {\n",
              "      background-color: #E2EBFA;\n",
              "      box-shadow: 0px 1px 2px rgba(60, 64, 67, 0.3), 0px 1px 3px 1px rgba(60, 64, 67, 0.15);\n",
              "      fill: #174EA6;\n",
              "    }\n",
              "\n",
              "    .colab-df-buttons div {\n",
              "      margin-bottom: 4px;\n",
              "    }\n",
              "\n",
              "    [theme=dark] .colab-df-convert {\n",
              "      background-color: #3B4455;\n",
              "      fill: #D2E3FC;\n",
              "    }\n",
              "\n",
              "    [theme=dark] .colab-df-convert:hover {\n",
              "      background-color: #434B5C;\n",
              "      box-shadow: 0px 1px 3px 1px rgba(0, 0, 0, 0.15);\n",
              "      filter: drop-shadow(0px 1px 2px rgba(0, 0, 0, 0.3));\n",
              "      fill: #FFFFFF;\n",
              "    }\n",
              "  </style>\n",
              "\n",
              "    <script>\n",
              "      const buttonEl =\n",
              "        document.querySelector('#df-88241331-c04d-4955-98fa-62c73d5394d5 button.colab-df-convert');\n",
              "      buttonEl.style.display =\n",
              "        google.colab.kernel.accessAllowed ? 'block' : 'none';\n",
              "\n",
              "      async function convertToInteractive(key) {\n",
              "        const element = document.querySelector('#df-88241331-c04d-4955-98fa-62c73d5394d5');\n",
              "        const dataTable =\n",
              "          await google.colab.kernel.invokeFunction('convertToInteractive',\n",
              "                                                    [key], {});\n",
              "        if (!dataTable) return;\n",
              "\n",
              "        const docLinkHtml = 'Like what you see? Visit the ' +\n",
              "          '<a target=\"_blank\" href=https://colab.research.google.com/notebooks/data_table.ipynb>data table notebook</a>'\n",
              "          + ' to learn more about interactive tables.';\n",
              "        element.innerHTML = '';\n",
              "        dataTable['output_type'] = 'display_data';\n",
              "        await google.colab.output.renderOutput(dataTable, element);\n",
              "        const docLink = document.createElement('div');\n",
              "        docLink.innerHTML = docLinkHtml;\n",
              "        element.appendChild(docLink);\n",
              "      }\n",
              "    </script>\n",
              "  </div>\n",
              "\n",
              "\n",
              "<div id=\"df-1ed1aee7-54ff-4a60-a654-efcd775b19ca\">\n",
              "  <button class=\"colab-df-quickchart\" onclick=\"quickchart('df-1ed1aee7-54ff-4a60-a654-efcd775b19ca')\"\n",
              "            title=\"Suggest charts\"\n",
              "            style=\"display:none;\">\n",
              "\n",
              "<svg xmlns=\"http://www.w3.org/2000/svg\" height=\"24px\"viewBox=\"0 0 24 24\"\n",
              "     width=\"24px\">\n",
              "    <g>\n",
              "        <path d=\"M19 3H5c-1.1 0-2 .9-2 2v14c0 1.1.9 2 2 2h14c1.1 0 2-.9 2-2V5c0-1.1-.9-2-2-2zM9 17H7v-7h2v7zm4 0h-2V7h2v10zm4 0h-2v-4h2v4z\"/>\n",
              "    </g>\n",
              "</svg>\n",
              "  </button>\n",
              "\n",
              "<style>\n",
              "  .colab-df-quickchart {\n",
              "      --bg-color: #E8F0FE;\n",
              "      --fill-color: #1967D2;\n",
              "      --hover-bg-color: #E2EBFA;\n",
              "      --hover-fill-color: #174EA6;\n",
              "      --disabled-fill-color: #AAA;\n",
              "      --disabled-bg-color: #DDD;\n",
              "  }\n",
              "\n",
              "  [theme=dark] .colab-df-quickchart {\n",
              "      --bg-color: #3B4455;\n",
              "      --fill-color: #D2E3FC;\n",
              "      --hover-bg-color: #434B5C;\n",
              "      --hover-fill-color: #FFFFFF;\n",
              "      --disabled-bg-color: #3B4455;\n",
              "      --disabled-fill-color: #666;\n",
              "  }\n",
              "\n",
              "  .colab-df-quickchart {\n",
              "    background-color: var(--bg-color);\n",
              "    border: none;\n",
              "    border-radius: 50%;\n",
              "    cursor: pointer;\n",
              "    display: none;\n",
              "    fill: var(--fill-color);\n",
              "    height: 32px;\n",
              "    padding: 0;\n",
              "    width: 32px;\n",
              "  }\n",
              "\n",
              "  .colab-df-quickchart:hover {\n",
              "    background-color: var(--hover-bg-color);\n",
              "    box-shadow: 0 1px 2px rgba(60, 64, 67, 0.3), 0 1px 3px 1px rgba(60, 64, 67, 0.15);\n",
              "    fill: var(--button-hover-fill-color);\n",
              "  }\n",
              "\n",
              "  .colab-df-quickchart-complete:disabled,\n",
              "  .colab-df-quickchart-complete:disabled:hover {\n",
              "    background-color: var(--disabled-bg-color);\n",
              "    fill: var(--disabled-fill-color);\n",
              "    box-shadow: none;\n",
              "  }\n",
              "\n",
              "  .colab-df-spinner {\n",
              "    border: 2px solid var(--fill-color);\n",
              "    border-color: transparent;\n",
              "    border-bottom-color: var(--fill-color);\n",
              "    animation:\n",
              "      spin 1s steps(1) infinite;\n",
              "  }\n",
              "\n",
              "  @keyframes spin {\n",
              "    0% {\n",
              "      border-color: transparent;\n",
              "      border-bottom-color: var(--fill-color);\n",
              "      border-left-color: var(--fill-color);\n",
              "    }\n",
              "    20% {\n",
              "      border-color: transparent;\n",
              "      border-left-color: var(--fill-color);\n",
              "      border-top-color: var(--fill-color);\n",
              "    }\n",
              "    30% {\n",
              "      border-color: transparent;\n",
              "      border-left-color: var(--fill-color);\n",
              "      border-top-color: var(--fill-color);\n",
              "      border-right-color: var(--fill-color);\n",
              "    }\n",
              "    40% {\n",
              "      border-color: transparent;\n",
              "      border-right-color: var(--fill-color);\n",
              "      border-top-color: var(--fill-color);\n",
              "    }\n",
              "    60% {\n",
              "      border-color: transparent;\n",
              "      border-right-color: var(--fill-color);\n",
              "    }\n",
              "    80% {\n",
              "      border-color: transparent;\n",
              "      border-right-color: var(--fill-color);\n",
              "      border-bottom-color: var(--fill-color);\n",
              "    }\n",
              "    90% {\n",
              "      border-color: transparent;\n",
              "      border-bottom-color: var(--fill-color);\n",
              "    }\n",
              "  }\n",
              "</style>\n",
              "\n",
              "  <script>\n",
              "    async function quickchart(key) {\n",
              "      const quickchartButtonEl =\n",
              "        document.querySelector('#' + key + ' button');\n",
              "      quickchartButtonEl.disabled = true;  // To prevent multiple clicks.\n",
              "      quickchartButtonEl.classList.add('colab-df-spinner');\n",
              "      try {\n",
              "        const charts = await google.colab.kernel.invokeFunction(\n",
              "            'suggestCharts', [key], {});\n",
              "      } catch (error) {\n",
              "        console.error('Error during call to suggestCharts:', error);\n",
              "      }\n",
              "      quickchartButtonEl.classList.remove('colab-df-spinner');\n",
              "      quickchartButtonEl.classList.add('colab-df-quickchart-complete');\n",
              "    }\n",
              "    (() => {\n",
              "      let quickchartButtonEl =\n",
              "        document.querySelector('#df-1ed1aee7-54ff-4a60-a654-efcd775b19ca button');\n",
              "      quickchartButtonEl.style.display =\n",
              "        google.colab.kernel.accessAllowed ? 'block' : 'none';\n",
              "    })();\n",
              "  </script>\n",
              "</div>\n",
              "\n",
              "  <div id=\"id_4a41e5c8-41f2-41d5-9155-5f4edcfc7fb5\">\n",
              "    <style>\n",
              "      .colab-df-generate {\n",
              "        background-color: #E8F0FE;\n",
              "        border: none;\n",
              "        border-radius: 50%;\n",
              "        cursor: pointer;\n",
              "        display: none;\n",
              "        fill: #1967D2;\n",
              "        height: 32px;\n",
              "        padding: 0 0 0 0;\n",
              "        width: 32px;\n",
              "      }\n",
              "\n",
              "      .colab-df-generate:hover {\n",
              "        background-color: #E2EBFA;\n",
              "        box-shadow: 0px 1px 2px rgba(60, 64, 67, 0.3), 0px 1px 3px 1px rgba(60, 64, 67, 0.15);\n",
              "        fill: #174EA6;\n",
              "      }\n",
              "\n",
              "      [theme=dark] .colab-df-generate {\n",
              "        background-color: #3B4455;\n",
              "        fill: #D2E3FC;\n",
              "      }\n",
              "\n",
              "      [theme=dark] .colab-df-generate:hover {\n",
              "        background-color: #434B5C;\n",
              "        box-shadow: 0px 1px 3px 1px rgba(0, 0, 0, 0.15);\n",
              "        filter: drop-shadow(0px 1px 2px rgba(0, 0, 0, 0.3));\n",
              "        fill: #FFFFFF;\n",
              "      }\n",
              "    </style>\n",
              "    <button class=\"colab-df-generate\" onclick=\"generateWithVariable('missing_rows')\"\n",
              "            title=\"Generate code using this dataframe.\"\n",
              "            style=\"display:none;\">\n",
              "\n",
              "  <svg xmlns=\"http://www.w3.org/2000/svg\" height=\"24px\"viewBox=\"0 0 24 24\"\n",
              "       width=\"24px\">\n",
              "    <path d=\"M7,19H8.4L18.45,9,17,7.55,7,17.6ZM5,21V16.75L18.45,3.32a2,2,0,0,1,2.83,0l1.4,1.43a1.91,1.91,0,0,1,.58,1.4,1.91,1.91,0,0,1-.58,1.4L9.25,21ZM18.45,9,17,7.55Zm-12,3A5.31,5.31,0,0,0,4.9,8.1,5.31,5.31,0,0,0,1,6.5,5.31,5.31,0,0,0,4.9,4.9,5.31,5.31,0,0,0,6.5,1,5.31,5.31,0,0,0,8.1,4.9,5.31,5.31,0,0,0,12,6.5,5.46,5.46,0,0,0,6.5,12Z\"/>\n",
              "  </svg>\n",
              "    </button>\n",
              "    <script>\n",
              "      (() => {\n",
              "      const buttonEl =\n",
              "        document.querySelector('#id_4a41e5c8-41f2-41d5-9155-5f4edcfc7fb5 button.colab-df-generate');\n",
              "      buttonEl.style.display =\n",
              "        google.colab.kernel.accessAllowed ? 'block' : 'none';\n",
              "\n",
              "      buttonEl.onclick = () => {\n",
              "        google.colab.notebook.generateWithVariable('missing_rows');\n",
              "      }\n",
              "      })();\n",
              "    </script>\n",
              "  </div>\n",
              "\n",
              "    </div>\n",
              "  </div>\n"
            ],
            "application/vnd.google.colaboratory.intrinsic+json": {
              "type": "dataframe",
              "variable_name": "missing_rows",
              "summary": "{\n  \"name\": \"missing_rows\",\n  \"rows\": 3,\n  \"fields\": [\n    {\n      \"column\": \"date_operation\",\n      \"properties\": {\n        \"dtype\": \"date\",\n        \"min\": \"2023-06-12 00:00:00\",\n        \"max\": \"2023-09-11 00:00:00\",\n        \"num_unique_values\": 3,\n        \"samples\": [\n          \"2023-06-12 00:00:00\",\n          \"2023-07-06 00:00:00\",\n          \"2023-09-11 00:00:00\"\n        ],\n        \"semantic_type\": \"\",\n        \"description\": \"\"\n      }\n    },\n    {\n      \"column\": \"libelle\",\n      \"properties\": {\n        \"dtype\": \"string\",\n        \"num_unique_values\": 3,\n        \"samples\": [\n          \"CARTE XX XX LES ANCIENS ROBINSON XX\",\n          \"PRELEVEMENT XX TELEPHONE XX XX\",\n          \"CARTE XX XX XX XX\"\n        ],\n        \"semantic_type\": \"\",\n        \"description\": \"\"\n      }\n    },\n    {\n      \"column\": \"montant\",\n      \"properties\": {\n        \"dtype\": \"number\",\n        \"std\": null,\n        \"min\": -36.48,\n        \"max\": -36.48,\n        \"num_unique_values\": 1,\n        \"samples\": [\n          -36.48\n        ],\n        \"semantic_type\": \"\",\n        \"description\": \"\"\n      }\n    },\n    {\n      \"column\": \"solde_avt_ope\",\n      \"properties\": {\n        \"dtype\": \"number\",\n        \"std\": 763.0215822854116,\n        \"min\": 3295.68,\n        \"max\": 4667.19,\n        \"num_unique_values\": 3,\n        \"samples\": [\n          4667.19\n        ],\n        \"semantic_type\": \"\",\n        \"description\": \"\"\n      }\n    },\n    {\n      \"column\": \"categ\",\n      \"properties\": {\n        \"dtype\": \"string\",\n        \"num_unique_values\": 2,\n        \"samples\": [\n          \"AUTRE\"\n        ],\n        \"semantic_type\": \"\",\n        \"description\": \"\"\n      }\n    }\n  ]\n}"
            }
          },
          "metadata": {},
          "execution_count": 302
        }
      ]
    },
    {
      "cell_type": "markdown",
      "source": [
        "<h3>Fill missing categories"
      ],
      "metadata": {
        "id": "ncXOirZotvbP"
      }
    },
    {
      "cell_type": "code",
      "source": [
        "#Find the categories for a specific 'libelle' : 'PRELEVEMENT XX TELEPHONE XX XX'\n",
        "find_categ_value = op.loc[op['libelle'] == 'PRELEVEMENT XX TELEPHONE XX XX', 'categ']\n",
        "find_categ_value"
      ],
      "metadata": {
        "colab": {
          "base_uri": "https://localhost:8080/"
        },
        "id": "tFbCcQhYtuCA",
        "outputId": "8772f698-b32c-49ea-8ce3-a5847adf3eed"
      },
      "execution_count": null,
      "outputs": [
        {
          "output_type": "execute_result",
          "data": {
            "text/plain": [
              "8      FACTURE TELEPHONE\n",
              "62     FACTURE TELEPHONE\n",
              "102    FACTURE TELEPHONE\n",
              "156                  NaN\n",
              "204    FACTURE TELEPHONE\n",
              "260    FACTURE TELEPHONE\n",
              "308    FACTURE TELEPHONE\n",
              "Name: categ, dtype: object"
            ],
            "text/html": [
              "<div>\n",
              "<style scoped>\n",
              "    .dataframe tbody tr th:only-of-type {\n",
              "        vertical-align: middle;\n",
              "    }\n",
              "\n",
              "    .dataframe tbody tr th {\n",
              "        vertical-align: top;\n",
              "    }\n",
              "\n",
              "    .dataframe thead th {\n",
              "        text-align: right;\n",
              "    }\n",
              "</style>\n",
              "<table border=\"1\" class=\"dataframe\">\n",
              "  <thead>\n",
              "    <tr style=\"text-align: right;\">\n",
              "      <th></th>\n",
              "      <th>categ</th>\n",
              "    </tr>\n",
              "  </thead>\n",
              "  <tbody>\n",
              "    <tr>\n",
              "      <th>8</th>\n",
              "      <td>FACTURE TELEPHONE</td>\n",
              "    </tr>\n",
              "    <tr>\n",
              "      <th>62</th>\n",
              "      <td>FACTURE TELEPHONE</td>\n",
              "    </tr>\n",
              "    <tr>\n",
              "      <th>102</th>\n",
              "      <td>FACTURE TELEPHONE</td>\n",
              "    </tr>\n",
              "    <tr>\n",
              "      <th>156</th>\n",
              "      <td>NaN</td>\n",
              "    </tr>\n",
              "    <tr>\n",
              "      <th>204</th>\n",
              "      <td>FACTURE TELEPHONE</td>\n",
              "    </tr>\n",
              "    <tr>\n",
              "      <th>260</th>\n",
              "      <td>FACTURE TELEPHONE</td>\n",
              "    </tr>\n",
              "    <tr>\n",
              "      <th>308</th>\n",
              "      <td>FACTURE TELEPHONE</td>\n",
              "    </tr>\n",
              "  </tbody>\n",
              "</table>\n",
              "</div><br><label><b>dtype:</b> object</label>"
            ]
          },
          "metadata": {},
          "execution_count": 303
        }
      ]
    },
    {
      "cell_type": "markdown",
      "source": [
        "We observe that all categories where the <b>'libelle'</b> is <b>'PRELEVEMENT XX TELEPHONE XX XX'</b> are classified as <b>'FACTURE TELEPHONE'</b>; therefore, we should fill the missing value with <b>'FACTURE TELEPHONE'</b> as well."
      ],
      "metadata": {
        "id": "5cBk5Qh5uY7h"
      }
    },
    {
      "cell_type": "code",
      "source": [
        "#Fill missing categories\n",
        "op.loc[\n",
        "    (op['libelle'] == 'PRELEVEMENT XX TELEPHONE XX XX') & (op['categ'].isna()),\n",
        "    'categ'\n",
        "] = 'FACTURE TELEPHONE'"
      ],
      "metadata": {
        "id": "EtJBUcRRuo1k"
      },
      "execution_count": null,
      "outputs": []
    },
    {
      "cell_type": "code",
      "source": [
        "#Checking\n",
        "op.loc[op['libelle'] == 'PRELEVEMENT XX TELEPHONE XX XX', 'categ']"
      ],
      "metadata": {
        "colab": {
          "base_uri": "https://localhost:8080/"
        },
        "id": "MqV9pc8Hu0hp",
        "outputId": "1cafc28c-e395-4568-89f0-c729b83fdc81"
      },
      "execution_count": null,
      "outputs": [
        {
          "output_type": "execute_result",
          "data": {
            "text/plain": [
              "8      FACTURE TELEPHONE\n",
              "62     FACTURE TELEPHONE\n",
              "102    FACTURE TELEPHONE\n",
              "156    FACTURE TELEPHONE\n",
              "204    FACTURE TELEPHONE\n",
              "260    FACTURE TELEPHONE\n",
              "308    FACTURE TELEPHONE\n",
              "Name: categ, dtype: object"
            ],
            "text/html": [
              "<div>\n",
              "<style scoped>\n",
              "    .dataframe tbody tr th:only-of-type {\n",
              "        vertical-align: middle;\n",
              "    }\n",
              "\n",
              "    .dataframe tbody tr th {\n",
              "        vertical-align: top;\n",
              "    }\n",
              "\n",
              "    .dataframe thead th {\n",
              "        text-align: right;\n",
              "    }\n",
              "</style>\n",
              "<table border=\"1\" class=\"dataframe\">\n",
              "  <thead>\n",
              "    <tr style=\"text-align: right;\">\n",
              "      <th></th>\n",
              "      <th>categ</th>\n",
              "    </tr>\n",
              "  </thead>\n",
              "  <tbody>\n",
              "    <tr>\n",
              "      <th>8</th>\n",
              "      <td>FACTURE TELEPHONE</td>\n",
              "    </tr>\n",
              "    <tr>\n",
              "      <th>62</th>\n",
              "      <td>FACTURE TELEPHONE</td>\n",
              "    </tr>\n",
              "    <tr>\n",
              "      <th>102</th>\n",
              "      <td>FACTURE TELEPHONE</td>\n",
              "    </tr>\n",
              "    <tr>\n",
              "      <th>156</th>\n",
              "      <td>FACTURE TELEPHONE</td>\n",
              "    </tr>\n",
              "    <tr>\n",
              "      <th>204</th>\n",
              "      <td>FACTURE TELEPHONE</td>\n",
              "    </tr>\n",
              "    <tr>\n",
              "      <th>260</th>\n",
              "      <td>FACTURE TELEPHONE</td>\n",
              "    </tr>\n",
              "    <tr>\n",
              "      <th>308</th>\n",
              "      <td>FACTURE TELEPHONE</td>\n",
              "    </tr>\n",
              "  </tbody>\n",
              "</table>\n",
              "</div><br><label><b>dtype:</b> object</label>"
            ]
          },
          "metadata": {},
          "execution_count": 305
        }
      ]
    },
    {
      "cell_type": "markdown",
      "source": [
        "<h3>Fill missing \"montant\""
      ],
      "metadata": {
        "id": "DDYiUoENvo9G"
      }
    },
    {
      "cell_type": "markdown",
      "source": [
        "**libelle** : 'CARTE XX XX LES ANCIENS ROBINSON XX' and **categ** : 'COURSES'"
      ],
      "metadata": {
        "id": "Adaxz3IzwIbz"
      }
    },
    {
      "cell_type": "code",
      "source": [
        "#Find amounts for a libelle : 'CARTE XX XX LES ANCIENS ROBINSON XX' and categ : 'COURSES'\n",
        "find_amount1_value = op.loc[(op['libelle'] == 'CARTE XX XX LES ANCIENS ROBINSON XX') & (op['categ'] == 'COURSES'), 'montant']\n",
        "\n",
        "#Calculate the mean of the found amounts\n",
        "mean_amount1 = round(find_amount1_value.mean(), 2)\n",
        "\n",
        "#Fill NaN values with the calculated mean\n",
        "op.loc[(op['libelle'] == 'CARTE XX XX LES ANCIENS ROBINSON XX') & (op['categ'] == 'COURSES'), 'montant'] = \\\n",
        "find_amount1_value.fillna(mean_amount1)"
      ],
      "metadata": {
        "id": "LtUgp1G8wBMB"
      },
      "execution_count": null,
      "outputs": []
    },
    {
      "cell_type": "markdown",
      "source": [
        "**libelle** : 'CARTE XX XX XX XX' and **categ** : 'AUTRE'"
      ],
      "metadata": {
        "id": "Ya5TrRwaw159"
      }
    },
    {
      "cell_type": "code",
      "source": [
        "#Repeat the same steps :\n",
        "find_amount2_value = op.loc[(op['libelle'] == 'CARTE XX XX XX XX') & (op['categ'] == 'AUTRE'), 'montant']\n",
        "\n",
        "mean_amount2 = round(find_amount2_value.mean(), 2)\n",
        "\n",
        "op.loc[(op['libelle'] == 'CARTE XX XX XX XX') & (op['categ'] == 'AUTRE'), 'montant'] = \\\n",
        "    find_amount2_value.fillna(mean_amount2)\n"
      ],
      "metadata": {
        "id": "LkFN19fYxGOa"
      },
      "execution_count": null,
      "outputs": []
    },
    {
      "cell_type": "code",
      "source": [
        "#checking\n",
        "op.isnull().sum()"
      ],
      "metadata": {
        "colab": {
          "base_uri": "https://localhost:8080/"
        },
        "id": "5AYvAJYqxXQD",
        "outputId": "4cc9ed43-0847-4bfa-f52f-e7ea92330165"
      },
      "execution_count": null,
      "outputs": [
        {
          "output_type": "execute_result",
          "data": {
            "text/plain": [
              "date_operation    0\n",
              "libelle           0\n",
              "montant           0\n",
              "solde_avt_ope     0\n",
              "categ             0\n",
              "dtype: int64"
            ],
            "text/html": [
              "<div>\n",
              "<style scoped>\n",
              "    .dataframe tbody tr th:only-of-type {\n",
              "        vertical-align: middle;\n",
              "    }\n",
              "\n",
              "    .dataframe tbody tr th {\n",
              "        vertical-align: top;\n",
              "    }\n",
              "\n",
              "    .dataframe thead th {\n",
              "        text-align: right;\n",
              "    }\n",
              "</style>\n",
              "<table border=\"1\" class=\"dataframe\">\n",
              "  <thead>\n",
              "    <tr style=\"text-align: right;\">\n",
              "      <th></th>\n",
              "      <th>0</th>\n",
              "    </tr>\n",
              "  </thead>\n",
              "  <tbody>\n",
              "    <tr>\n",
              "      <th>date_operation</th>\n",
              "      <td>0</td>\n",
              "    </tr>\n",
              "    <tr>\n",
              "      <th>libelle</th>\n",
              "      <td>0</td>\n",
              "    </tr>\n",
              "    <tr>\n",
              "      <th>montant</th>\n",
              "      <td>0</td>\n",
              "    </tr>\n",
              "    <tr>\n",
              "      <th>solde_avt_ope</th>\n",
              "      <td>0</td>\n",
              "    </tr>\n",
              "    <tr>\n",
              "      <th>categ</th>\n",
              "      <td>0</td>\n",
              "    </tr>\n",
              "  </tbody>\n",
              "</table>\n",
              "</div><br><label><b>dtype:</b> int64</label>"
            ]
          },
          "metadata": {},
          "execution_count": 308
        }
      ]
    },
    {
      "cell_type": "markdown",
      "source": [
        "<H2>3.Check for duplicates"
      ],
      "metadata": {
        "id": "0C7rySQ3yAw5"
      }
    },
    {
      "cell_type": "markdown",
      "source": [
        " <H3>Check unique values in the 'categ' column"
      ],
      "metadata": {
        "id": "9ELqjaUmyY6f"
      }
    },
    {
      "cell_type": "code",
      "source": [
        "op['categ'].unique()"
      ],
      "metadata": {
        "colab": {
          "base_uri": "https://localhost:8080/"
        },
        "id": "vS7TPcVNyVgR",
        "outputId": "da6dde30-0693-42e5-c624-859175e1e527"
      },
      "execution_count": null,
      "outputs": [
        {
          "output_type": "execute_result",
          "data": {
            "text/plain": [
              "array(['AUTRE', 'TRANSPORT', 'FACTURE TELEPHONE', 'COURSES',\n",
              "       'COTISATION BANCAIRE', 'RESTAURANT', 'LOYER'], dtype=object)"
            ]
          },
          "metadata": {},
          "execution_count": 309
        }
      ]
    },
    {
      "cell_type": "markdown",
      "source": [
        "<H3>Check unique values in the 'LIBELLE' column"
      ],
      "metadata": {
        "id": "bV3ohL41yiPD"
      }
    },
    {
      "cell_type": "code",
      "source": [
        "op['libelle'].unique()"
      ],
      "metadata": {
        "colab": {
          "base_uri": "https://localhost:8080/"
        },
        "id": "IRqYfhP-ylkC",
        "outputId": "8fe947b5-7b8c-4254-801b-3baa98c3ffd0"
      },
      "execution_count": null,
      "outputs": [
        {
          "output_type": "execute_result",
          "data": {
            "text/plain": [
              "array(['DON XX XX XX XX XX XX XX', 'CARTE XX XX RAPT XX',\n",
              "       'VIREMENT XX XX XX XX XX XX XX XX XX XX XX XX',\n",
              "       'VIREMENT XX XX XX XX XX XX', 'CARTE XX XX XX XX',\n",
              "       'CARTE XX XX XX XX XX', 'PRELEVEMENT XX TELEPHONE XX XX',\n",
              "       'CARTE XX XX LES ANCIENS ROBINSON XX',\n",
              "       'FORFAIT COMPTE SUPERBANK XX XX XX XX',\n",
              "       'VIREMENT XX XX XX XX XX XX XX XX XX XX',\n",
              "       'CARTE XX XX CHEZ LUC XX', 'CARTE XX XX XX XX XX XX',\n",
              "       'CARTE XX XX XX XX XX XX XX XX XX XX', 'CARTE XX XX VELOC XX XX',\n",
              "       'VIREMENT XX XX XX XX XX XX XX', 'XX XX XX XX XX XX XX',\n",
              "       'VIREMENT PERMANENT LOYER', 'RETRAIT XX XX XX',\n",
              "       \"CARTE XX XX L'EPICERIE DEMBAS XX XX\",\n",
              "       'CARTE XX XX LA LOUVE XX XX', 'XX XX VIREMENT XX XX XX',\n",
              "       'CARTE XX XX TOUPTIPRI XX', 'CARTE XX XX LA CCNCF XX XX',\n",
              "       'CARTE XX XX XX XX XX XX XX', 'XX XX CARTE XX XX XX',\n",
              "       'CARTE XX XX XX XX XX XX XX XX', 'CARTE XX XX LA CCNCF XX',\n",
              "       'CARTE XX XX XX XX LA CCNCF XX',\n",
              "       'VIREMENT XX XX XX XX XX XX XX XX XX',\n",
              "       'PRELEVEMENT XX XX XX XX XX XX XX XX'], dtype=object)"
            ]
          },
          "metadata": {},
          "execution_count": 310
        }
      ]
    },
    {
      "cell_type": "markdown",
      "source": [
        "We notice the presence of multiple **similar** entries"
      ],
      "metadata": {
        "id": "UfT2GI0bzXlp"
      }
    },
    {
      "cell_type": "markdown",
      "source": [
        "<h3>Clean the 'libelle' column by removing 'XX' and extra spaces"
      ],
      "metadata": {
        "id": "oFc0axEnzgLY"
      }
    },
    {
      "cell_type": "code",
      "source": [
        "op['libelle'] = op['libelle'].str.replace(\"XX\", \"\", regex=False).str.strip()\n",
        "op['libelle'] = op['libelle'].str.replace(r'\\s+', ' ', regex=True)"
      ],
      "metadata": {
        "id": "i3GFpbkGzbwO"
      },
      "execution_count": null,
      "outputs": []
    },
    {
      "cell_type": "code",
      "source": [
        "#checking\n",
        "op['libelle'].unique()"
      ],
      "metadata": {
        "colab": {
          "base_uri": "https://localhost:8080/"
        },
        "id": "x0A9jJcK0Czh",
        "outputId": "6115a31b-da73-4c24-dd31-5a48a92678b5"
      },
      "execution_count": null,
      "outputs": [
        {
          "output_type": "execute_result",
          "data": {
            "text/plain": [
              "array(['DON', 'CARTE RAPT', 'VIREMENT', 'CARTE', 'PRELEVEMENT TELEPHONE',\n",
              "       'CARTE LES ANCIENS ROBINSON', 'FORFAIT COMPTE SUPERBANK',\n",
              "       'CARTE CHEZ LUC', 'CARTE VELOC', '', 'VIREMENT PERMANENT LOYER',\n",
              "       'RETRAIT', \"CARTE L'EPICERIE DEMBAS\", 'CARTE LA LOUVE',\n",
              "       'CARTE TOUPTIPRI', 'CARTE LA CCNCF', 'PRELEVEMENT'], dtype=object)"
            ]
          },
          "metadata": {},
          "execution_count": 312
        }
      ]
    },
    {
      "cell_type": "code",
      "source": [
        "#For better visualisation\n",
        "unique_values = op['libelle'].unique()\n",
        "for value in unique_values:\n",
        "    print(value)"
      ],
      "metadata": {
        "colab": {
          "base_uri": "https://localhost:8080/"
        },
        "id": "sofxOTtVzq7m",
        "outputId": "6f04d228-74c2-4821-b17a-3c783b54dd2f"
      },
      "execution_count": null,
      "outputs": [
        {
          "output_type": "stream",
          "name": "stdout",
          "text": [
            "DON\n",
            "CARTE RAPT\n",
            "VIREMENT\n",
            "CARTE\n",
            "PRELEVEMENT TELEPHONE\n",
            "CARTE LES ANCIENS ROBINSON\n",
            "FORFAIT COMPTE SUPERBANK\n",
            "CARTE CHEZ LUC\n",
            "CARTE VELOC\n",
            "\n",
            "VIREMENT PERMANENT LOYER\n",
            "RETRAIT\n",
            "CARTE L'EPICERIE DEMBAS\n",
            "CARTE LA LOUVE\n",
            "CARTE TOUPTIPRI\n",
            "CARTE LA CCNCF\n",
            "PRELEVEMENT\n"
          ]
        }
      ]
    },
    {
      "cell_type": "markdown",
      "source": [
        "We notice that there is an **empty** row"
      ],
      "metadata": {
        "id": "4RFEl9Ab0hQN"
      }
    },
    {
      "cell_type": "code",
      "source": [
        "#find the empty row\n",
        "empty_row = op[op['libelle'] == \"\"]\n",
        "empty_row"
      ],
      "metadata": {
        "colab": {
          "base_uri": "https://localhost:8080/"
        },
        "id": "X4EouKRz1DzV",
        "outputId": "7b6f8c67-f0e7-4ccd-84d6-f9e2f9546aaa"
      },
      "execution_count": null,
      "outputs": [
        {
          "output_type": "execute_result",
          "data": {
            "text/plain": [
              "   date_operation libelle  montant  solde_avt_ope  categ\n",
              "26     2023-04-13           -280.0         4461.5  AUTRE"
            ],
            "text/html": [
              "\n",
              "  <div id=\"df-0442d15c-e0f8-48fa-b0d4-eb3d488eab09\" class=\"colab-df-container\">\n",
              "    <div>\n",
              "<style scoped>\n",
              "    .dataframe tbody tr th:only-of-type {\n",
              "        vertical-align: middle;\n",
              "    }\n",
              "\n",
              "    .dataframe tbody tr th {\n",
              "        vertical-align: top;\n",
              "    }\n",
              "\n",
              "    .dataframe thead th {\n",
              "        text-align: right;\n",
              "    }\n",
              "</style>\n",
              "<table border=\"1\" class=\"dataframe\">\n",
              "  <thead>\n",
              "    <tr style=\"text-align: right;\">\n",
              "      <th></th>\n",
              "      <th>date_operation</th>\n",
              "      <th>libelle</th>\n",
              "      <th>montant</th>\n",
              "      <th>solde_avt_ope</th>\n",
              "      <th>categ</th>\n",
              "    </tr>\n",
              "  </thead>\n",
              "  <tbody>\n",
              "    <tr>\n",
              "      <th>26</th>\n",
              "      <td>2023-04-13</td>\n",
              "      <td></td>\n",
              "      <td>-280.0</td>\n",
              "      <td>4461.5</td>\n",
              "      <td>AUTRE</td>\n",
              "    </tr>\n",
              "  </tbody>\n",
              "</table>\n",
              "</div>\n",
              "    <div class=\"colab-df-buttons\">\n",
              "\n",
              "  <div class=\"colab-df-container\">\n",
              "    <button class=\"colab-df-convert\" onclick=\"convertToInteractive('df-0442d15c-e0f8-48fa-b0d4-eb3d488eab09')\"\n",
              "            title=\"Convert this dataframe to an interactive table.\"\n",
              "            style=\"display:none;\">\n",
              "\n",
              "  <svg xmlns=\"http://www.w3.org/2000/svg\" height=\"24px\" viewBox=\"0 -960 960 960\">\n",
              "    <path d=\"M120-120v-720h720v720H120Zm60-500h600v-160H180v160Zm220 220h160v-160H400v160Zm0 220h160v-160H400v160ZM180-400h160v-160H180v160Zm440 0h160v-160H620v160ZM180-180h160v-160H180v160Zm440 0h160v-160H620v160Z\"/>\n",
              "  </svg>\n",
              "    </button>\n",
              "\n",
              "  <style>\n",
              "    .colab-df-container {\n",
              "      display:flex;\n",
              "      gap: 12px;\n",
              "    }\n",
              "\n",
              "    .colab-df-convert {\n",
              "      background-color: #E8F0FE;\n",
              "      border: none;\n",
              "      border-radius: 50%;\n",
              "      cursor: pointer;\n",
              "      display: none;\n",
              "      fill: #1967D2;\n",
              "      height: 32px;\n",
              "      padding: 0 0 0 0;\n",
              "      width: 32px;\n",
              "    }\n",
              "\n",
              "    .colab-df-convert:hover {\n",
              "      background-color: #E2EBFA;\n",
              "      box-shadow: 0px 1px 2px rgba(60, 64, 67, 0.3), 0px 1px 3px 1px rgba(60, 64, 67, 0.15);\n",
              "      fill: #174EA6;\n",
              "    }\n",
              "\n",
              "    .colab-df-buttons div {\n",
              "      margin-bottom: 4px;\n",
              "    }\n",
              "\n",
              "    [theme=dark] .colab-df-convert {\n",
              "      background-color: #3B4455;\n",
              "      fill: #D2E3FC;\n",
              "    }\n",
              "\n",
              "    [theme=dark] .colab-df-convert:hover {\n",
              "      background-color: #434B5C;\n",
              "      box-shadow: 0px 1px 3px 1px rgba(0, 0, 0, 0.15);\n",
              "      filter: drop-shadow(0px 1px 2px rgba(0, 0, 0, 0.3));\n",
              "      fill: #FFFFFF;\n",
              "    }\n",
              "  </style>\n",
              "\n",
              "    <script>\n",
              "      const buttonEl =\n",
              "        document.querySelector('#df-0442d15c-e0f8-48fa-b0d4-eb3d488eab09 button.colab-df-convert');\n",
              "      buttonEl.style.display =\n",
              "        google.colab.kernel.accessAllowed ? 'block' : 'none';\n",
              "\n",
              "      async function convertToInteractive(key) {\n",
              "        const element = document.querySelector('#df-0442d15c-e0f8-48fa-b0d4-eb3d488eab09');\n",
              "        const dataTable =\n",
              "          await google.colab.kernel.invokeFunction('convertToInteractive',\n",
              "                                                    [key], {});\n",
              "        if (!dataTable) return;\n",
              "\n",
              "        const docLinkHtml = 'Like what you see? Visit the ' +\n",
              "          '<a target=\"_blank\" href=https://colab.research.google.com/notebooks/data_table.ipynb>data table notebook</a>'\n",
              "          + ' to learn more about interactive tables.';\n",
              "        element.innerHTML = '';\n",
              "        dataTable['output_type'] = 'display_data';\n",
              "        await google.colab.output.renderOutput(dataTable, element);\n",
              "        const docLink = document.createElement('div');\n",
              "        docLink.innerHTML = docLinkHtml;\n",
              "        element.appendChild(docLink);\n",
              "      }\n",
              "    </script>\n",
              "  </div>\n",
              "\n",
              "\n",
              "  <div id=\"id_68a3cd47-3ae7-4bf8-9181-d5115ad878ed\">\n",
              "    <style>\n",
              "      .colab-df-generate {\n",
              "        background-color: #E8F0FE;\n",
              "        border: none;\n",
              "        border-radius: 50%;\n",
              "        cursor: pointer;\n",
              "        display: none;\n",
              "        fill: #1967D2;\n",
              "        height: 32px;\n",
              "        padding: 0 0 0 0;\n",
              "        width: 32px;\n",
              "      }\n",
              "\n",
              "      .colab-df-generate:hover {\n",
              "        background-color: #E2EBFA;\n",
              "        box-shadow: 0px 1px 2px rgba(60, 64, 67, 0.3), 0px 1px 3px 1px rgba(60, 64, 67, 0.15);\n",
              "        fill: #174EA6;\n",
              "      }\n",
              "\n",
              "      [theme=dark] .colab-df-generate {\n",
              "        background-color: #3B4455;\n",
              "        fill: #D2E3FC;\n",
              "      }\n",
              "\n",
              "      [theme=dark] .colab-df-generate:hover {\n",
              "        background-color: #434B5C;\n",
              "        box-shadow: 0px 1px 3px 1px rgba(0, 0, 0, 0.15);\n",
              "        filter: drop-shadow(0px 1px 2px rgba(0, 0, 0, 0.3));\n",
              "        fill: #FFFFFF;\n",
              "      }\n",
              "    </style>\n",
              "    <button class=\"colab-df-generate\" onclick=\"generateWithVariable('empty_row')\"\n",
              "            title=\"Generate code using this dataframe.\"\n",
              "            style=\"display:none;\">\n",
              "\n",
              "  <svg xmlns=\"http://www.w3.org/2000/svg\" height=\"24px\"viewBox=\"0 0 24 24\"\n",
              "       width=\"24px\">\n",
              "    <path d=\"M7,19H8.4L18.45,9,17,7.55,7,17.6ZM5,21V16.75L18.45,3.32a2,2,0,0,1,2.83,0l1.4,1.43a1.91,1.91,0,0,1,.58,1.4,1.91,1.91,0,0,1-.58,1.4L9.25,21ZM18.45,9,17,7.55Zm-12,3A5.31,5.31,0,0,0,4.9,8.1,5.31,5.31,0,0,0,1,6.5,5.31,5.31,0,0,0,4.9,4.9,5.31,5.31,0,0,0,6.5,1,5.31,5.31,0,0,0,8.1,4.9,5.31,5.31,0,0,0,12,6.5,5.46,5.46,0,0,0,6.5,12Z\"/>\n",
              "  </svg>\n",
              "    </button>\n",
              "    <script>\n",
              "      (() => {\n",
              "      const buttonEl =\n",
              "        document.querySelector('#id_68a3cd47-3ae7-4bf8-9181-d5115ad878ed button.colab-df-generate');\n",
              "      buttonEl.style.display =\n",
              "        google.colab.kernel.accessAllowed ? 'block' : 'none';\n",
              "\n",
              "      buttonEl.onclick = () => {\n",
              "        google.colab.notebook.generateWithVariable('empty_row');\n",
              "      }\n",
              "      })();\n",
              "    </script>\n",
              "  </div>\n",
              "\n",
              "    </div>\n",
              "  </div>\n"
            ],
            "application/vnd.google.colaboratory.intrinsic+json": {
              "type": "dataframe",
              "variable_name": "empty_row",
              "repr_error": "0"
            }
          },
          "metadata": {},
          "execution_count": 314
        }
      ]
    },
    {
      "cell_type": "code",
      "source": [
        "# Find the libelle and count occurrences\n",
        "find_libelle_counts = op.loc[op['categ'] == 'AUTRE', 'libelle'].value_counts()\n",
        "find_libelle_counts.head(10)\n"
      ],
      "metadata": {
        "colab": {
          "base_uri": "https://localhost:8080/"
        },
        "id": "PA8A0NnQ2Arq",
        "outputId": "bcc19391-57dc-478e-a9f1-2c6e33fd439a"
      },
      "execution_count": null,
      "outputs": [
        {
          "output_type": "execute_result",
          "data": {
            "text/plain": [
              "libelle\n",
              "CARTE                      155\n",
              "VIREMENT                    23\n",
              "CARTE L'EPICERIE DEMBAS     16\n",
              "RETRAIT                      9\n",
              "DON                          7\n",
              "                             1\n",
              "PRELEVEMENT                  1\n",
              "Name: count, dtype: int64"
            ],
            "text/html": [
              "<div>\n",
              "<style scoped>\n",
              "    .dataframe tbody tr th:only-of-type {\n",
              "        vertical-align: middle;\n",
              "    }\n",
              "\n",
              "    .dataframe tbody tr th {\n",
              "        vertical-align: top;\n",
              "    }\n",
              "\n",
              "    .dataframe thead th {\n",
              "        text-align: right;\n",
              "    }\n",
              "</style>\n",
              "<table border=\"1\" class=\"dataframe\">\n",
              "  <thead>\n",
              "    <tr style=\"text-align: right;\">\n",
              "      <th></th>\n",
              "      <th>count</th>\n",
              "    </tr>\n",
              "    <tr>\n",
              "      <th>libelle</th>\n",
              "      <th></th>\n",
              "    </tr>\n",
              "  </thead>\n",
              "  <tbody>\n",
              "    <tr>\n",
              "      <th>CARTE</th>\n",
              "      <td>155</td>\n",
              "    </tr>\n",
              "    <tr>\n",
              "      <th>VIREMENT</th>\n",
              "      <td>23</td>\n",
              "    </tr>\n",
              "    <tr>\n",
              "      <th>CARTE L'EPICERIE DEMBAS</th>\n",
              "      <td>16</td>\n",
              "    </tr>\n",
              "    <tr>\n",
              "      <th>RETRAIT</th>\n",
              "      <td>9</td>\n",
              "    </tr>\n",
              "    <tr>\n",
              "      <th>DON</th>\n",
              "      <td>7</td>\n",
              "    </tr>\n",
              "    <tr>\n",
              "      <th></th>\n",
              "      <td>1</td>\n",
              "    </tr>\n",
              "    <tr>\n",
              "      <th>PRELEVEMENT</th>\n",
              "      <td>1</td>\n",
              "    </tr>\n",
              "  </tbody>\n",
              "</table>\n",
              "</div><br><label><b>dtype:</b> int64</label>"
            ]
          },
          "metadata": {},
          "execution_count": 315
        }
      ]
    },
    {
      "cell_type": "markdown",
      "source": [
        "I notice that most of the 'libelle' in the 'Autre' category are \"CARTE\". Therefore, I need to fill the empty 'libelle' values with 'CARTE'."
      ],
      "metadata": {
        "id": "hFPGiJmv4rxG"
      }
    },
    {
      "cell_type": "code",
      "source": [
        "# Fill empty 'libelle' values with 'CARTE'\n",
        "op.loc[op['libelle'] == \"\", 'libelle'] = 'CARTE'"
      ],
      "metadata": {
        "id": "3vfPtWQq5j-Q"
      },
      "execution_count": null,
      "outputs": []
    },
    {
      "cell_type": "code",
      "source": [
        "#Cheking\n",
        "unique_values = op['libelle'].unique()\n",
        "for value in unique_values:\n",
        "    print(value)"
      ],
      "metadata": {
        "colab": {
          "base_uri": "https://localhost:8080/"
        },
        "id": "djcZyjvr661u",
        "outputId": "e60e093a-5402-46f0-fe87-212a646e3858"
      },
      "execution_count": null,
      "outputs": [
        {
          "output_type": "stream",
          "name": "stdout",
          "text": [
            "DON\n",
            "CARTE RAPT\n",
            "VIREMENT\n",
            "CARTE\n",
            "PRELEVEMENT TELEPHONE\n",
            "CARTE LES ANCIENS ROBINSON\n",
            "FORFAIT COMPTE SUPERBANK\n",
            "CARTE CHEZ LUC\n",
            "CARTE VELOC\n",
            "VIREMENT PERMANENT LOYER\n",
            "RETRAIT\n",
            "CARTE L'EPICERIE DEMBAS\n",
            "CARTE LA LOUVE\n",
            "CARTE TOUPTIPRI\n",
            "CARTE LA CCNCF\n",
            "PRELEVEMENT\n"
          ]
        }
      ]
    },
    {
      "cell_type": "markdown",
      "source": [
        "#Variable Representation"
      ],
      "metadata": {
        "id": "YDufcLFC2uWN"
      }
    },
    {
      "cell_type": "markdown",
      "source": [
        "<h2>The Empirical Distribution of Qualitative Variables :"
      ],
      "metadata": {
        "id": "VDCnTzgA9Udy"
      }
    },
    {
      "cell_type": "code",
      "source": [
        "# Diagramme en secteurs\n",
        "op[\"categ\"].value_counts(normalize=True).plot(kind='pie')\n",
        "plt.axis('equal')\n",
        "plt.show()"
      ],
      "metadata": {
        "colab": {
          "base_uri": "https://localhost:8080/",
          "height": 413
        },
        "id": "R_2U01J17qhf",
        "outputId": "4d007ae7-082a-41a2-b77e-6d5540a9740d"
      },
      "execution_count": null,
      "outputs": [
        {
          "output_type": "display_data",
          "data": {
            "text/plain": [
              "<Figure size 640x480 with 1 Axes>"
            ],
            "image/png": "[encoded data removed]"
          },
          "metadata": {}
        }
      ]
    },
    {
      "cell_type": "code",
      "source": [
        "# Diagramme en tuyaux d'orgues\n",
        "op[\"categ\"].value_counts(normalize=True).plot(kind='bar')\n",
        "plt.show()"
      ],
      "metadata": {
        "colab": {
          "base_uri": "https://localhost:8080/",
          "height": 595
        },
        "id": "wwHPE6tb8FH8",
        "outputId": "1531a5a2-1cd1-4de1-96d7-d55d53b9395b"
      },
      "execution_count": null,
      "outputs": [
        {
          "output_type": "display_data",
          "data": {
            "text/plain": [
              "<Figure size 640x480 with 1 Axes>"
            ],
            "image/png": "[encoded data removed]"
          },
          "metadata": {}
        }
      ]
    },
    {
      "cell_type": "markdown",
      "source": [
        "<h2>The Empirical Distribution of Quantitative Variables :"
      ],
      "metadata": {
        "id": "qXqFon4H8ipx"
      }
    },
    {
      "cell_type": "markdown",
      "source": [
        "<h3>Discrete Variables"
      ],
      "metadata": {
        "id": "lEWStBF08x2N"
      }
    },
    {
      "cell_type": "code",
      "source": [
        "op['quart_mois'] = [int((jour-1)*4/31)+1 for jour in op[\"date_operation\"].dt.day]"
      ],
      "metadata": {
        "id": "M2qrhTa_8hsW"
      },
      "execution_count": null,
      "outputs": []
    },
    {
      "cell_type": "code",
      "source": [
        "op[\"quart_mois\"].value_counts(normalize= True ).plot(kind='bar',width=0.1)\n",
        "plt.show()"
      ],
      "metadata": {
        "colab": {
          "base_uri": "https://localhost:8080/",
          "height": 444
        },
        "id": "uE9Qi71p8J60",
        "outputId": "6250fbf8-1d0b-4fc0-e0cb-23a440e66cc9"
      },
      "execution_count": null,
      "outputs": [
        {
          "output_type": "display_data",
          "data": {
            "text/plain": [
              "<Figure size 640x480 with 1 Axes>"
            ],
            "image/png": "[encoded data removed]"
          },
          "metadata": {}
        }
      ]
    },
    {
      "cell_type": "markdown",
      "source": [
        "<h3>Continuous Variables"
      ],
      "metadata": {
        "id": "gUxY6-af-UWF"
      }
    },
    {
      "cell_type": "code",
      "source": [
        "# Histogramme\n",
        "op[\"montant\"].hist(density=True)\n",
        "plt.show()"
      ],
      "metadata": {
        "colab": {
          "base_uri": "https://localhost:8080/",
          "height": 430
        },
        "id": "hiLibPQB-WkL",
        "outputId": "fe0dca94-c15c-4cdc-c5d7-b65c5d8e4146"
      },
      "execution_count": null,
      "outputs": [
        {
          "output_type": "display_data",
          "data": {
            "text/plain": [
              "<Figure size 640x480 with 1 Axes>"
            ],
            "image/png": "[encoded data removed]"
          },
          "metadata": {}
        }
      ]
    },
    {
      "cell_type": "code",
      "source": [
        "# For better visualization\n",
        "op[op['montant'].abs() < 100]['montant'].hist(density=True, bins=20, grid=False, edgecolor='black')\n",
        "plt.show()"
      ],
      "metadata": {
        "colab": {
          "base_uri": "https://localhost:8080/",
          "height": 430
        },
        "id": "qJtv-j0h-oS3",
        "outputId": "7ce58ad6-598f-4054-bb69-bac696166fae"
      },
      "execution_count": null,
      "outputs": [
        {
          "output_type": "display_data",
          "data": {
            "text/plain": [
              "<Figure size 640x480 with 1 Axes>"
            ],
            "image/png": "[encoded data removed]"
          },
          "metadata": {}
        }
      ]
    },
    {
      "cell_type": "markdown",
      "source": [
        "<h3>Represent the variables in tabular form"
      ],
      "metadata": {
        "id": "_Emp6uHT_nyP"
      }
    },
    {
      "cell_type": "code",
      "source": [
        "effectifs = op[\"quart_mois\"].value_counts()\n",
        "# The index of effectifs contains the modalities\n",
        "modalites = effectifs.index\n",
        "\n",
        "# Creating the table from the modalities\n",
        "tab = pd.DataFrame(modalites, columns=[\"quart_mois\"])\n",
        "tab[\"n\"] = effectifs.values\n",
        "\n",
        "# len(data) returns the sample size\n",
        "tab[\"f\"] = tab[\"n\"] / len(op)\n",
        "tab"
      ],
      "metadata": {
        "colab": {
          "base_uri": "https://localhost:8080/",
          "height": 175
        },
        "id": "uCRauicyAN-u",
        "outputId": "270b029c-65c8-460d-8162-107c67d26f51"
      },
      "execution_count": null,
      "outputs": [
        {
          "output_type": "execute_result",
          "data": {
            "text/plain": [
              "   quart_mois   n         f\n",
              "0           1  86  0.278317\n",
              "1           2  76  0.245955\n",
              "2           3  75  0.242718\n",
              "3           4  72  0.233010"
            ],
            "text/html": [
              "\n",
              "  <div id=\"df-025cdbe4-d54b-4e98-a40d-79a40ce391b6\" class=\"colab-df-container\">\n",
              "    <div>\n",
              "<style scoped>\n",
              "    .dataframe tbody tr th:only-of-type {\n",
              "        vertical-align: middle;\n",
              "    }\n",
              "\n",
              "    .dataframe tbody tr th {\n",
              "        vertical-align: top;\n",
              "    }\n",
              "\n",
              "    .dataframe thead th {\n",
              "        text-align: right;\n",
              "    }\n",
              "</style>\n",
              "<table border=\"1\" class=\"dataframe\">\n",
              "  <thead>\n",
              "    <tr style=\"text-align: right;\">\n",
              "      <th></th>\n",
              "      <th>quart_mois</th>\n",
              "      <th>n</th>\n",
              "      <th>f</th>\n",
              "    </tr>\n",
              "  </thead>\n",
              "  <tbody>\n",
              "    <tr>\n",
              "      <th>0</th>\n",
              "      <td>1</td>\n",
              "      <td>86</td>\n",
              "      <td>0.278317</td>\n",
              "    </tr>\n",
              "    <tr>\n",
              "      <th>1</th>\n",
              "      <td>2</td>\n",
              "      <td>76</td>\n",
              "      <td>0.245955</td>\n",
              "    </tr>\n",
              "    <tr>\n",
              "      <th>2</th>\n",
              "      <td>3</td>\n",
              "      <td>75</td>\n",
              "      <td>0.242718</td>\n",
              "    </tr>\n",
              "    <tr>\n",
              "      <th>3</th>\n",
              "      <td>4</td>\n",
              "      <td>72</td>\n",
              "      <td>0.233010</td>\n",
              "    </tr>\n",
              "  </tbody>\n",
              "</table>\n",
              "</div>\n",
              "    <div class=\"colab-df-buttons\">\n",
              "\n",
              "  <div class=\"colab-df-container\">\n",
              "    <button class=\"colab-df-convert\" onclick=\"convertToInteractive('df-025cdbe4-d54b-4e98-a40d-79a40ce391b6')\"\n",
              "            title=\"Convert this dataframe to an interactive table.\"\n",
              "            style=\"display:none;\">\n",
              "\n",
              "  <svg xmlns=\"http://www.w3.org/2000/svg\" height=\"24px\" viewBox=\"0 -960 960 960\">\n",
              "    <path d=\"M120-120v-720h720v720H120Zm60-500h600v-160H180v160Zm220 220h160v-160H400v160Zm0 220h160v-160H400v160ZM180-400h160v-160H180v160Zm440 0h160v-160H620v160ZM180-180h160v-160H180v160Zm440 0h160v-160H620v160Z\"/>\n",
              "  </svg>\n",
              "    </button>\n",
              "\n",
              "  <style>\n",
              "    .colab-df-container {\n",
              "      display:flex;\n",
              "      gap: 12px;\n",
              "    }\n",
              "\n",
              "    .colab-df-convert {\n",
              "      background-color: #E8F0FE;\n",
              "      border: none;\n",
              "      border-radius: 50%;\n",
              "      cursor: pointer;\n",
              "      display: none;\n",
              "      fill: #1967D2;\n",
              "      height: 32px;\n",
              "      padding: 0 0 0 0;\n",
              "      width: 32px;\n",
              "    }\n",
              "\n",
              "    .colab-df-convert:hover {\n",
              "      background-color: #E2EBFA;\n",
              "      box-shadow: 0px 1px 2px rgba(60, 64, 67, 0.3), 0px 1px 3px 1px rgba(60, 64, 67, 0.15);\n",
              "      fill: #174EA6;\n",
              "    }\n",
              "\n",
              "    .colab-df-buttons div {\n",
              "      margin-bottom: 4px;\n",
              "    }\n",
              "\n",
              "    [theme=dark] .colab-df-convert {\n",
              "      background-color: #3B4455;\n",
              "      fill: #D2E3FC;\n",
              "    }\n",
              "\n",
              "    [theme=dark] .colab-df-convert:hover {\n",
              "      background-color: #434B5C;\n",
              "      box-shadow: 0px 1px 3px 1px rgba(0, 0, 0, 0.15);\n",
              "      filter: drop-shadow(0px 1px 2px rgba(0, 0, 0, 0.3));\n",
              "      fill: #FFFFFF;\n",
              "    }\n",
              "  </style>\n",
              "\n",
              "    <script>\n",
              "      const buttonEl =\n",
              "        document.querySelector('#df-025cdbe4-d54b-4e98-a40d-79a40ce391b6 button.colab-df-convert');\n",
              "      buttonEl.style.display =\n",
              "        google.colab.kernel.accessAllowed ? 'block' : 'none';\n",
              "\n",
              "      async function convertToInteractive(key) {\n",
              "        const element = document.querySelector('#df-025cdbe4-d54b-4e98-a40d-79a40ce391b6');\n",
              "        const dataTable =\n",
              "          await google.colab.kernel.invokeFunction('convertToInteractive',\n",
              "                                                    [key], {});\n",
              "        if (!dataTable) return;\n",
              "\n",
              "        const docLinkHtml = 'Like what you see? Visit the ' +\n",
              "          '<a target=\"_blank\" href=https://colab.research.google.com/notebooks/data_table.ipynb>data table notebook</a>'\n",
              "          + ' to learn more about interactive tables.';\n",
              "        element.innerHTML = '';\n",
              "        dataTable['output_type'] = 'display_data';\n",
              "        await google.colab.output.renderOutput(dataTable, element);\n",
              "        const docLink = document.createElement('div');\n",
              "        docLink.innerHTML = docLinkHtml;\n",
              "        element.appendChild(docLink);\n",
              "      }\n",
              "    </script>\n",
              "  </div>\n",
              "\n",
              "\n",
              "<div id=\"df-0900223a-96b5-4884-9060-50902d7b9acf\">\n",
              "  <button class=\"colab-df-quickchart\" onclick=\"quickchart('df-0900223a-96b5-4884-9060-50902d7b9acf')\"\n",
              "            title=\"Suggest charts\"\n",
              "            style=\"display:none;\">\n",
              "\n",
              "<svg xmlns=\"http://www.w3.org/2000/svg\" height=\"24px\"viewBox=\"0 0 24 24\"\n",
              "     width=\"24px\">\n",
              "    <g>\n",
              "        <path d=\"M19 3H5c-1.1 0-2 .9-2 2v14c0 1.1.9 2 2 2h14c1.1 0 2-.9 2-2V5c0-1.1-.9-2-2-2zM9 17H7v-7h2v7zm4 0h-2V7h2v10zm4 0h-2v-4h2v4z\"/>\n",
              "    </g>\n",
              "</svg>\n",
              "  </button>\n",
              "\n",
              "<style>\n",
              "  .colab-df-quickchart {\n",
              "      --bg-color: #E8F0FE;\n",
              "      --fill-color: #1967D2;\n",
              "      --hover-bg-color: #E2EBFA;\n",
              "      --hover-fill-color: #174EA6;\n",
              "      --disabled-fill-color: #AAA;\n",
              "      --disabled-bg-color: #DDD;\n",
              "  }\n",
              "\n",
              "  [theme=dark] .colab-df-quickchart {\n",
              "      --bg-color: #3B4455;\n",
              "      --fill-color: #D2E3FC;\n",
              "      --hover-bg-color: #434B5C;\n",
              "      --hover-fill-color: #FFFFFF;\n",
              "      --disabled-bg-color: #3B4455;\n",
              "      --disabled-fill-color: #666;\n",
              "  }\n",
              "\n",
              "  .colab-df-quickchart {\n",
              "    background-color: var(--bg-color);\n",
              "    border: none;\n",
              "    border-radius: 50%;\n",
              "    cursor: pointer;\n",
              "    display: none;\n",
              "    fill: var(--fill-color);\n",
              "    height: 32px;\n",
              "    padding: 0;\n",
              "    width: 32px;\n",
              "  }\n",
              "\n",
              "  .colab-df-quickchart:hover {\n",
              "    background-color: var(--hover-bg-color);\n",
              "    box-shadow: 0 1px 2px rgba(60, 64, 67, 0.3), 0 1px 3px 1px rgba(60, 64, 67, 0.15);\n",
              "    fill: var(--button-hover-fill-color);\n",
              "  }\n",
              "\n",
              "  .colab-df-quickchart-complete:disabled,\n",
              "  .colab-df-quickchart-complete:disabled:hover {\n",
              "    background-color: var(--disabled-bg-color);\n",
              "    fill: var(--disabled-fill-color);\n",
              "    box-shadow: none;\n",
              "  }\n",
              "\n",
              "  .colab-df-spinner {\n",
              "    border: 2px solid var(--fill-color);\n",
              "    border-color: transparent;\n",
              "    border-bottom-color: var(--fill-color);\n",
              "    animation:\n",
              "      spin 1s steps(1) infinite;\n",
              "  }\n",
              "\n",
              "  @keyframes spin {\n",
              "    0% {\n",
              "      border-color: transparent;\n",
              "      border-bottom-color: var(--fill-color);\n",
              "      border-left-color: var(--fill-color);\n",
              "    }\n",
              "    20% {\n",
              "      border-color: transparent;\n",
              "      border-left-color: var(--fill-color);\n",
              "      border-top-color: var(--fill-color);\n",
              "    }\n",
              "    30% {\n",
              "      border-color: transparent;\n",
              "      border-left-color: var(--fill-color);\n",
              "      border-top-color: var(--fill-color);\n",
              "      border-right-color: var(--fill-color);\n",
              "    }\n",
              "    40% {\n",
              "      border-color: transparent;\n",
              "      border-right-color: var(--fill-color);\n",
              "      border-top-color: var(--fill-color);\n",
              "    }\n",
              "    60% {\n",
              "      border-color: transparent;\n",
              "      border-right-color: var(--fill-color);\n",
              "    }\n",
              "    80% {\n",
              "      border-color: transparent;\n",
              "      border-right-color: var(--fill-color);\n",
              "      border-bottom-color: var(--fill-color);\n",
              "    }\n",
              "    90% {\n",
              "      border-color: transparent;\n",
              "      border-bottom-color: var(--fill-color);\n",
              "    }\n",
              "  }\n",
              "</style>\n",
              "\n",
              "  <script>\n",
              "    async function quickchart(key) {\n",
              "      const quickchartButtonEl =\n",
              "        document.querySelector('#' + key + ' button');\n",
              "      quickchartButtonEl.disabled = true;  // To prevent multiple clicks.\n",
              "      quickchartButtonEl.classList.add('colab-df-spinner');\n",
              "      try {\n",
              "        const charts = await google.colab.kernel.invokeFunction(\n",
              "            'suggestCharts', [key], {});\n",
              "      } catch (error) {\n",
              "        console.error('Error during call to suggestCharts:', error);\n",
              "      }\n",
              "      quickchartButtonEl.classList.remove('colab-df-spinner');\n",
              "      quickchartButtonEl.classList.add('colab-df-quickchart-complete');\n",
              "    }\n",
              "    (() => {\n",
              "      let quickchartButtonEl =\n",
              "        document.querySelector('#df-0900223a-96b5-4884-9060-50902d7b9acf button');\n",
              "      quickchartButtonEl.style.display =\n",
              "        google.colab.kernel.accessAllowed ? 'block' : 'none';\n",
              "    })();\n",
              "  </script>\n",
              "</div>\n",
              "\n",
              "  <div id=\"id_cc0d4c17-9c02-4212-8928-fc1c94629190\">\n",
              "    <style>\n",
              "      .colab-df-generate {\n",
              "        background-color: #E8F0FE;\n",
              "        border: none;\n",
              "        border-radius: 50%;\n",
              "        cursor: pointer;\n",
              "        display: none;\n",
              "        fill: #1967D2;\n",
              "        height: 32px;\n",
              "        padding: 0 0 0 0;\n",
              "        width: 32px;\n",
              "      }\n",
              "\n",
              "      .colab-df-generate:hover {\n",
              "        background-color: #E2EBFA;\n",
              "        box-shadow: 0px 1px 2px rgba(60, 64, 67, 0.3), 0px 1px 3px 1px rgba(60, 64, 67, 0.15);\n",
              "        fill: #174EA6;\n",
              "      }\n",
              "\n",
              "      [theme=dark] .colab-df-generate {\n",
              "        background-color: #3B4455;\n",
              "        fill: #D2E3FC;\n",
              "      }\n",
              "\n",
              "      [theme=dark] .colab-df-generate:hover {\n",
              "        background-color: #434B5C;\n",
              "        box-shadow: 0px 1px 3px 1px rgba(0, 0, 0, 0.15);\n",
              "        filter: drop-shadow(0px 1px 2px rgba(0, 0, 0, 0.3));\n",
              "        fill: #FFFFFF;\n",
              "      }\n",
              "    </style>\n",
              "    <button class=\"colab-df-generate\" onclick=\"generateWithVariable('tab')\"\n",
              "            title=\"Generate code using this dataframe.\"\n",
              "            style=\"display:none;\">\n",
              "\n",
              "  <svg xmlns=\"http://www.w3.org/2000/svg\" height=\"24px\"viewBox=\"0 0 24 24\"\n",
              "       width=\"24px\">\n",
              "    <path d=\"M7,19H8.4L18.45,9,17,7.55,7,17.6ZM5,21V16.75L18.45,3.32a2,2,0,0,1,2.83,0l1.4,1.43a1.91,1.91,0,0,1,.58,1.4,1.91,1.91,0,0,1-.58,1.4L9.25,21ZM18.45,9,17,7.55Zm-12,3A5.31,5.31,0,0,0,4.9,8.1,5.31,5.31,0,0,0,1,6.5,5.31,5.31,0,0,0,4.9,4.9,5.31,5.31,0,0,0,6.5,1,5.31,5.31,0,0,0,8.1,4.9,5.31,5.31,0,0,0,12,6.5,5.46,5.46,0,0,0,6.5,12Z\"/>\n",
              "  </svg>\n",
              "    </button>\n",
              "    <script>\n",
              "      (() => {\n",
              "      const buttonEl =\n",
              "        document.querySelector('#id_cc0d4c17-9c02-4212-8928-fc1c94629190 button.colab-df-generate');\n",
              "      buttonEl.style.display =\n",
              "        google.colab.kernel.accessAllowed ? 'block' : 'none';\n",
              "\n",
              "      buttonEl.onclick = () => {\n",
              "        google.colab.notebook.generateWithVariable('tab');\n",
              "      }\n",
              "      })();\n",
              "    </script>\n",
              "  </div>\n",
              "\n",
              "    </div>\n",
              "  </div>\n"
            ],
            "application/vnd.google.colaboratory.intrinsic+json": {
              "type": "dataframe",
              "variable_name": "tab",
              "summary": "{\n  \"name\": \"tab\",\n  \"rows\": 4,\n  \"fields\": [\n    {\n      \"column\": \"quart_mois\",\n      \"properties\": {\n        \"dtype\": \"number\",\n        \"std\": 1,\n        \"min\": 1,\n        \"max\": 4,\n        \"num_unique_values\": 4,\n        \"samples\": [\n          2,\n          4,\n          1\n        ],\n        \"semantic_type\": \"\",\n        \"description\": \"\"\n      }\n    },\n    {\n      \"column\": \"n\",\n      \"properties\": {\n        \"dtype\": \"number\",\n        \"std\": 6,\n        \"min\": 72,\n        \"max\": 86,\n        \"num_unique_values\": 4,\n        \"samples\": [\n          76,\n          72,\n          86\n        ],\n        \"semantic_type\": \"\",\n        \"description\": \"\"\n      }\n    },\n    {\n      \"column\": \"f\",\n      \"properties\": {\n        \"dtype\": \"number\",\n        \"std\": 0.019663134987657167,\n        \"min\": 0.23300970873786409,\n        \"max\": 0.2783171521035599,\n        \"num_unique_values\": 4,\n        \"samples\": [\n          0.2459546925566343,\n          0.23300970873786409,\n          0.2783171521035599\n        ],\n        \"semantic_type\": \"\",\n        \"description\": \"\"\n      }\n    }\n  ]\n}"
            }
          },
          "metadata": {},
          "execution_count": 324
        }
      ]
    },
    {
      "cell_type": "code",
      "source": [
        "# Sorting the values of variable X (in ascending order)\n",
        "tab = tab.sort_values(\"quart_mois\")\n",
        "# cumsum calculates the cumulative sum\n",
        "tab[\"F\"] = tab[\"f\"].cumsum()\n",
        "tab"
      ],
      "metadata": {
        "colab": {
          "base_uri": "https://localhost:8080/",
          "height": 175
        },
        "id": "RIVClag8AgTX",
        "outputId": "75b366da-f7e8-4551-d149-71d2a0a31553"
      },
      "execution_count": null,
      "outputs": [
        {
          "output_type": "execute_result",
          "data": {
            "text/plain": [
              "   quart_mois   n         f         F\n",
              "0           1  86  0.278317  0.278317\n",
              "1           2  76  0.245955  0.524272\n",
              "2           3  75  0.242718  0.766990\n",
              "3           4  72  0.233010  1.000000"
            ],
            "text/html": [
              "\n",
              "  <div id=\"df-5a5d1870-7518-4669-a2bc-9a0c2cdaab25\" class=\"colab-df-container\">\n",
              "    <div>\n",
              "<style scoped>\n",
              "    .dataframe tbody tr th:only-of-type {\n",
              "        vertical-align: middle;\n",
              "    }\n",
              "\n",
              "    .dataframe tbody tr th {\n",
              "        vertical-align: top;\n",
              "    }\n",
              "\n",
              "    .dataframe thead th {\n",
              "        text-align: right;\n",
              "    }\n",
              "</style>\n",
              "<table border=\"1\" class=\"dataframe\">\n",
              "  <thead>\n",
              "    <tr style=\"text-align: right;\">\n",
              "      <th></th>\n",
              "      <th>quart_mois</th>\n",
              "      <th>n</th>\n",
              "      <th>f</th>\n",
              "      <th>F</th>\n",
              "    </tr>\n",
              "  </thead>\n",
              "  <tbody>\n",
              "    <tr>\n",
              "      <th>0</th>\n",
              "      <td>1</td>\n",
              "      <td>86</td>\n",
              "      <td>0.278317</td>\n",
              "      <td>0.278317</td>\n",
              "    </tr>\n",
              "    <tr>\n",
              "      <th>1</th>\n",
              "      <td>2</td>\n",
              "      <td>76</td>\n",
              "      <td>0.245955</td>\n",
              "      <td>0.524272</td>\n",
              "    </tr>\n",
              "    <tr>\n",
              "      <th>2</th>\n",
              "      <td>3</td>\n",
              "      <td>75</td>\n",
              "      <td>0.242718</td>\n",
              "      <td>0.766990</td>\n",
              "    </tr>\n",
              "    <tr>\n",
              "      <th>3</th>\n",
              "      <td>4</td>\n",
              "      <td>72</td>\n",
              "      <td>0.233010</td>\n",
              "      <td>1.000000</td>\n",
              "    </tr>\n",
              "  </tbody>\n",
              "</table>\n",
              "</div>\n",
              "    <div class=\"colab-df-buttons\">\n",
              "\n",
              "  <div class=\"colab-df-container\">\n",
              "    <button class=\"colab-df-convert\" onclick=\"convertToInteractive('df-5a5d1870-7518-4669-a2bc-9a0c2cdaab25')\"\n",
              "            title=\"Convert this dataframe to an interactive table.\"\n",
              "            style=\"display:none;\">\n",
              "\n",
              "  <svg xmlns=\"http://www.w3.org/2000/svg\" height=\"24px\" viewBox=\"0 -960 960 960\">\n",
              "    <path d=\"M120-120v-720h720v720H120Zm60-500h600v-160H180v160Zm220 220h160v-160H400v160Zm0 220h160v-160H400v160ZM180-400h160v-160H180v160Zm440 0h160v-160H620v160ZM180-180h160v-160H180v160Zm440 0h160v-160H620v160Z\"/>\n",
              "  </svg>\n",
              "    </button>\n",
              "\n",
              "  <style>\n",
              "    .colab-df-container {\n",
              "      display:flex;\n",
              "      gap: 12px;\n",
              "    }\n",
              "\n",
              "    .colab-df-convert {\n",
              "      background-color: #E8F0FE;\n",
              "      border: none;\n",
              "      border-radius: 50%;\n",
              "      cursor: pointer;\n",
              "      display: none;\n",
              "      fill: #1967D2;\n",
              "      height: 32px;\n",
              "      padding: 0 0 0 0;\n",
              "      width: 32px;\n",
              "    }\n",
              "\n",
              "    .colab-df-convert:hover {\n",
              "      background-color: #E2EBFA;\n",
              "      box-shadow: 0px 1px 2px rgba(60, 64, 67, 0.3), 0px 1px 3px 1px rgba(60, 64, 67, 0.15);\n",
              "      fill: #174EA6;\n",
              "    }\n",
              "\n",
              "    .colab-df-buttons div {\n",
              "      margin-bottom: 4px;\n",
              "    }\n",
              "\n",
              "    [theme=dark] .colab-df-convert {\n",
              "      background-color: #3B4455;\n",
              "      fill: #D2E3FC;\n",
              "    }\n",
              "\n",
              "    [theme=dark] .colab-df-convert:hover {\n",
              "      background-color: #434B5C;\n",
              "      box-shadow: 0px 1px 3px 1px rgba(0, 0, 0, 0.15);\n",
              "      filter: drop-shadow(0px 1px 2px rgba(0, 0, 0, 0.3));\n",
              "      fill: #FFFFFF;\n",
              "    }\n",
              "  </style>\n",
              "\n",
              "    <script>\n",
              "      const buttonEl =\n",
              "        document.querySelector('#df-5a5d1870-7518-4669-a2bc-9a0c2cdaab25 button.colab-df-convert');\n",
              "      buttonEl.style.display =\n",
              "        google.colab.kernel.accessAllowed ? 'block' : 'none';\n",
              "\n",
              "      async function convertToInteractive(key) {\n",
              "        const element = document.querySelector('#df-5a5d1870-7518-4669-a2bc-9a0c2cdaab25');\n",
              "        const dataTable =\n",
              "          await google.colab.kernel.invokeFunction('convertToInteractive',\n",
              "                                                    [key], {});\n",
              "        if (!dataTable) return;\n",
              "\n",
              "        const docLinkHtml = 'Like what you see? Visit the ' +\n",
              "          '<a target=\"_blank\" href=https://colab.research.google.com/notebooks/data_table.ipynb>data table notebook</a>'\n",
              "          + ' to learn more about interactive tables.';\n",
              "        element.innerHTML = '';\n",
              "        dataTable['output_type'] = 'display_data';\n",
              "        await google.colab.output.renderOutput(dataTable, element);\n",
              "        const docLink = document.createElement('div');\n",
              "        docLink.innerHTML = docLinkHtml;\n",
              "        element.appendChild(docLink);\n",
              "      }\n",
              "    </script>\n",
              "  </div>\n",
              "\n",
              "\n",
              "<div id=\"df-e1a55c01-2a98-4771-afcb-da0e2ac06000\">\n",
              "  <button class=\"colab-df-quickchart\" onclick=\"quickchart('df-e1a55c01-2a98-4771-afcb-da0e2ac06000')\"\n",
              "            title=\"Suggest charts\"\n",
              "            style=\"display:none;\">\n",
              "\n",
              "<svg xmlns=\"http://www.w3.org/2000/svg\" height=\"24px\"viewBox=\"0 0 24 24\"\n",
              "     width=\"24px\">\n",
              "    <g>\n",
              "        <path d=\"M19 3H5c-1.1 0-2 .9-2 2v14c0 1.1.9 2 2 2h14c1.1 0 2-.9 2-2V5c0-1.1-.9-2-2-2zM9 17H7v-7h2v7zm4 0h-2V7h2v10zm4 0h-2v-4h2v4z\"/>\n",
              "    </g>\n",
              "</svg>\n",
              "  </button>\n",
              "\n",
              "<style>\n",
              "  .colab-df-quickchart {\n",
              "      --bg-color: #E8F0FE;\n",
              "      --fill-color: #1967D2;\n",
              "      --hover-bg-color: #E2EBFA;\n",
              "      --hover-fill-color: #174EA6;\n",
              "      --disabled-fill-color: #AAA;\n",
              "      --disabled-bg-color: #DDD;\n",
              "  }\n",
              "\n",
              "  [theme=dark] .colab-df-quickchart {\n",
              "      --bg-color: #3B4455;\n",
              "      --fill-color: #D2E3FC;\n",
              "      --hover-bg-color: #434B5C;\n",
              "      --hover-fill-color: #FFFFFF;\n",
              "      --disabled-bg-color: #3B4455;\n",
              "      --disabled-fill-color: #666;\n",
              "  }\n",
              "\n",
              "  .colab-df-quickchart {\n",
              "    background-color: var(--bg-color);\n",
              "    border: none;\n",
              "    border-radius: 50%;\n",
              "    cursor: pointer;\n",
              "    display: none;\n",
              "    fill: var(--fill-color);\n",
              "    height: 32px;\n",
              "    padding: 0;\n",
              "    width: 32px;\n",
              "  }\n",
              "\n",
              "  .colab-df-quickchart:hover {\n",
              "    background-color: var(--hover-bg-color);\n",
              "    box-shadow: 0 1px 2px rgba(60, 64, 67, 0.3), 0 1px 3px 1px rgba(60, 64, 67, 0.15);\n",
              "    fill: var(--button-hover-fill-color);\n",
              "  }\n",
              "\n",
              "  .colab-df-quickchart-complete:disabled,\n",
              "  .colab-df-quickchart-complete:disabled:hover {\n",
              "    background-color: var(--disabled-bg-color);\n",
              "    fill: var(--disabled-fill-color);\n",
              "    box-shadow: none;\n",
              "  }\n",
              "\n",
              "  .colab-df-spinner {\n",
              "    border: 2px solid var(--fill-color);\n",
              "    border-color: transparent;\n",
              "    border-bottom-color: var(--fill-color);\n",
              "    animation:\n",
              "      spin 1s steps(1) infinite;\n",
              "  }\n",
              "\n",
              "  @keyframes spin {\n",
              "    0% {\n",
              "      border-color: transparent;\n",
              "      border-bottom-color: var(--fill-color);\n",
              "      border-left-color: var(--fill-color);\n",
              "    }\n",
              "    20% {\n",
              "      border-color: transparent;\n",
              "      border-left-color: var(--fill-color);\n",
              "      border-top-color: var(--fill-color);\n",
              "    }\n",
              "    30% {\n",
              "      border-color: transparent;\n",
              "      border-left-color: var(--fill-color);\n",
              "      border-top-color: var(--fill-color);\n",
              "      border-right-color: var(--fill-color);\n",
              "    }\n",
              "    40% {\n",
              "      border-color: transparent;\n",
              "      border-right-color: var(--fill-color);\n",
              "      border-top-color: var(--fill-color);\n",
              "    }\n",
              "    60% {\n",
              "      border-color: transparent;\n",
              "      border-right-color: var(--fill-color);\n",
              "    }\n",
              "    80% {\n",
              "      border-color: transparent;\n",
              "      border-right-color: var(--fill-color);\n",
              "      border-bottom-color: var(--fill-color);\n",
              "    }\n",
              "    90% {\n",
              "      border-color: transparent;\n",
              "      border-bottom-color: var(--fill-color);\n",
              "    }\n",
              "  }\n",
              "</style>\n",
              "\n",
              "  <script>\n",
              "    async function quickchart(key) {\n",
              "      const quickchartButtonEl =\n",
              "        document.querySelector('#' + key + ' button');\n",
              "      quickchartButtonEl.disabled = true;  // To prevent multiple clicks.\n",
              "      quickchartButtonEl.classList.add('colab-df-spinner');\n",
              "      try {\n",
              "        const charts = await google.colab.kernel.invokeFunction(\n",
              "            'suggestCharts', [key], {});\n",
              "      } catch (error) {\n",
              "        console.error('Error during call to suggestCharts:', error);\n",
              "      }\n",
              "      quickchartButtonEl.classList.remove('colab-df-spinner');\n",
              "      quickchartButtonEl.classList.add('colab-df-quickchart-complete');\n",
              "    }\n",
              "    (() => {\n",
              "      let quickchartButtonEl =\n",
              "        document.querySelector('#df-e1a55c01-2a98-4771-afcb-da0e2ac06000 button');\n",
              "      quickchartButtonEl.style.display =\n",
              "        google.colab.kernel.accessAllowed ? 'block' : 'none';\n",
              "    })();\n",
              "  </script>\n",
              "</div>\n",
              "\n",
              "  <div id=\"id_4fff84a1-8ebf-4e2c-892c-efa9c1deb46a\">\n",
              "    <style>\n",
              "      .colab-df-generate {\n",
              "        background-color: #E8F0FE;\n",
              "        border: none;\n",
              "        border-radius: 50%;\n",
              "        cursor: pointer;\n",
              "        display: none;\n",
              "        fill: #1967D2;\n",
              "        height: 32px;\n",
              "        padding: 0 0 0 0;\n",
              "        width: 32px;\n",
              "      }\n",
              "\n",
              "      .colab-df-generate:hover {\n",
              "        background-color: #E2EBFA;\n",
              "        box-shadow: 0px 1px 2px rgba(60, 64, 67, 0.3), 0px 1px 3px 1px rgba(60, 64, 67, 0.15);\n",
              "        fill: #174EA6;\n",
              "      }\n",
              "\n",
              "      [theme=dark] .colab-df-generate {\n",
              "        background-color: #3B4455;\n",
              "        fill: #D2E3FC;\n",
              "      }\n",
              "\n",
              "      [theme=dark] .colab-df-generate:hover {\n",
              "        background-color: #434B5C;\n",
              "        box-shadow: 0px 1px 3px 1px rgba(0, 0, 0, 0.15);\n",
              "        filter: drop-shadow(0px 1px 2px rgba(0, 0, 0, 0.3));\n",
              "        fill: #FFFFFF;\n",
              "      }\n",
              "    </style>\n",
              "    <button class=\"colab-df-generate\" onclick=\"generateWithVariable('tab')\"\n",
              "            title=\"Generate code using this dataframe.\"\n",
              "            style=\"display:none;\">\n",
              "\n",
              "  <svg xmlns=\"http://www.w3.org/2000/svg\" height=\"24px\"viewBox=\"0 0 24 24\"\n",
              "       width=\"24px\">\n",
              "    <path d=\"M7,19H8.4L18.45,9,17,7.55,7,17.6ZM5,21V16.75L18.45,3.32a2,2,0,0,1,2.83,0l1.4,1.43a1.91,1.91,0,0,1,.58,1.4,1.91,1.91,0,0,1-.58,1.4L9.25,21ZM18.45,9,17,7.55Zm-12,3A5.31,5.31,0,0,0,4.9,8.1,5.31,5.31,0,0,0,1,6.5,5.31,5.31,0,0,0,4.9,4.9,5.31,5.31,0,0,0,6.5,1,5.31,5.31,0,0,0,8.1,4.9,5.31,5.31,0,0,0,12,6.5,5.46,5.46,0,0,0,6.5,12Z\"/>\n",
              "  </svg>\n",
              "    </button>\n",
              "    <script>\n",
              "      (() => {\n",
              "      const buttonEl =\n",
              "        document.querySelector('#id_4fff84a1-8ebf-4e2c-892c-efa9c1deb46a button.colab-df-generate');\n",
              "      buttonEl.style.display =\n",
              "        google.colab.kernel.accessAllowed ? 'block' : 'none';\n",
              "\n",
              "      buttonEl.onclick = () => {\n",
              "        google.colab.notebook.generateWithVariable('tab');\n",
              "      }\n",
              "      })();\n",
              "    </script>\n",
              "  </div>\n",
              "\n",
              "    </div>\n",
              "  </div>\n"
            ],
            "application/vnd.google.colaboratory.intrinsic+json": {
              "type": "dataframe",
              "variable_name": "tab",
              "summary": "{\n  \"name\": \"tab\",\n  \"rows\": 4,\n  \"fields\": [\n    {\n      \"column\": \"quart_mois\",\n      \"properties\": {\n        \"dtype\": \"number\",\n        \"std\": 1,\n        \"min\": 1,\n        \"max\": 4,\n        \"num_unique_values\": 4,\n        \"samples\": [\n          2,\n          4,\n          1\n        ],\n        \"semantic_type\": \"\",\n        \"description\": \"\"\n      }\n    },\n    {\n      \"column\": \"n\",\n      \"properties\": {\n        \"dtype\": \"number\",\n        \"std\": 6,\n        \"min\": 72,\n        \"max\": 86,\n        \"num_unique_values\": 4,\n        \"samples\": [\n          76,\n          72,\n          86\n        ],\n        \"semantic_type\": \"\",\n        \"description\": \"\"\n      }\n    },\n    {\n      \"column\": \"f\",\n      \"properties\": {\n        \"dtype\": \"number\",\n        \"std\": 0.019663134987657167,\n        \"min\": 0.23300970873786409,\n        \"max\": 0.2783171521035599,\n        \"num_unique_values\": 4,\n        \"samples\": [\n          0.2459546925566343,\n          0.23300970873786409,\n          0.2783171521035599\n        ],\n        \"semantic_type\": \"\",\n        \"description\": \"\"\n      }\n    },\n    {\n      \"column\": \"F\",\n      \"properties\": {\n        \"dtype\": \"number\",\n        \"std\": 0.3108649662827388,\n        \"min\": 0.2783171521035599,\n        \"max\": 1.0,\n        \"num_unique_values\": 4,\n        \"samples\": [\n          0.5242718446601942,\n          1.0,\n          0.2783171521035599\n        ],\n        \"semantic_type\": \"\",\n        \"description\": \"\"\n      }\n    }\n  ]\n}"
            }
          },
          "metadata": {},
          "execution_count": 325
        }
      ]
    },
    {
      "cell_type": "markdown",
      "source": [
        "<h2>Measures of central tendency"
      ],
      "metadata": {
        "id": "4B1Ss5cuA8un"
      }
    },
    {
      "cell_type": "markdown",
      "source": [
        "<h3>Mode"
      ],
      "metadata": {
        "id": "zJPcA9KKBAvI"
      }
    },
    {
      "cell_type": "code",
      "source": [
        "op[\"montant\"].mode()"
      ],
      "metadata": {
        "colab": {
          "base_uri": "https://localhost:8080/",
          "height": 115
        },
        "id": "aHH_EioXBElF",
        "outputId": "16f4f9ab-5b19-47e7-ad92-209f2f1624c1"
      },
      "execution_count": null,
      "outputs": [
        {
          "output_type": "execute_result",
          "data": {
            "text/plain": [
              "0   -1.6\n",
              "Name: montant, dtype: float64"
            ],
            "text/html": [
              "<div>\n",
              "<style scoped>\n",
              "    .dataframe tbody tr th:only-of-type {\n",
              "        vertical-align: middle;\n",
              "    }\n",
              "\n",
              "    .dataframe tbody tr th {\n",
              "        vertical-align: top;\n",
              "    }\n",
              "\n",
              "    .dataframe thead th {\n",
              "        text-align: right;\n",
              "    }\n",
              "</style>\n",
              "<table border=\"1\" class=\"dataframe\">\n",
              "  <thead>\n",
              "    <tr style=\"text-align: right;\">\n",
              "      <th></th>\n",
              "      <th>montant</th>\n",
              "    </tr>\n",
              "  </thead>\n",
              "  <tbody>\n",
              "    <tr>\n",
              "      <th>0</th>\n",
              "      <td>-1.6</td>\n",
              "    </tr>\n",
              "  </tbody>\n",
              "</table>\n",
              "</div><br><label><b>dtype:</b> float64</label>"
            ]
          },
          "metadata": {},
          "execution_count": 326
        }
      ]
    },
    {
      "cell_type": "markdown",
      "source": [
        "<h3>Median"
      ],
      "metadata": {
        "id": "KbU38ZHkBIKV"
      }
    },
    {
      "cell_type": "code",
      "source": [
        "op[\"montant\"].median()"
      ],
      "metadata": {
        "colab": {
          "base_uri": "https://localhost:8080/"
        },
        "id": "xY_8ZnHKA-7_",
        "outputId": "3653e778-1dbe-4dff-9bde-596b90475d66"
      },
      "execution_count": null,
      "outputs": [
        {
          "output_type": "execute_result",
          "data": {
            "text/plain": [
              "-9.6"
            ]
          },
          "metadata": {},
          "execution_count": 327
        }
      ]
    },
    {
      "cell_type": "markdown",
      "source": [
        "<h3>Mean"
      ],
      "metadata": {
        "id": "5ozh3YSrBP2g"
      }
    },
    {
      "cell_type": "code",
      "source": [
        "op[\"montant\"].mean()"
      ],
      "metadata": {
        "colab": {
          "base_uri": "https://localhost:8080/"
        },
        "id": "B93lMb5iBSAQ",
        "outputId": "bfde628c-f168-4bf2-e164-0ab4abe56f81"
      },
      "execution_count": null,
      "outputs": [
        {
          "output_type": "execute_result",
          "data": {
            "text/plain": [
              "-46.907702265372166"
            ]
          },
          "metadata": {},
          "execution_count": 328
        }
      ]
    },
    {
      "cell_type": "code",
      "source": [
        "# Displaying\n",
        "print(f\"The mode of the operation amounts is: {op['montant'].mode()[0]:.2f} €\")\n",
        "print(f\"The median of the operation amounts is: {op['montant'].median():.2f} €\")\n",
        "print(f\"The mean of the operation amounts is: {op['montant'].mean():.2f} €\")"
      ],
      "metadata": {
        "colab": {
          "base_uri": "https://localhost:8080/"
        },
        "id": "l2YsQhXfCCgP",
        "outputId": "86436062-97ef-4dfe-fcaf-b845c4960d4a"
      },
      "execution_count": null,
      "outputs": [
        {
          "output_type": "stream",
          "name": "stdout",
          "text": [
            "The mode of the operation amounts is: -1.60 €\n",
            "The median of the operation amounts is: -9.60 €\n",
            "The mean of the operation amounts is: -46.91 €\n"
          ]
        }
      ]
    },
    {
      "cell_type": "markdown",
      "source": [
        "The operation amounts exhibit significant variability: some expenses (negative amounts) can be substantial, such as rent, while others are typically small, like groceries and phone bills. In contrast, income entries (positive amounts) are infrequent but can also be significant. As a result, interpreting the mean is challenging because it is highly influenced by outliers.\n",
        "\n",
        "So, I will group the data by category and calculate it again to better understand."
      ],
      "metadata": {
        "id": "y5uYSPACD7Yg"
      }
    },
    {
      "cell_type": "code",
      "source": [
        "# Group data by category and calculate the mean, median, and mode\n",
        "for categ in op['categ'].unique():\n",
        "    subset = op[op['categ'] == categ]\n",
        "    mean_amount = subset['montant'].mean()\n",
        "    median_amount = subset['montant'].median()\n",
        "    mode_amount = subset['montant'].mode()\n",
        "\n",
        "    print(f\"For the category {categ}:\")\n",
        "    print(f\"  Mean of the amounts: {mean_amount:.2f} €\")\n",
        "    print(f\"  Median of the amounts: {median_amount:.2f} €\")\n",
        "    print(f\"  Mode of the amounts: {mode_amount[0]:.2f} €\")\n",
        "\n",
        "    print()\n"
      ],
      "metadata": {
        "colab": {
          "base_uri": "https://localhost:8080/"
        },
        "id": "axvF4bhsEWZq",
        "outputId": "db8563aa-a7ec-4683-d4f9-ac8bf0272d02"
      },
      "execution_count": null,
      "outputs": [
        {
          "output_type": "stream",
          "name": "stdout",
          "text": [
            "For the category AUTRE:\n",
            "  Mean of the amounts: -48.99 €\n",
            "  Median of the amounts: -8.31 €\n",
            "  Mode of the amounts: -1.60 €\n",
            "\n",
            "For the category TRANSPORT:\n",
            "  Mean of the amounts: -53.00 €\n",
            "  Median of the amounts: -53.10 €\n",
            "  Mode of the amounts: -73.00 €\n",
            "\n",
            "For the category FACTURE TELEPHONE:\n",
            "  Mean of the amounts: -12.05 €\n",
            "  Median of the amounts: -7.02 €\n",
            "  Mode of the amounts: -7.02 €\n",
            "\n",
            "For the category COURSES:\n",
            "  Mean of the amounts: -16.59 €\n",
            "  Median of the amounts: -12.37 €\n",
            "  Mode of the amounts: -32.67 €\n",
            "\n",
            "For the category COTISATION BANCAIRE:\n",
            "  Mean of the amounts: -1.89 €\n",
            "  Median of the amounts: -1.92 €\n",
            "  Mode of the amounts: -1.92 €\n",
            "\n",
            "For the category RESTAURANT:\n",
            "  Mean of the amounts: -10.33 €\n",
            "  Median of the amounts: -10.10 €\n",
            "  Mode of the amounts: -9.20 €\n",
            "\n",
            "For the category LOYER:\n",
            "  Mean of the amounts: -345.00 €\n",
            "  Median of the amounts: -345.00 €\n",
            "  Mode of the amounts: -345.00 €\n",
            "\n"
          ]
        }
      ]
    },
    {
      "cell_type": "code",
      "source": [
        "#For better visualisation\n",
        "results = []\n",
        "for categ in op['categ'].unique():\n",
        "    subset = op[op['categ'] == categ]\n",
        "    mean_amount = subset['montant'].mean()\n",
        "    median_amount = subset['montant'].median()\n",
        "    mode_amount = subset['montant'].mode()\n",
        "\n",
        "    # Append the results as a dictionary\n",
        "    results.append({\n",
        "        'Category': categ,\n",
        "        'Mean (€)': mean_amount,\n",
        "        'Median (€)': median_amount,\n",
        "        'Mode (€)': mode_amount[0]\n",
        "    })\n",
        "\n",
        "results_df = pd.DataFrame(results)\n",
        "results_df"
      ],
      "metadata": {
        "colab": {
          "base_uri": "https://localhost:8080/",
          "height": 269
        },
        "id": "ajZu3ouvFEvo",
        "outputId": "1c1a229d-2e0b-4ab7-c2e3-c0e10595688b"
      },
      "execution_count": null,
      "outputs": [
        {
          "output_type": "execute_result",
          "data": {
            "text/plain": [
              "              Category    Mean (€)  Median (€)  Mode (€)\n",
              "0                AUTRE  -48.986462      -8.310     -1.60\n",
              "1            TRANSPORT  -52.997143     -53.100    -73.00\n",
              "2    FACTURE TELEPHONE  -12.045714      -7.020     -7.02\n",
              "3              COURSES  -16.589250     -12.365    -32.67\n",
              "4  COTISATION BANCAIRE   -1.885714      -1.920     -1.92\n",
              "5           RESTAURANT  -10.332500     -10.100     -9.20\n",
              "6                LOYER -345.000000    -345.000   -345.00"
            ],
            "text/html": [
              "\n",
              "  <div id=\"df-0d821ad5-ef3e-473e-80be-ad9e28fec6ef\" class=\"colab-df-container\">\n",
              "    <div>\n",
              "<style scoped>\n",
              "    .dataframe tbody tr th:only-of-type {\n",
              "        vertical-align: middle;\n",
              "    }\n",
              "\n",
              "    .dataframe tbody tr th {\n",
              "        vertical-align: top;\n",
              "    }\n",
              "\n",
              "    .dataframe thead th {\n",
              "        text-align: right;\n",
              "    }\n",
              "</style>\n",
              "<table border=\"1\" class=\"dataframe\">\n",
              "  <thead>\n",
              "    <tr style=\"text-align: right;\">\n",
              "      <th></th>\n",
              "      <th>Category</th>\n",
              "      <th>Mean (€)</th>\n",
              "      <th>Median (€)</th>\n",
              "      <th>Mode (€)</th>\n",
              "    </tr>\n",
              "  </thead>\n",
              "  <tbody>\n",
              "    <tr>\n",
              "      <th>0</th>\n",
              "      <td>AUTRE</td>\n",
              "      <td>-48.986462</td>\n",
              "      <td>-8.310</td>\n",
              "      <td>-1.60</td>\n",
              "    </tr>\n",
              "    <tr>\n",
              "      <th>1</th>\n",
              "      <td>TRANSPORT</td>\n",
              "      <td>-52.997143</td>\n",
              "      <td>-53.100</td>\n",
              "      <td>-73.00</td>\n",
              "    </tr>\n",
              "    <tr>\n",
              "      <th>2</th>\n",
              "      <td>FACTURE TELEPHONE</td>\n",
              "      <td>-12.045714</td>\n",
              "      <td>-7.020</td>\n",
              "      <td>-7.02</td>\n",
              "    </tr>\n",
              "    <tr>\n",
              "      <th>3</th>\n",
              "      <td>COURSES</td>\n",
              "      <td>-16.589250</td>\n",
              "      <td>-12.365</td>\n",
              "      <td>-32.67</td>\n",
              "    </tr>\n",
              "    <tr>\n",
              "      <th>4</th>\n",
              "      <td>COTISATION BANCAIRE</td>\n",
              "      <td>-1.885714</td>\n",
              "      <td>-1.920</td>\n",
              "      <td>-1.92</td>\n",
              "    </tr>\n",
              "    <tr>\n",
              "      <th>5</th>\n",
              "      <td>RESTAURANT</td>\n",
              "      <td>-10.332500</td>\n",
              "      <td>-10.100</td>\n",
              "      <td>-9.20</td>\n",
              "    </tr>\n",
              "    <tr>\n",
              "      <th>6</th>\n",
              "      <td>LOYER</td>\n",
              "      <td>-345.000000</td>\n",
              "      <td>-345.000</td>\n",
              "      <td>-345.00</td>\n",
              "    </tr>\n",
              "  </tbody>\n",
              "</table>\n",
              "</div>\n",
              "    <div class=\"colab-df-buttons\">\n",
              "\n",
              "  <div class=\"colab-df-container\">\n",
              "    <button class=\"colab-df-convert\" onclick=\"convertToInteractive('df-0d821ad5-ef3e-473e-80be-ad9e28fec6ef')\"\n",
              "            title=\"Convert this dataframe to an interactive table.\"\n",
              "            style=\"display:none;\">\n",
              "\n",
              "  <svg xmlns=\"http://www.w3.org/2000/svg\" height=\"24px\" viewBox=\"0 -960 960 960\">\n",
              "    <path d=\"M120-120v-720h720v720H120Zm60-500h600v-160H180v160Zm220 220h160v-160H400v160Zm0 220h160v-160H400v160ZM180-400h160v-160H180v160Zm440 0h160v-160H620v160ZM180-180h160v-160H180v160Zm440 0h160v-160H620v160Z\"/>\n",
              "  </svg>\n",
              "    </button>\n",
              "\n",
              "  <style>\n",
              "    .colab-df-container {\n",
              "      display:flex;\n",
              "      gap: 12px;\n",
              "    }\n",
              "\n",
              "    .colab-df-convert {\n",
              "      background-color: #E8F0FE;\n",
              "      border: none;\n",
              "      border-radius: 50%;\n",
              "      cursor: pointer;\n",
              "      display: none;\n",
              "      fill: #1967D2;\n",
              "      height: 32px;\n",
              "      padding: 0 0 0 0;\n",
              "      width: 32px;\n",
              "    }\n",
              "\n",
              "    .colab-df-convert:hover {\n",
              "      background-color: #E2EBFA;\n",
              "      box-shadow: 0px 1px 2px rgba(60, 64, 67, 0.3), 0px 1px 3px 1px rgba(60, 64, 67, 0.15);\n",
              "      fill: #174EA6;\n",
              "    }\n",
              "\n",
              "    .colab-df-buttons div {\n",
              "      margin-bottom: 4px;\n",
              "    }\n",
              "\n",
              "    [theme=dark] .colab-df-convert {\n",
              "      background-color: #3B4455;\n",
              "      fill: #D2E3FC;\n",
              "    }\n",
              "\n",
              "    [theme=dark] .colab-df-convert:hover {\n",
              "      background-color: #434B5C;\n",
              "      box-shadow: 0px 1px 3px 1px rgba(0, 0, 0, 0.15);\n",
              "      filter: drop-shadow(0px 1px 2px rgba(0, 0, 0, 0.3));\n",
              "      fill: #FFFFFF;\n",
              "    }\n",
              "  </style>\n",
              "\n",
              "    <script>\n",
              "      const buttonEl =\n",
              "        document.querySelector('#df-0d821ad5-ef3e-473e-80be-ad9e28fec6ef button.colab-df-convert');\n",
              "      buttonEl.style.display =\n",
              "        google.colab.kernel.accessAllowed ? 'block' : 'none';\n",
              "\n",
              "      async function convertToInteractive(key) {\n",
              "        const element = document.querySelector('#df-0d821ad5-ef3e-473e-80be-ad9e28fec6ef');\n",
              "        const dataTable =\n",
              "          await google.colab.kernel.invokeFunction('convertToInteractive',\n",
              "                                                    [key], {});\n",
              "        if (!dataTable) return;\n",
              "\n",
              "        const docLinkHtml = 'Like what you see? Visit the ' +\n",
              "          '<a target=\"_blank\" href=https://colab.research.google.com/notebooks/data_table.ipynb>data table notebook</a>'\n",
              "          + ' to learn more about interactive tables.';\n",
              "        element.innerHTML = '';\n",
              "        dataTable['output_type'] = 'display_data';\n",
              "        await google.colab.output.renderOutput(dataTable, element);\n",
              "        const docLink = document.createElement('div');\n",
              "        docLink.innerHTML = docLinkHtml;\n",
              "        element.appendChild(docLink);\n",
              "      }\n",
              "    </script>\n",
              "  </div>\n",
              "\n",
              "\n",
              "<div id=\"df-59d53761-ebbe-41a0-9df7-70bc915e192c\">\n",
              "  <button class=\"colab-df-quickchart\" onclick=\"quickchart('df-59d53761-ebbe-41a0-9df7-70bc915e192c')\"\n",
              "            title=\"Suggest charts\"\n",
              "            style=\"display:none;\">\n",
              "\n",
              "<svg xmlns=\"http://www.w3.org/2000/svg\" height=\"24px\"viewBox=\"0 0 24 24\"\n",
              "     width=\"24px\">\n",
              "    <g>\n",
              "        <path d=\"M19 3H5c-1.1 0-2 .9-2 2v14c0 1.1.9 2 2 2h14c1.1 0 2-.9 2-2V5c0-1.1-.9-2-2-2zM9 17H7v-7h2v7zm4 0h-2V7h2v10zm4 0h-2v-4h2v4z\"/>\n",
              "    </g>\n",
              "</svg>\n",
              "  </button>\n",
              "\n",
              "<style>\n",
              "  .colab-df-quickchart {\n",
              "      --bg-color: #E8F0FE;\n",
              "      --fill-color: #1967D2;\n",
              "      --hover-bg-color: #E2EBFA;\n",
              "      --hover-fill-color: #174EA6;\n",
              "      --disabled-fill-color: #AAA;\n",
              "      --disabled-bg-color: #DDD;\n",
              "  }\n",
              "\n",
              "  [theme=dark] .colab-df-quickchart {\n",
              "      --bg-color: #3B4455;\n",
              "      --fill-color: #D2E3FC;\n",
              "      --hover-bg-color: #434B5C;\n",
              "      --hover-fill-color: #FFFFFF;\n",
              "      --disabled-bg-color: #3B4455;\n",
              "      --disabled-fill-color: #666;\n",
              "  }\n",
              "\n",
              "  .colab-df-quickchart {\n",
              "    background-color: var(--bg-color);\n",
              "    border: none;\n",
              "    border-radius: 50%;\n",
              "    cursor: pointer;\n",
              "    display: none;\n",
              "    fill: var(--fill-color);\n",
              "    height: 32px;\n",
              "    padding: 0;\n",
              "    width: 32px;\n",
              "  }\n",
              "\n",
              "  .colab-df-quickchart:hover {\n",
              "    background-color: var(--hover-bg-color);\n",
              "    box-shadow: 0 1px 2px rgba(60, 64, 67, 0.3), 0 1px 3px 1px rgba(60, 64, 67, 0.15);\n",
              "    fill: var(--button-hover-fill-color);\n",
              "  }\n",
              "\n",
              "  .colab-df-quickchart-complete:disabled,\n",
              "  .colab-df-quickchart-complete:disabled:hover {\n",
              "    background-color: var(--disabled-bg-color);\n",
              "    fill: var(--disabled-fill-color);\n",
              "    box-shadow: none;\n",
              "  }\n",
              "\n",
              "  .colab-df-spinner {\n",
              "    border: 2px solid var(--fill-color);\n",
              "    border-color: transparent;\n",
              "    border-bottom-color: var(--fill-color);\n",
              "    animation:\n",
              "      spin 1s steps(1) infinite;\n",
              "  }\n",
              "\n",
              "  @keyframes spin {\n",
              "    0% {\n",
              "      border-color: transparent;\n",
              "      border-bottom-color: var(--fill-color);\n",
              "      border-left-color: var(--fill-color);\n",
              "    }\n",
              "    20% {\n",
              "      border-color: transparent;\n",
              "      border-left-color: var(--fill-color);\n",
              "      border-top-color: var(--fill-color);\n",
              "    }\n",
              "    30% {\n",
              "      border-color: transparent;\n",
              "      border-left-color: var(--fill-color);\n",
              "      border-top-color: var(--fill-color);\n",
              "      border-right-color: var(--fill-color);\n",
              "    }\n",
              "    40% {\n",
              "      border-color: transparent;\n",
              "      border-right-color: var(--fill-color);\n",
              "      border-top-color: var(--fill-color);\n",
              "    }\n",
              "    60% {\n",
              "      border-color: transparent;\n",
              "      border-right-color: var(--fill-color);\n",
              "    }\n",
              "    80% {\n",
              "      border-color: transparent;\n",
              "      border-right-color: var(--fill-color);\n",
              "      border-bottom-color: var(--fill-color);\n",
              "    }\n",
              "    90% {\n",
              "      border-color: transparent;\n",
              "      border-bottom-color: var(--fill-color);\n",
              "    }\n",
              "  }\n",
              "</style>\n",
              "\n",
              "  <script>\n",
              "    async function quickchart(key) {\n",
              "      const quickchartButtonEl =\n",
              "        document.querySelector('#' + key + ' button');\n",
              "      quickchartButtonEl.disabled = true;  // To prevent multiple clicks.\n",
              "      quickchartButtonEl.classList.add('colab-df-spinner');\n",
              "      try {\n",
              "        const charts = await google.colab.kernel.invokeFunction(\n",
              "            'suggestCharts', [key], {});\n",
              "      } catch (error) {\n",
              "        console.error('Error during call to suggestCharts:', error);\n",
              "      }\n",
              "      quickchartButtonEl.classList.remove('colab-df-spinner');\n",
              "      quickchartButtonEl.classList.add('colab-df-quickchart-complete');\n",
              "    }\n",
              "    (() => {\n",
              "      let quickchartButtonEl =\n",
              "        document.querySelector('#df-59d53761-ebbe-41a0-9df7-70bc915e192c button');\n",
              "      quickchartButtonEl.style.display =\n",
              "        google.colab.kernel.accessAllowed ? 'block' : 'none';\n",
              "    })();\n",
              "  </script>\n",
              "</div>\n",
              "\n",
              "  <div id=\"id_0ef88547-343c-4fe6-b513-adb443146f8b\">\n",
              "    <style>\n",
              "      .colab-df-generate {\n",
              "        background-color: #E8F0FE;\n",
              "        border: none;\n",
              "        border-radius: 50%;\n",
              "        cursor: pointer;\n",
              "        display: none;\n",
              "        fill: #1967D2;\n",
              "        height: 32px;\n",
              "        padding: 0 0 0 0;\n",
              "        width: 32px;\n",
              "      }\n",
              "\n",
              "      .colab-df-generate:hover {\n",
              "        background-color: #E2EBFA;\n",
              "        box-shadow: 0px 1px 2px rgba(60, 64, 67, 0.3), 0px 1px 3px 1px rgba(60, 64, 67, 0.15);\n",
              "        fill: #174EA6;\n",
              "      }\n",
              "\n",
              "      [theme=dark] .colab-df-generate {\n",
              "        background-color: #3B4455;\n",
              "        fill: #D2E3FC;\n",
              "      }\n",
              "\n",
              "      [theme=dark] .colab-df-generate:hover {\n",
              "        background-color: #434B5C;\n",
              "        box-shadow: 0px 1px 3px 1px rgba(0, 0, 0, 0.15);\n",
              "        filter: drop-shadow(0px 1px 2px rgba(0, 0, 0, 0.3));\n",
              "        fill: #FFFFFF;\n",
              "      }\n",
              "    </style>\n",
              "    <button class=\"colab-df-generate\" onclick=\"generateWithVariable('results_df')\"\n",
              "            title=\"Generate code using this dataframe.\"\n",
              "            style=\"display:none;\">\n",
              "\n",
              "  <svg xmlns=\"http://www.w3.org/2000/svg\" height=\"24px\"viewBox=\"0 0 24 24\"\n",
              "       width=\"24px\">\n",
              "    <path d=\"M7,19H8.4L18.45,9,17,7.55,7,17.6ZM5,21V16.75L18.45,3.32a2,2,0,0,1,2.83,0l1.4,1.43a1.91,1.91,0,0,1,.58,1.4,1.91,1.91,0,0,1-.58,1.4L9.25,21ZM18.45,9,17,7.55Zm-12,3A5.31,5.31,0,0,0,4.9,8.1,5.31,5.31,0,0,0,1,6.5,5.31,5.31,0,0,0,4.9,4.9,5.31,5.31,0,0,0,6.5,1,5.31,5.31,0,0,0,8.1,4.9,5.31,5.31,0,0,0,12,6.5,5.46,5.46,0,0,0,6.5,12Z\"/>\n",
              "  </svg>\n",
              "    </button>\n",
              "    <script>\n",
              "      (() => {\n",
              "      const buttonEl =\n",
              "        document.querySelector('#id_0ef88547-343c-4fe6-b513-adb443146f8b button.colab-df-generate');\n",
              "      buttonEl.style.display =\n",
              "        google.colab.kernel.accessAllowed ? 'block' : 'none';\n",
              "\n",
              "      buttonEl.onclick = () => {\n",
              "        google.colab.notebook.generateWithVariable('results_df');\n",
              "      }\n",
              "      })();\n",
              "    </script>\n",
              "  </div>\n",
              "\n",
              "    </div>\n",
              "  </div>\n"
            ],
            "application/vnd.google.colaboratory.intrinsic+json": {
              "type": "dataframe",
              "variable_name": "results_df",
              "summary": "{\n  \"name\": \"results_df\",\n  \"rows\": 7,\n  \"fields\": [\n    {\n      \"column\": \"Category\",\n      \"properties\": {\n        \"dtype\": \"string\",\n        \"num_unique_values\": 7,\n        \"samples\": [\n          \"AUTRE\",\n          \"TRANSPORT\",\n          \"RESTAURANT\"\n        ],\n        \"semantic_type\": \"\",\n        \"description\": \"\"\n      }\n    },\n    {\n      \"column\": \"Mean (\\u20ac)\",\n      \"properties\": {\n        \"dtype\": \"number\",\n        \"std\": 122.9946959163583,\n        \"min\": -345.0,\n        \"max\": -1.8857142857142857,\n        \"num_unique_values\": 7,\n        \"samples\": [\n          -48.98646226415094,\n          -52.99714285714286,\n          -10.3325\n        ],\n        \"semantic_type\": \"\",\n        \"description\": \"\"\n      }\n    },\n    {\n      \"column\": \"Median (\\u20ac)\",\n      \"properties\": {\n        \"dtype\": \"number\",\n        \"std\": 125.7235041337405,\n        \"min\": -345.0,\n        \"max\": -1.92,\n        \"num_unique_values\": 7,\n        \"samples\": [\n          -8.31,\n          -53.1,\n          -10.1\n        ],\n        \"semantic_type\": \"\",\n        \"description\": \"\"\n      }\n    },\n    {\n      \"column\": \"Mode (\\u20ac)\",\n      \"properties\": {\n        \"dtype\": \"number\",\n        \"std\": 125.13277727126115,\n        \"min\": -345.0,\n        \"max\": -1.6,\n        \"num_unique_values\": 7,\n        \"samples\": [\n          -1.6,\n          -73.0,\n          -9.2\n        ],\n        \"semantic_type\": \"\",\n        \"description\": \"\"\n      }\n    }\n  ]\n}"
            }
          },
          "metadata": {},
          "execution_count": 331
        }
      ]
    },
    {
      "cell_type": "markdown",
      "source": [
        "###Interpretations:\n",
        "**AUTRE:** The amounts show a lot of variation. The high mean suggests that a few large transactions are influencing the average, while the median and mode indicate most transactions are smaller.\n",
        "\n",
        "**TRANSPORT:** The amounts are consistent, with the mean and median close together.\n",
        "\n",
        "**FACTURE TELEPHONE:** The amounts are uniform, with the mean, median, and mode being nearly identical. This indicates stable telephone bills.\n",
        "\n",
        "**COURSES: **Grocery expenses vary somewhat, with a higher mean than median. This suggests a few large purchases are affecting the average, while the mode indicates frequent smaller transactions.\n",
        "\n",
        "**COTISATION BANCAIRE:** The amounts are consistent, with nearly the same mean, median, and mode. This suggests stable banking fees.\n",
        "\n",
        "**RESTAURANT:** Restaurant expenses are also consistent, with similar mean, median, and mode values, indicating stable dining costs.\n",
        "\n",
        "**LOYER:** Rent amounts are identical for mean, median, and mode, reflecting fixed rent payments with no variation."
      ],
      "metadata": {
        "id": "wDlkFGsPG9PH"
      }
    },
    {
      "cell_type": "markdown",
      "source": [
        "<h2>Measures of Dispersion"
      ],
      "metadata": {
        "id": "yxb__b3EITnP"
      }
    },
    {
      "cell_type": "markdown",
      "source": [
        "<H3>The Empirical Variance"
      ],
      "metadata": {
        "id": "lRJ0GoDeITyR"
      }
    },
    {
      "cell_type": "code",
      "source": [
        "op[\"montant\"].var()"
      ],
      "metadata": {
        "colab": {
          "base_uri": "https://localhost:8080/"
        },
        "id": "NRxFYYZ7ITL8",
        "outputId": "a9916be8-914c-4c9a-887c-6fa05ac94c3c"
      },
      "execution_count": null,
      "outputs": [
        {
          "output_type": "execute_result",
          "data": {
            "text/plain": [
              "759695.8254119105"
            ]
          },
          "metadata": {},
          "execution_count": 332
        }
      ]
    },
    {
      "cell_type": "code",
      "source": [
        "variance_corrected = op[\"montant\"].var(ddof=1)\n",
        "print(f\"The corrected empirical variance is: {variance_corrected:.2f}\")\n"
      ],
      "metadata": {
        "colab": {
          "base_uri": "https://localhost:8080/"
        },
        "id": "a55glLsyIcRT",
        "outputId": "89caef29-7b0d-46a9-8d11-8dc197820198"
      },
      "execution_count": null,
      "outputs": [
        {
          "output_type": "stream",
          "name": "stdout",
          "text": [
            "The corrected empirical variance is: 759695.83\n"
          ]
        }
      ]
    },
    {
      "cell_type": "markdown",
      "source": [
        "<h3>The Empirical Standard Deviation : (L'écart-type)"
      ],
      "metadata": {
        "id": "ZZlJ9usNIXaO"
      }
    },
    {
      "cell_type": "code",
      "source": [
        "op[\"montant\"].std()"
      ],
      "metadata": {
        "colab": {
          "base_uri": "https://localhost:8080/"
        },
        "id": "znDDLopqIFtR",
        "outputId": "3f1c49bb-8b46-4be6-d537-67f0f52550e2"
      },
      "execution_count": null,
      "outputs": [
        {
          "output_type": "execute_result",
          "data": {
            "text/plain": [
              "871.6053151581342"
            ]
          },
          "metadata": {},
          "execution_count": 334
        }
      ]
    },
    {
      "cell_type": "code",
      "source": [
        "# Coefficient of Variation\n",
        "op[\"montant\"].std()/op[\"montant\"].mean()"
      ],
      "metadata": {
        "colab": {
          "base_uri": "https://localhost:8080/"
        },
        "id": "_2qb_vZHIlh7",
        "outputId": "dd7dd832-040c-4012-ec63-fb0b1d78d4ed"
      },
      "execution_count": null,
      "outputs": [
        {
          "output_type": "execute_result",
          "data": {
            "text/plain": [
              "-18.58128352199344"
            ]
          },
          "metadata": {},
          "execution_count": 335
        }
      ]
    },
    {
      "cell_type": "markdown",
      "source": [
        "<h3>The box plot"
      ],
      "metadata": {
        "id": "Mc6Y1uM5KEcS"
      }
    },
    {
      "cell_type": "code",
      "source": [
        "for categ in op['categ'].unique():\n",
        "    subset = op[op['categ'] == categ]\n",
        "\n",
        "    fig, axs = plt.subplots(1, 2, figsize=(12,6))\n",
        "\n",
        "    # Histogram\n",
        "    axs[0].set_title(f\"Histogram of Amounts for Category {categ}\")\n",
        "    subset[subset.montant.abs() < 100][\"montant\"].hist(ax=axs[0], density=True, bins=20,edgecolor='black')\n",
        "\n",
        "    # Boxplot\n",
        "    axs[1].set_title(f\"Boxplot of Amounts for Category {categ}\")\n",
        "    subset.boxplot(column=\"montant\", vert=False, ax=axs[1])\n",
        "\n",
        "    plt.tight_layout()\n",
        "    plt.show()"
      ],
      "metadata": {
        "colab": {
          "base_uri": "https://localhost:8080/",
          "height": 1000
        },
        "id": "oy4dZ5YXNkET",
        "outputId": "d339c94b-b4b9-4fd8-a443-82cc8d4b0077"
      },
      "execution_count": null,
      "outputs": [
        {
          "output_type": "display_data",
          "data": {
            "text/plain": [
              "<Figure size 1200x600 with 2 Axes>"
            ],
            "image/png": "[encoded data removed]"
          },
          "metadata": {}
        },
        {
          "output_type": "display_data",
          "data": {
            "text/plain": [
              "<Figure size 1200x600 with 2 Axes>"
            ],
            "image/png": "[encoded data removed]"
          },
          "metadata": {}
        },
        {
          "output_type": "display_data",
          "data": {
            "text/plain": [
              "<Figure size 1200x600 with 2 Axes>"
            ],
            "image/png": "[encoded data removed]"
          },
          "metadata": {}
        },
        {
          "output_type": "display_data",
          "data": {
            "text/plain": [
              "<Figure size 1200x600 with 2 Axes>"
            ],
            "image/png": "[encoded data removed]"
          },
          "metadata": {}
        },
        {
          "output_type": "display_data",
          "data": {
            "text/plain": [
              "<Figure size 1200x600 with 2 Axes>"
            ],
            "image/png": "[encoded data removed]"
          },
          "metadata": {}
        },
        {
          "output_type": "display_data",
          "data": {
            "text/plain": [
              "<Figure size 1200x600 with 2 Axes>"
            ],
            "image/png": "[encoded data removed]"
          },
          "metadata": {}
        },
        {
          "output_type": "stream",
          "name": "stderr",
          "text": [
            "/usr/local/lib/python3.10/dist-packages/numpy/lib/histograms.py:885: RuntimeWarning: invalid value encountered in divide\n",
            "  return n/db/n.sum(), bin_edges\n"
          ]
        },
        {
          "output_type": "display_data",
          "data": {
            "text/plain": [
              "<Figure size 1200x600 with 2 Axes>"
            ],
            "image/png": "[encoded data removed]"
          },
          "metadata": {}
        }
      ]
    },
    {
      "cell_type": "markdown",
      "source": [
        "**NB** : LOYER : a stable amount"
      ],
      "metadata": {
        "id": "W6UWQ0pJO-s3"
      }
    },
    {
      "cell_type": "markdown",
      "source": [
        "<h2> Measures of shape"
      ],
      "metadata": {
        "id": "nAQm7Y-NPJYF"
      }
    },
    {
      "cell_type": "markdown",
      "source": [
        "<h3>Skewness\n"
      ],
      "metadata": {
        "id": "rHQY0aC0PZil"
      }
    },
    {
      "cell_type": "code",
      "source": [
        "op[\"montant\"].skew()"
      ],
      "metadata": {
        "colab": {
          "base_uri": "https://localhost:8080/"
        },
        "id": "nApqpu9TPdzp",
        "outputId": "7e511746-571d-49f8-e714-1e32e27d5f4b"
      },
      "execution_count": null,
      "outputs": [
        {
          "output_type": "execute_result",
          "data": {
            "text/plain": [
              "-16.466063998302"
            ]
          },
          "metadata": {},
          "execution_count": 337
        }
      ]
    },
    {
      "cell_type": "markdown",
      "source": [
        "As long as the <b>skewness < 0 </b>, the data distribution is skewed to the <b> left</b>. Let's check it."
      ],
      "metadata": {
        "id": "ixRUWUR-zq52"
      }
    },
    {
      "cell_type": "code",
      "source": [
        "skewness = op['montant'].skew()\n",
        "sns.histplot(op['montant'], bins=20, kde=True, color='green')\n",
        "plt.title(f'Skewness ')\n",
        "plt.xlabel('Montant')\n",
        "plt.ylabel('Density')\n",
        "plt.show()"
      ],
      "metadata": {
        "colab": {
          "base_uri": "https://localhost:8080/",
          "height": 54
        },
        "id": "Z92Uax2qRya2",
        "outputId": "68a1c5ec-422e-41a0-c873-ed22eeb8665f"
      },
      "execution_count": null,
      "outputs": [
        {
          "output_type": "display_data",
          "data": {
            "text/plain": [
              "<Figure size 640x480 with 1 Axes>"
            ],
            "image/png": "[encoded data removed]"
          },
          "metadata": {}
        }
      ]
    },
    {
      "cell_type": "code",
      "source": [
        "from scipy.stats import skew\n",
        "SKNEW = []\n",
        "for categ in op['categ'].unique():\n",
        "    subset = op[op['categ'] == categ]\n",
        "    skewness = skew(subset['montant'])\n",
        "\n",
        "    SKNEW.append({\n",
        "        'Catégorie': categ,\n",
        "        'Skewness': skewness,\n",
        "    })\n",
        "SK = pd.DataFrame(SKNEW)\n",
        "SK"
      ],
      "metadata": {
        "colab": {
          "base_uri": "https://localhost:8080/",
          "height": 358
        },
        "id": "69EULfncSmp2",
        "outputId": "aa81f7bb-9b0e-4157-c36f-fc0a57146e57"
      },
      "execution_count": null,
      "outputs": [
        {
          "output_type": "stream",
          "name": "stderr",
          "text": [
            "<ipython-input-339-467c41b259fd>:5: RuntimeWarning: Precision loss occurred in moment calculation due to catastrophic cancellation. This occurs when the data are nearly identical. Results may be unreliable.\n",
            "  skewness = skew(subset['montant'])\n"
          ]
        },
        {
          "output_type": "execute_result",
          "data": {
            "text/plain": [
              "             Catégorie   Skewness\n",
              "0                AUTRE -13.624477\n",
              "1            TRANSPORT  -1.157273\n",
              "2    FACTURE TELEPHONE  -1.842113\n",
              "3              COURSES  -1.148576\n",
              "4  COTISATION BANCAIRE   0.288675\n",
              "5           RESTAURANT  -0.802799\n",
              "6                LOYER        NaN"
            ],
            "text/html": [
              "\n",
              "  <div id=\"df-b35053c3-4790-4044-8f92-31a1d9e96d15\" class=\"colab-df-container\">\n",
              "    <div>\n",
              "<style scoped>\n",
              "    .dataframe tbody tr th:only-of-type {\n",
              "        vertical-align: middle;\n",
              "    }\n",
              "\n",
              "    .dataframe tbody tr th {\n",
              "        vertical-align: top;\n",
              "    }\n",
              "\n",
              "    .dataframe thead th {\n",
              "        text-align: right;\n",
              "    }\n",
              "</style>\n",
              "<table border=\"1\" class=\"dataframe\">\n",
              "  <thead>\n",
              "    <tr style=\"text-align: right;\">\n",
              "      <th></th>\n",
              "      <th>Catégorie</th>\n",
              "      <th>Skewness</th>\n",
              "    </tr>\n",
              "  </thead>\n",
              "  <tbody>\n",
              "    <tr>\n",
              "      <th>0</th>\n",
              "      <td>AUTRE</td>\n",
              "      <td>-13.624477</td>\n",
              "    </tr>\n",
              "    <tr>\n",
              "      <th>1</th>\n",
              "      <td>TRANSPORT</td>\n",
              "      <td>-1.157273</td>\n",
              "    </tr>\n",
              "    <tr>\n",
              "      <th>2</th>\n",
              "      <td>FACTURE TELEPHONE</td>\n",
              "      <td>-1.842113</td>\n",
              "    </tr>\n",
              "    <tr>\n",
              "      <th>3</th>\n",
              "      <td>COURSES</td>\n",
              "      <td>-1.148576</td>\n",
              "    </tr>\n",
              "    <tr>\n",
              "      <th>4</th>\n",
              "      <td>COTISATION BANCAIRE</td>\n",
              "      <td>0.288675</td>\n",
              "    </tr>\n",
              "    <tr>\n",
              "      <th>5</th>\n",
              "      <td>RESTAURANT</td>\n",
              "      <td>-0.802799</td>\n",
              "    </tr>\n",
              "    <tr>\n",
              "      <th>6</th>\n",
              "      <td>LOYER</td>\n",
              "      <td>NaN</td>\n",
              "    </tr>\n",
              "  </tbody>\n",
              "</table>\n",
              "</div>\n",
              "    <div class=\"colab-df-buttons\">\n",
              "\n",
              "  <div class=\"colab-df-container\">\n",
              "    <button class=\"colab-df-convert\" onclick=\"convertToInteractive('df-b35053c3-4790-4044-8f92-31a1d9e96d15')\"\n",
              "            title=\"Convert this dataframe to an interactive table.\"\n",
              "            style=\"display:none;\">\n",
              "\n",
              "  <svg xmlns=\"http://www.w3.org/2000/svg\" height=\"24px\" viewBox=\"0 -960 960 960\">\n",
              "    <path d=\"M120-120v-720h720v720H120Zm60-500h600v-160H180v160Zm220 220h160v-160H400v160Zm0 220h160v-160H400v160ZM180-400h160v-160H180v160Zm440 0h160v-160H620v160ZM180-180h160v-160H180v160Zm440 0h160v-160H620v160Z\"/>\n",
              "  </svg>\n",
              "    </button>\n",
              "\n",
              "  <style>\n",
              "    .colab-df-container {\n",
              "      display:flex;\n",
              "      gap: 12px;\n",
              "    }\n",
              "\n",
              "    .colab-df-convert {\n",
              "      background-color: #E8F0FE;\n",
              "      border: none;\n",
              "      border-radius: 50%;\n",
              "      cursor: pointer;\n",
              "      display: none;\n",
              "      fill: #1967D2;\n",
              "      height: 32px;\n",
              "      padding: 0 0 0 0;\n",
              "      width: 32px;\n",
              "    }\n",
              "\n",
              "    .colab-df-convert:hover {\n",
              "      background-color: #E2EBFA;\n",
              "      box-shadow: 0px 1px 2px rgba(60, 64, 67, 0.3), 0px 1px 3px 1px rgba(60, 64, 67, 0.15);\n",
              "      fill: #174EA6;\n",
              "    }\n",
              "\n",
              "    .colab-df-buttons div {\n",
              "      margin-bottom: 4px;\n",
              "    }\n",
              "\n",
              "    [theme=dark] .colab-df-convert {\n",
              "      background-color: #3B4455;\n",
              "      fill: #D2E3FC;\n",
              "    }\n",
              "\n",
              "    [theme=dark] .colab-df-convert:hover {\n",
              "      background-color: #434B5C;\n",
              "      box-shadow: 0px 1px 3px 1px rgba(0, 0, 0, 0.15);\n",
              "      filter: drop-shadow(0px 1px 2px rgba(0, 0, 0, 0.3));\n",
              "      fill: #FFFFFF;\n",
              "    }\n",
              "  </style>\n",
              "\n",
              "    <script>\n",
              "      const buttonEl =\n",
              "        document.querySelector('#df-b35053c3-4790-4044-8f92-31a1d9e96d15 button.colab-df-convert');\n",
              "      buttonEl.style.display =\n",
              "        google.colab.kernel.accessAllowed ? 'block' : 'none';\n",
              "\n",
              "      async function convertToInteractive(key) {\n",
              "        const element = document.querySelector('#df-b35053c3-4790-4044-8f92-31a1d9e96d15');\n",
              "        const dataTable =\n",
              "          await google.colab.kernel.invokeFunction('convertToInteractive',\n",
              "                                                    [key], {});\n",
              "        if (!dataTable) return;\n",
              "\n",
              "        const docLinkHtml = 'Like what you see? Visit the ' +\n",
              "          '<a target=\"_blank\" href=https://colab.research.google.com/notebooks/data_table.ipynb>data table notebook</a>'\n",
              "          + ' to learn more about interactive tables.';\n",
              "        element.innerHTML = '';\n",
              "        dataTable['output_type'] = 'display_data';\n",
              "        await google.colab.output.renderOutput(dataTable, element);\n",
              "        const docLink = document.createElement('div');\n",
              "        docLink.innerHTML = docLinkHtml;\n",
              "        element.appendChild(docLink);\n",
              "      }\n",
              "    </script>\n",
              "  </div>\n",
              "\n",
              "\n",
              "<div id=\"df-a893aa45-d326-40aa-8163-b01573c40dcd\">\n",
              "  <button class=\"colab-df-quickchart\" onclick=\"quickchart('df-a893aa45-d326-40aa-8163-b01573c40dcd')\"\n",
              "            title=\"Suggest charts\"\n",
              "            style=\"display:none;\">\n",
              "\n",
              "<svg xmlns=\"http://www.w3.org/2000/svg\" height=\"24px\"viewBox=\"0 0 24 24\"\n",
              "     width=\"24px\">\n",
              "    <g>\n",
              "        <path d=\"M19 3H5c-1.1 0-2 .9-2 2v14c0 1.1.9 2 2 2h14c1.1 0 2-.9 2-2V5c0-1.1-.9-2-2-2zM9 17H7v-7h2v7zm4 0h-2V7h2v10zm4 0h-2v-4h2v4z\"/>\n",
              "    </g>\n",
              "</svg>\n",
              "  </button>\n",
              "\n",
              "<style>\n",
              "  .colab-df-quickchart {\n",
              "      --bg-color: #E8F0FE;\n",
              "      --fill-color: #1967D2;\n",
              "      --hover-bg-color: #E2EBFA;\n",
              "      --hover-fill-color: #174EA6;\n",
              "      --disabled-fill-color: #AAA;\n",
              "      --disabled-bg-color: #DDD;\n",
              "  }\n",
              "\n",
              "  [theme=dark] .colab-df-quickchart {\n",
              "      --bg-color: #3B4455;\n",
              "      --fill-color: #D2E3FC;\n",
              "      --hover-bg-color: #434B5C;\n",
              "      --hover-fill-color: #FFFFFF;\n",
              "      --disabled-bg-color: #3B4455;\n",
              "      --disabled-fill-color: #666;\n",
              "  }\n",
              "\n",
              "  .colab-df-quickchart {\n",
              "    background-color: var(--bg-color);\n",
              "    border: none;\n",
              "    border-radius: 50%;\n",
              "    cursor: pointer;\n",
              "    display: none;\n",
              "    fill: var(--fill-color);\n",
              "    height: 32px;\n",
              "    padding: 0;\n",
              "    width: 32px;\n",
              "  }\n",
              "\n",
              "  .colab-df-quickchart:hover {\n",
              "    background-color: var(--hover-bg-color);\n",
              "    box-shadow: 0 1px 2px rgba(60, 64, 67, 0.3), 0 1px 3px 1px rgba(60, 64, 67, 0.15);\n",
              "    fill: var(--button-hover-fill-color);\n",
              "  }\n",
              "\n",
              "  .colab-df-quickchart-complete:disabled,\n",
              "  .colab-df-quickchart-complete:disabled:hover {\n",
              "    background-color: var(--disabled-bg-color);\n",
              "    fill: var(--disabled-fill-color);\n",
              "    box-shadow: none;\n",
              "  }\n",
              "\n",
              "  .colab-df-spinner {\n",
              "    border: 2px solid var(--fill-color);\n",
              "    border-color: transparent;\n",
              "    border-bottom-color: var(--fill-color);\n",
              "    animation:\n",
              "      spin 1s steps(1) infinite;\n",
              "  }\n",
              "\n",
              "  @keyframes spin {\n",
              "    0% {\n",
              "      border-color: transparent;\n",
              "      border-bottom-color: var(--fill-color);\n",
              "      border-left-color: var(--fill-color);\n",
              "    }\n",
              "    20% {\n",
              "      border-color: transparent;\n",
              "      border-left-color: var(--fill-color);\n",
              "      border-top-color: var(--fill-color);\n",
              "    }\n",
              "    30% {\n",
              "      border-color: transparent;\n",
              "      border-left-color: var(--fill-color);\n",
              "      border-top-color: var(--fill-color);\n",
              "      border-right-color: var(--fill-color);\n",
              "    }\n",
              "    40% {\n",
              "      border-color: transparent;\n",
              "      border-right-color: var(--fill-color);\n",
              "      border-top-color: var(--fill-color);\n",
              "    }\n",
              "    60% {\n",
              "      border-color: transparent;\n",
              "      border-right-color: var(--fill-color);\n",
              "    }\n",
              "    80% {\n",
              "      border-color: transparent;\n",
              "      border-right-color: var(--fill-color);\n",
              "      border-bottom-color: var(--fill-color);\n",
              "    }\n",
              "    90% {\n",
              "      border-color: transparent;\n",
              "      border-bottom-color: var(--fill-color);\n",
              "    }\n",
              "  }\n",
              "</style>\n",
              "\n",
              "  <script>\n",
              "    async function quickchart(key) {\n",
              "      const quickchartButtonEl =\n",
              "        document.querySelector('#' + key + ' button');\n",
              "      quickchartButtonEl.disabled = true;  // To prevent multiple clicks.\n",
              "      quickchartButtonEl.classList.add('colab-df-spinner');\n",
              "      try {\n",
              "        const charts = await google.colab.kernel.invokeFunction(\n",
              "            'suggestCharts', [key], {});\n",
              "      } catch (error) {\n",
              "        console.error('Error during call to suggestCharts:', error);\n",
              "      }\n",
              "      quickchartButtonEl.classList.remove('colab-df-spinner');\n",
              "      quickchartButtonEl.classList.add('colab-df-quickchart-complete');\n",
              "    }\n",
              "    (() => {\n",
              "      let quickchartButtonEl =\n",
              "        document.querySelector('#df-a893aa45-d326-40aa-8163-b01573c40dcd button');\n",
              "      quickchartButtonEl.style.display =\n",
              "        google.colab.kernel.accessAllowed ? 'block' : 'none';\n",
              "    })();\n",
              "  </script>\n",
              "</div>\n",
              "\n",
              "  <div id=\"id_af786b4a-9622-4f2f-a254-3b0f1dac55be\">\n",
              "    <style>\n",
              "      .colab-df-generate {\n",
              "        background-color: #E8F0FE;\n",
              "        border: none;\n",
              "        border-radius: 50%;\n",
              "        cursor: pointer;\n",
              "        display: none;\n",
              "        fill: #1967D2;\n",
              "        height: 32px;\n",
              "        padding: 0 0 0 0;\n",
              "        width: 32px;\n",
              "      }\n",
              "\n",
              "      .colab-df-generate:hover {\n",
              "        background-color: #E2EBFA;\n",
              "        box-shadow: 0px 1px 2px rgba(60, 64, 67, 0.3), 0px 1px 3px 1px rgba(60, 64, 67, 0.15);\n",
              "        fill: #174EA6;\n",
              "      }\n",
              "\n",
              "      [theme=dark] .colab-df-generate {\n",
              "        background-color: #3B4455;\n",
              "        fill: #D2E3FC;\n",
              "      }\n",
              "\n",
              "      [theme=dark] .colab-df-generate:hover {\n",
              "        background-color: #434B5C;\n",
              "        box-shadow: 0px 1px 3px 1px rgba(0, 0, 0, 0.15);\n",
              "        filter: drop-shadow(0px 1px 2px rgba(0, 0, 0, 0.3));\n",
              "        fill: #FFFFFF;\n",
              "      }\n",
              "    </style>\n",
              "    <button class=\"colab-df-generate\" onclick=\"generateWithVariable('SK')\"\n",
              "            title=\"Generate code using this dataframe.\"\n",
              "            style=\"display:none;\">\n",
              "\n",
              "  <svg xmlns=\"http://www.w3.org/2000/svg\" height=\"24px\"viewBox=\"0 0 24 24\"\n",
              "       width=\"24px\">\n",
              "    <path d=\"M7,19H8.4L18.45,9,17,7.55,7,17.6ZM5,21V16.75L18.45,3.32a2,2,0,0,1,2.83,0l1.4,1.43a1.91,1.91,0,0,1,.58,1.4,1.91,1.91,0,0,1-.58,1.4L9.25,21ZM18.45,9,17,7.55Zm-12,3A5.31,5.31,0,0,0,4.9,8.1,5.31,5.31,0,0,0,1,6.5,5.31,5.31,0,0,0,4.9,4.9,5.31,5.31,0,0,0,6.5,1,5.31,5.31,0,0,0,8.1,4.9,5.31,5.31,0,0,0,12,6.5,5.46,5.46,0,0,0,6.5,12Z\"/>\n",
              "  </svg>\n",
              "    </button>\n",
              "    <script>\n",
              "      (() => {\n",
              "      const buttonEl =\n",
              "        document.querySelector('#id_af786b4a-9622-4f2f-a254-3b0f1dac55be button.colab-df-generate');\n",
              "      buttonEl.style.display =\n",
              "        google.colab.kernel.accessAllowed ? 'block' : 'none';\n",
              "\n",
              "      buttonEl.onclick = () => {\n",
              "        google.colab.notebook.generateWithVariable('SK');\n",
              "      }\n",
              "      })();\n",
              "    </script>\n",
              "  </div>\n",
              "\n",
              "    </div>\n",
              "  </div>\n"
            ],
            "application/vnd.google.colaboratory.intrinsic+json": {
              "type": "dataframe",
              "variable_name": "SK",
              "summary": "{\n  \"name\": \"SK\",\n  \"rows\": 7,\n  \"fields\": [\n    {\n      \"column\": \"Cat\\u00e9gorie\",\n      \"properties\": {\n        \"dtype\": \"string\",\n        \"num_unique_values\": 7,\n        \"samples\": [\n          \"AUTRE\",\n          \"TRANSPORT\",\n          \"RESTAURANT\"\n        ],\n        \"semantic_type\": \"\",\n        \"description\": \"\"\n      }\n    },\n    {\n      \"column\": \"Skewness\",\n      \"properties\": {\n        \"dtype\": \"number\",\n        \"std\": 5.22825048735291,\n        \"min\": -13.624476792630492,\n        \"max\": 0.28867513459481053,\n        \"num_unique_values\": 6,\n        \"samples\": [\n          -13.624476792630492,\n          -1.1572728799930738,\n          -0.802798758107306\n        ],\n        \"semantic_type\": \"\",\n        \"description\": \"\"\n      }\n    }\n  ]\n}"
            }
          },
          "metadata": {},
          "execution_count": 339
        }
      ]
    },
    {
      "cell_type": "markdown",
      "source": [
        "<h3>Le Kurtosis"
      ],
      "metadata": {
        "id": "EWgamc1bQBqy"
      }
    },
    {
      "cell_type": "code",
      "source": [
        "op[\"montant\"].kurtosis()"
      ],
      "metadata": {
        "colab": {
          "base_uri": "https://localhost:8080/"
        },
        "id": "dC8TdbRCQFyI",
        "outputId": "ec3ecafe-de75-4d4d-9771-90379d4c071e"
      },
      "execution_count": null,
      "outputs": [
        {
          "output_type": "execute_result",
          "data": {
            "text/plain": [
              "283.7950993535236"
            ]
          },
          "metadata": {},
          "execution_count": 340
        }
      ]
    },
    {
      "cell_type": "markdown",
      "source": [
        "The high kurtosis of **283.79** indicates a highly concentrated distribution of amounts with many extreme values, suggesting potential outliers."
      ],
      "metadata": {
        "id": "fFrvfti00xN_"
      }
    },
    {
      "cell_type": "markdown",
      "source": [
        "<h2>Measures of Concentration"
      ],
      "metadata": {
        "id": "JyCq1KnSWUfe"
      }
    },
    {
      "cell_type": "markdown",
      "source": [
        "<h2>The Lorenz Curve"
      ],
      "metadata": {
        "id": "hzCKOKgEWi2h"
      }
    },
    {
      "cell_type": "code",
      "source": [
        "depense = op[op['montant'] < 0 ]\n",
        "dep = -depense['montant'].values\n",
        "\n",
        "n = len(dep)\n",
        "lorenz = np.cumsum(np.sort(dep)) / dep.sum()\n",
        "lorenz = np.append([0], lorenz)  # La courbe de Lorenz commence à 0\n",
        "\n",
        "xaxis = np.linspace(0-1/n,1+1/n,n+1)\n",
        "\n",
        "plt.plot(xaxis, lorenz, drawstyle='steps-post')\n",
        "plt.show()"
      ],
      "metadata": {
        "colab": {
          "base_uri": "https://localhost:8080/",
          "height": 54
        },
        "id": "BW6FmF7gVZWe",
        "outputId": "861a2430-c984-4d43-dd26-cf5ea3120b89"
      },
      "execution_count": null,
      "outputs": [
        {
          "output_type": "display_data",
          "data": {
            "text/plain": [
              "<Figure size 640x480 with 1 Axes>"
            ],
            "image/png": "[encoded data removed]"
          },
          "metadata": {}
        }
      ]
    },
    {
      "cell_type": "markdown",
      "source": [
        "Médiale = 1"
      ],
      "metadata": {
        "id": "Q4-C97uUW-cX"
      }
    },
    {
      "cell_type": "markdown",
      "source": [
        "<h2>Gini index"
      ],
      "metadata": {
        "id": "VVLjCKB1XDl_"
      }
    },
    {
      "cell_type": "code",
      "source": [
        "AUC = (lorenz.sum(0) - lorenz[-1]/2 - lorenz[0]/2)/n\n",
        "S = 0.5 - AUC\n",
        "gini = 2*S\n",
        "gini"
      ],
      "metadata": {
        "colab": {
          "base_uri": "https://localhost:8080/"
        },
        "id": "XSp-KnVMXPot",
        "outputId": "9cc26353-4851-4d4e-92b6-c3f0cc12f857"
      },
      "execution_count": null,
      "outputs": [
        {
          "output_type": "execute_result",
          "data": {
            "text/plain": [
              "0.8930571785423692"
            ]
          },
          "metadata": {},
          "execution_count": 342
        }
      ]
    },
    {
      "cell_type": "markdown",
      "source": [
        "The Gini coefficient of approximately **0.89** signifies a high level of **inequality.**"
      ],
      "metadata": {
        "id": "jKb4M7A_7p3j"
      }
    },
    {
      "cell_type": "markdown",
      "source": [
        "#Bivariate Analysis"
      ],
      "metadata": {
        "id": "KGzCtl9T9uz5"
      }
    },
    {
      "cell_type": "markdown",
      "source": [
        "<h2>Quantitative Correlation"
      ],
      "metadata": {
        "id": "Se_F1QT6-Y1P"
      }
    },
    {
      "cell_type": "markdown",
      "source": [
        "<h3>the scatter plot"
      ],
      "metadata": {
        "id": "a4q7Yi5vZjb4"
      }
    },
    {
      "cell_type": "code",
      "source": [
        "depense = op[op['montant'] < 0]\n",
        "dep = -depense['montant'].values\n",
        "solde_avt_ope = depense['solde_avt_ope'].values\n",
        "\n",
        "plt.figure(figsize=(6, 4))\n",
        "plt.scatter(solde_avt_ope, dep, alpha=1, color='blue')\n",
        "plt.title('Scatter Plot of Montant vs. Solde Avant Operation')\n",
        "plt.xlabel('Solde Avant Operation')\n",
        "plt.ylabel('Montant')\n",
        "plt.grid()\n",
        "plt.tight_layout()\n",
        "plt.show()"
      ],
      "metadata": {
        "colab": {
          "base_uri": "https://localhost:8080/",
          "height": 407
        },
        "id": "M1tRdoBJYXCa",
        "outputId": "e9be1b14-6633-4d92-c5ad-26d3b7abcfca"
      },
      "execution_count": null,
      "outputs": [
        {
          "output_type": "display_data",
          "data": {
            "text/plain": [
              "<Figure size 600x400 with 1 Axes>"
            ],
            "image/png": "[encoded data removed]"
          },
          "metadata": {}
        }
      ]
    },
    {
      "cell_type": "markdown",
      "source": [
        "The points are quite scattered and numerous, making it difficult to see clearly"
      ],
      "metadata": {
        "id": "UNYc9xceLUaS"
      }
    },
    {
      "cell_type": "code",
      "source": [
        "data = pd.DataFrame({'Solde Avant Operation': solde_avt_ope, 'Montant': dep})\n",
        "\n",
        "# Définir les classes pour le solde avant opération\n",
        "bins = [0, 2000, 2500, 3000, 3500, 4000, 4500, 5000]\n",
        "labels = ['[0-2000]', '[2000-2500]', '[2500-3000]', '[3000-3500]', '[3500-4000]', '[4000-4500]', '[4500-5000]']\n",
        "data['Classe Solde'] = pd.cut(data['Solde Avant Operation'], bins=bins, labels=labels)\n",
        "\n",
        "# Créer le diagramme de boxplots\n",
        "plt.figure(figsize=(10, 6))\n",
        "data.boxplot(column='Montant', by='Classe Solde', grid=False)\n",
        "plt.title('Boxplot du Montant par Classe de Solde Avant Opération')\n",
        "plt.suptitle('')  # Enlève le titre par défaut\n",
        "plt.xlabel('Classe de Solde Avant Opération')\n",
        "plt.ylabel('Montant')\n",
        "plt.xticks(rotation=45)\n",
        "plt.tight_layout()\n",
        "plt.show()\n"
      ],
      "metadata": {
        "colab": {
          "base_uri": "https://localhost:8080/",
          "height": 159
        },
        "id": "BGURmOTwLZK5",
        "outputId": "447aee9d-aebd-45fe-cd0c-e5a22b7bccf3"
      },
      "execution_count": null,
      "outputs": [
        {
          "output_type": "display_data",
          "data": {
            "text/plain": [
              "<Figure size 1000x600 with 0 Axes>"
            ]
          },
          "metadata": {}
        },
        {
          "output_type": "display_data",
          "data": {
            "text/plain": [
              "<Figure size 640x480 with 1 Axes>"
            ],
            "image/png": "[encoded data removed]"
          },
          "metadata": {}
        }
      ]
    },
    {
      "cell_type": "markdown",
      "source": [
        "There is a problem iwll solve it asap"
      ],
      "metadata": {
        "id": "xm1n1EiX-TgR"
      }
    },
    {
      "cell_type": "markdown",
      "source": [
        "<h3>Empirical covariance and the correlation coefficient"
      ],
      "metadata": {
        "id": "xjV2dnArYMFH"
      }
    },
    {
      "cell_type": "code",
      "source": [
        "import scipy.stats as st\n",
        "print(st.pearsonr(depense[\"solde_avt_ope\"], -depense[\"montant\"])[0])\n",
        "print(np.cov(depense[\"solde_avt_ope\"], -depense[\"montant\"], ddof=0)[1,0])"
      ],
      "metadata": {
        "colab": {
          "base_uri": "https://localhost:8080/"
        },
        "id": "8-URVnzuX8lK",
        "outputId": "ffb6ecc7-3d56-4fcf-a8f9-44dd8aae4e8a"
      },
      "execution_count": null,
      "outputs": [
        {
          "output_type": "stream",
          "name": "stdout",
          "text": [
            "0.034229552520030244\n",
            "19508.63946547898\n"
          ]
        }
      ]
    },
    {
      "cell_type": "markdown",
      "source": [
        "<h2>Linear Regression"
      ],
      "metadata": {
        "id": "ln5m-3CL-brT"
      }
    },
    {
      "cell_type": "code",
      "source": [
        "import datetime as dt\n",
        "\n",
        "# Selection du sous-échantillon\n",
        "courses = op[op.categ == \"COURSES\"]\n",
        "\n",
        "# On trie les opérations par date\n",
        "courses = courses.sort_values(\"date_operation\")\n",
        "\n",
        "# On ramène les montants en positif\n",
        "courses[\"montant\"] = -courses[\"montant\"]\n",
        "\n",
        "# calcul de la variable attente\n",
        "r = []\n",
        "last_date = dt.datetime.now()\n",
        "for i, row in courses.iterrows():\n",
        "    days = (row[\"date_operation\"] - last_date).days\n",
        "    if days == 0:\n",
        "        r.append(r[-1])\n",
        "    else:\n",
        "        r.append(days)\n",
        "    last_date = row[\"date_operation\"]\n",
        "courses[\"attente\"]=r\n",
        "courses = courses.iloc[1:,]\n",
        "\n",
        "# On regroupe les opérations qui ont été effectuées à la même date\n",
        "# (opérations réalisées le même jour mais dans 2 magasins différents)\n",
        "a = courses.groupby(\"date_operation\")[\"montant\"].sum()\n",
        "b = courses.groupby(\"date_operation\")[\"attente\"].first()\n",
        "courses = pd.DataFrame({\"montant\": a, \"attente\": b})"
      ],
      "metadata": {
        "id": "DSy-Owf-aJs3"
      },
      "execution_count": null,
      "outputs": []
    },
    {
      "cell_type": "code",
      "source": [
        "courses.reset_index(inplace=True)\n",
        "plt.figure(figsize=(12, 6))\n",
        "\n",
        "plt.subplot(1, 2, 1)\n",
        "sns.barplot(x=courses['date_operation'], y=courses['montant'], palette='viridis')\n",
        "plt.title('Total Montant per Date')\n",
        "plt.xticks(rotation=45)\n",
        "plt.xlabel('Date Operation')\n",
        "plt.ylabel('Montant')\n",
        "plt.grid(axis='y')\n",
        "\n",
        "# Line Plot for Attente\n",
        "plt.subplot(1, 2, 2)\n",
        "sns.lineplot(x=courses['date_operation'], y=courses['attente'], marker='o', color='blue')\n",
        "plt.title('Attente over Time')\n",
        "plt.xticks(rotation=45)\n",
        "plt.xlabel('Date Operation')\n",
        "plt.ylabel('Attente')\n",
        "plt.grid()\n",
        "\n",
        "plt.tight_layout()\n",
        "plt.show()\n"
      ],
      "metadata": {
        "colab": {
          "base_uri": "https://localhost:8080/",
          "height": 714
        },
        "id": "hhLhiC_QcwNd",
        "outputId": "5cf99f5d-6c59-4834-c131-9da15f10ce0c"
      },
      "execution_count": null,
      "outputs": [
        {
          "output_type": "stream",
          "name": "stderr",
          "text": [
            "<ipython-input-347-7e1aaa823330>:5: FutureWarning: \n",
            "\n",
            "Passing `palette` without assigning `hue` is deprecated and will be removed in v0.14.0. Assign the `x` variable to `hue` and set `legend=False` for the same effect.\n",
            "\n",
            "  sns.barplot(x=courses['date_operation'], y=courses['montant'], palette='viridis')\n"
          ]
        },
        {
          "output_type": "display_data",
          "data": {
            "text/plain": [
              "<Figure size 1200x600 with 2 Axes>"
            ],
            "image/png": "[encoded data removed]"
          },
          "metadata": {}
        }
      ]
    },
    {
      "cell_type": "markdown",
      "source": [
        "EXTRA"
      ],
      "metadata": {
        "id": "Df5M3zcYdWzK"
      }
    },
    {
      "cell_type": "markdown",
      "source": [
        "<h3>Scatter Plot"
      ],
      "metadata": {
        "id": "V7_dEGIsznzs"
      }
    },
    {
      "cell_type": "code",
      "source": [
        "plt.scatter(courses[\"attente\"], courses[\"montant\"], color='blue', alpha=0.6)\n",
        "plt.title(\"Scatter Plot: Waiting Time vs. Amount\")\n",
        "plt.xlabel(\"Waiting Time (days)\")\n",
        "plt.ylabel(\"Receipt Amount (€)\")\n",
        "plt.show()\n"
      ],
      "metadata": {
        "colab": {
          "base_uri": "https://localhost:8080/",
          "height": 472
        },
        "id": "7lEUlS3AzGna",
        "outputId": "af5b9c92-b38e-4ada-ac71-1e65b5b4cb48"
      },
      "execution_count": null,
      "outputs": [
        {
          "output_type": "display_data",
          "data": {
            "text/plain": [
              "<Figure size 640x480 with 1 Axes>"
            ],
            "image/png": "[encoded data removed]"
          },
          "metadata": {}
        }
      ]
    },
    {
      "cell_type": "markdown",
      "source": [
        "**Estimation**"
      ],
      "metadata": {
        "id": "k_Z7csfc4Oa8"
      }
    },
    {
      "cell_type": "code",
      "source": [
        "import statsmodels.api as sm\n",
        "Y = courses[\"montant\"]\n",
        "X = sm.add_constant(courses[\"attente\"])\n",
        "X = X.copy()\n",
        "X['intercept']= 1.\n",
        "\n",
        "result = sm.OLS(Y, X).fit()\n",
        "a,b = result.params['attente'],result.params['intercept']"
      ],
      "metadata": {
        "id": "coayFrTf2foG"
      },
      "execution_count": null,
      "outputs": []
    },
    {
      "cell_type": "code",
      "source": [
        "plt.plot(courses.attente,courses.montant, \"o\")\n",
        "plt.plot(np.arange(15),[a*x+b for x in np.arange(15)])\n",
        "plt.xlabel(\"attente\")\n",
        "plt.ylabel(\"montant\")\n",
        "plt.show()"
      ],
      "metadata": {
        "colab": {
          "base_uri": "https://localhost:8080/",
          "height": 54
        },
        "id": "LRqURXUD4Neu",
        "outputId": "f142b91f-e8fe-4984-9cfb-9c7cb7b07d0a"
      },
      "execution_count": null,
      "outputs": [
        {
          "output_type": "display_data",
          "data": {
            "text/plain": [
              "<Figure size 640x480 with 1 Axes>"
            ],
            "image/png": "[encoded data removed]"
          },
          "metadata": {}
        }
      ]
    },
    {
      "cell_type": "markdown",
      "source": [
        "<h2>ANOVA Analysis"
      ],
      "metadata": {
        "id": "2ubNeIzY-bzg"
      }
    },
    {
      "cell_type": "code",
      "source": [
        "X = \"categ\"  # qualitative\n",
        "\n",
        "Y = \"montant\"  # quantitative\n",
        "\n",
        "sous_echantillon = op[op[\"montant\"] < 0].copy()\n",
        "\n",
        "sous_echantillon[\"montant\"] = -sous_echantillon[\"montant\"]\n",
        "\n",
        "sous_echantillon = sous_echantillon[sous_echantillon[\"categ\"] != \"LOYER\"]\n"
      ],
      "metadata": {
        "id": "36tSE2Wk8oIQ"
      },
      "execution_count": null,
      "outputs": []
    },
    {
      "cell_type": "code",
      "source": [
        "modalites = sous_echantillon[X].unique()\n",
        "groupes = []\n",
        "for m in modalites:\n",
        "    groupes.append(sous_echantillon[sous_echantillon[X] == m][Y])\n",
        "\n",
        "medianprops = {'color': \"black\"}\n",
        "meanprops = {'marker': 'o', 'markeredgecolor': 'black',\n",
        "             'markerfacecolor': 'firebrick'}\n",
        "\n",
        "plt.boxplot(groupes, labels=modalites, showfliers=False, medianprops=medianprops,\n",
        "            vert=False, patch_artist=True, showmeans=True, meanprops=meanprops)\n",
        "plt.show()"
      ],
      "metadata": {
        "colab": {
          "base_uri": "https://localhost:8080/",
          "height": 54
        },
        "id": "Hvr_u9oz9VKM",
        "outputId": "dec0d365-702d-4416-a5b6-c89477515365"
      },
      "execution_count": null,
      "outputs": [
        {
          "output_type": "display_data",
          "data": {
            "text/plain": [
              "<Figure size 640x480 with 1 Axes>"
            ],
            "image/png": "[encoded data removed]"
          },
          "metadata": {}
        }
      ]
    },
    {
      "cell_type": "code",
      "source": [
        "X = \"categ\"  # qualitative\n",
        "\n",
        "Y = \"montant\"  # quantitative\n",
        "\n",
        "sous_echantillon = op[op[\"montant\"] < 0].copy()\n",
        "\n",
        "def eta_squared(x, y):\n",
        "    moyenne_y = y.mean()\n",
        "    classes = []\n",
        "    for classe in x.unique():\n",
        "      yi_classe = y[x == classe]\n",
        "      classes.append({'ni': len(yi_classe),\n",
        "                      'moyenne_classe': yi_classe.mean()})\n",
        "    SCT = sum([(yj-moyenne_y)**2 for yj in y])\n",
        "    SCE = sum([c['ni']*(c['moyenne_classe']-moyenne_y)**2 for c in classes])\n",
        "    return SCE/SCT\n",
        "\n",
        "eta_squared(sous_echantillon[X], sous_echantillon[Y])"
      ],
      "metadata": {
        "colab": {
          "base_uri": "https://localhost:8080/"
        },
        "id": "MGyd7ad9_CqW",
        "outputId": "bf953794-9f82-4df7-bb02-41549b035773"
      },
      "execution_count": null,
      "outputs": [
        {
          "output_type": "execute_result",
          "data": {
            "text/plain": [
              "0.0037520811658925393"
            ]
          },
          "metadata": {},
          "execution_count": 353
        }
      ]
    },
    {
      "cell_type": "markdown",
      "source": [
        "<h3>Quarter-Month"
      ],
      "metadata": {
        "id": "z29m07zZEQtc"
      }
    },
    {
      "cell_type": "code",
      "source": [
        "X = \"quart_mois\"  # qualitative\n",
        "Y = \"montant\"     # quantitative\n",
        "\n",
        "sous_echantillon = op[op[\"montant\"] < 0].copy()\n",
        "\n",
        "sous_echantillon[\"montant\"] = -sous_echantillon[\"montant\"]\n",
        "\n",
        "modalites = sous_echantillon[X].unique()\n",
        "\n",
        "groupes = []\n",
        "for m in modalites:\n",
        "    groupes.append(sous_echantillon[sous_echantillon[X] == m][Y])\n",
        "\n",
        "# Create the box plot\n",
        "medianprops = {'color': \"black\"}\n",
        "meanprops = {'marker': 'o', 'markeredgecolor': 'black',\n",
        "             'markerfacecolor': 'firebrick'}\n",
        "\n",
        "plt.boxplot(groupes, labels=modalites, showfliers=False, medianprops=medianprops,\n",
        "            vert=False, patch_artist=True, showmeans=True, meanprops=meanprops)\n",
        "plt.title('Boxplot of Expenses by Quarter Month')\n",
        "plt.xlabel('Amount')\n",
        "plt.ylabel('Quarter Month')\n",
        "plt.show()"
      ],
      "metadata": {
        "colab": {
          "base_uri": "https://localhost:8080/",
          "height": 472
        },
        "id": "31YiBEBwCnhN",
        "outputId": "d9c10e89-8d1e-4459-f2fe-796935788c4c"
      },
      "execution_count": null,
      "outputs": [
        {
          "output_type": "display_data",
          "data": {
            "text/plain": [
              "<Figure size 640x480 with 1 Axes>"
            ],
            "image/png": "[encoded data removed]"
          },
          "metadata": {}
        }
      ]
    },
    {
      "cell_type": "code",
      "source": [
        "X = \"quart_mois\"  # qualitative\n",
        "Y = \"montant\"     # quantitative\n",
        "\n",
        "sous_echantillon = op[op[\"montant\"] < 0].copy()\n",
        "# Function to calculate Eta-squared\n",
        "def eta_squared(x, y):\n",
        "    moyenne_y = y.mean()\n",
        "    classes = []\n",
        "    for classe in x.unique():\n",
        "        yi_classe = y[x == classe]\n",
        "        classes.append({'ni': len(yi_classe),\n",
        "                        'moyenne_classe': yi_classe.mean()})\n",
        "    SCT = sum([(yj - moyenne_y) ** 2 for yj in y])\n",
        "    SCE = sum([c['ni'] * (c['moyenne_classe'] - moyenne_y) ** 2 for c in classes])\n",
        "    return SCE / SCT\n",
        "\n",
        "eta_squared_value = eta_squared(sous_echantillon[X], sous_echantillon[Y])\n",
        "print(f'Eta-squared: {eta_squared_value:.4f}')"
      ],
      "metadata": {
        "colab": {
          "base_uri": "https://localhost:8080/"
        },
        "id": "SOerwXNMDcQV",
        "outputId": "c7e140d0-7e8d-461d-a6c4-ddf4b9db4f78"
      },
      "execution_count": null,
      "outputs": [
        {
          "output_type": "stream",
          "name": "stdout",
          "text": [
            "Eta-squared: 0.0092\n"
          ]
        }
      ]
    },
    {
      "cell_type": "markdown",
      "source": [
        "<h2>Chi-Squared Test"
      ],
      "metadata": {
        "id": "gAfiD92z-b33"
      }
    },
    {
      "cell_type": "code",
      "source": [
        "X = \"quart_mois\"\n",
        "Y = \"categ\"\n",
        "\n",
        "cont = op [[X,Y]].pivot_table(index=X, columns=Y, aggfunc= len ,margins= True, margins_name=\"Total\")\n",
        "cont"
      ],
      "metadata": {
        "colab": {
          "base_uri": "https://localhost:8080/",
          "height": 238
        },
        "id": "00Nw8ZoJRslS",
        "outputId": "ab6b267d-d377-4604-cf52-d8945b5bcdc8"
      },
      "execution_count": null,
      "outputs": [
        {
          "output_type": "execute_result",
          "data": {
            "text/plain": [
              "categ       AUTRE  COTISATION BANCAIRE  COURSES  FACTURE TELEPHONE  LOYER  \\\n",
              "quart_mois                                                                  \n",
              "1            55.0                  7.0      6.0                6.0    NaN   \n",
              "2            45.0                  NaN     11.0                1.0    6.0   \n",
              "3            60.0                  NaN      7.0                NaN    NaN   \n",
              "4            52.0                  NaN     16.0                NaN    NaN   \n",
              "Total       212.0                  7.0     40.0                7.0    6.0   \n",
              "\n",
              "categ       RESTAURANT  TRANSPORT  Total  \n",
              "quart_mois                                \n",
              "1                  3.0        9.0     86  \n",
              "2                  7.0        6.0     76  \n",
              "3                  4.0        4.0     75  \n",
              "4                  2.0        2.0     72  \n",
              "Total             16.0       21.0    309  "
            ],
            "text/html": [
              "\n",
              "  <div id=\"df-4ec88b28-ef2c-4ce5-a957-f98ee85433ff\" class=\"colab-df-container\">\n",
              "    <div>\n",
              "<style scoped>\n",
              "    .dataframe tbody tr th:only-of-type {\n",
              "        vertical-align: middle;\n",
              "    }\n",
              "\n",
              "    .dataframe tbody tr th {\n",
              "        vertical-align: top;\n",
              "    }\n",
              "\n",
              "    .dataframe thead th {\n",
              "        text-align: right;\n",
              "    }\n",
              "</style>\n",
              "<table border=\"1\" class=\"dataframe\">\n",
              "  <thead>\n",
              "    <tr style=\"text-align: right;\">\n",
              "      <th>categ</th>\n",
              "      <th>AUTRE</th>\n",
              "      <th>COTISATION BANCAIRE</th>\n",
              "      <th>COURSES</th>\n",
              "      <th>FACTURE TELEPHONE</th>\n",
              "      <th>LOYER</th>\n",
              "      <th>RESTAURANT</th>\n",
              "      <th>TRANSPORT</th>\n",
              "      <th>Total</th>\n",
              "    </tr>\n",
              "    <tr>\n",
              "      <th>quart_mois</th>\n",
              "      <th></th>\n",
              "      <th></th>\n",
              "      <th></th>\n",
              "      <th></th>\n",
              "      <th></th>\n",
              "      <th></th>\n",
              "      <th></th>\n",
              "      <th></th>\n",
              "    </tr>\n",
              "  </thead>\n",
              "  <tbody>\n",
              "    <tr>\n",
              "      <th>1</th>\n",
              "      <td>55.0</td>\n",
              "      <td>7.0</td>\n",
              "      <td>6.0</td>\n",
              "      <td>6.0</td>\n",
              "      <td>NaN</td>\n",
              "      <td>3.0</td>\n",
              "      <td>9.0</td>\n",
              "      <td>86</td>\n",
              "    </tr>\n",
              "    <tr>\n",
              "      <th>2</th>\n",
              "      <td>45.0</td>\n",
              "      <td>NaN</td>\n",
              "      <td>11.0</td>\n",
              "      <td>1.0</td>\n",
              "      <td>6.0</td>\n",
              "      <td>7.0</td>\n",
              "      <td>6.0</td>\n",
              "      <td>76</td>\n",
              "    </tr>\n",
              "    <tr>\n",
              "      <th>3</th>\n",
              "      <td>60.0</td>\n",
              "      <td>NaN</td>\n",
              "      <td>7.0</td>\n",
              "      <td>NaN</td>\n",
              "      <td>NaN</td>\n",
              "      <td>4.0</td>\n",
              "      <td>4.0</td>\n",
              "      <td>75</td>\n",
              "    </tr>\n",
              "    <tr>\n",
              "      <th>4</th>\n",
              "      <td>52.0</td>\n",
              "      <td>NaN</td>\n",
              "      <td>16.0</td>\n",
              "      <td>NaN</td>\n",
              "      <td>NaN</td>\n",
              "      <td>2.0</td>\n",
              "      <td>2.0</td>\n",
              "      <td>72</td>\n",
              "    </tr>\n",
              "    <tr>\n",
              "      <th>Total</th>\n",
              "      <td>212.0</td>\n",
              "      <td>7.0</td>\n",
              "      <td>40.0</td>\n",
              "      <td>7.0</td>\n",
              "      <td>6.0</td>\n",
              "      <td>16.0</td>\n",
              "      <td>21.0</td>\n",
              "      <td>309</td>\n",
              "    </tr>\n",
              "  </tbody>\n",
              "</table>\n",
              "</div>\n",
              "    <div class=\"colab-df-buttons\">\n",
              "\n",
              "  <div class=\"colab-df-container\">\n",
              "    <button class=\"colab-df-convert\" onclick=\"convertToInteractive('df-4ec88b28-ef2c-4ce5-a957-f98ee85433ff')\"\n",
              "            title=\"Convert this dataframe to an interactive table.\"\n",
              "            style=\"display:none;\">\n",
              "\n",
              "  <svg xmlns=\"http://www.w3.org/2000/svg\" height=\"24px\" viewBox=\"0 -960 960 960\">\n",
              "    <path d=\"M120-120v-720h720v720H120Zm60-500h600v-160H180v160Zm220 220h160v-160H400v160Zm0 220h160v-160H400v160ZM180-400h160v-160H180v160Zm440 0h160v-160H620v160ZM180-180h160v-160H180v160Zm440 0h160v-160H620v160Z\"/>\n",
              "  </svg>\n",
              "    </button>\n",
              "\n",
              "  <style>\n",
              "    .colab-df-container {\n",
              "      display:flex;\n",
              "      gap: 12px;\n",
              "    }\n",
              "\n",
              "    .colab-df-convert {\n",
              "      background-color: #E8F0FE;\n",
              "      border: none;\n",
              "      border-radius: 50%;\n",
              "      cursor: pointer;\n",
              "      display: none;\n",
              "      fill: #1967D2;\n",
              "      height: 32px;\n",
              "      padding: 0 0 0 0;\n",
              "      width: 32px;\n",
              "    }\n",
              "\n",
              "    .colab-df-convert:hover {\n",
              "      background-color: #E2EBFA;\n",
              "      box-shadow: 0px 1px 2px rgba(60, 64, 67, 0.3), 0px 1px 3px 1px rgba(60, 64, 67, 0.15);\n",
              "      fill: #174EA6;\n",
              "    }\n",
              "\n",
              "    .colab-df-buttons div {\n",
              "      margin-bottom: 4px;\n",
              "    }\n",
              "\n",
              "    [theme=dark] .colab-df-convert {\n",
              "      background-color: #3B4455;\n",
              "      fill: #D2E3FC;\n",
              "    }\n",
              "\n",
              "    [theme=dark] .colab-df-convert:hover {\n",
              "      background-color: #434B5C;\n",
              "      box-shadow: 0px 1px 3px 1px rgba(0, 0, 0, 0.15);\n",
              "      filter: drop-shadow(0px 1px 2px rgba(0, 0, 0, 0.3));\n",
              "      fill: #FFFFFF;\n",
              "    }\n",
              "  </style>\n",
              "\n",
              "    <script>\n",
              "      const buttonEl =\n",
              "        document.querySelector('#df-4ec88b28-ef2c-4ce5-a957-f98ee85433ff button.colab-df-convert');\n",
              "      buttonEl.style.display =\n",
              "        google.colab.kernel.accessAllowed ? 'block' : 'none';\n",
              "\n",
              "      async function convertToInteractive(key) {\n",
              "        const element = document.querySelector('#df-4ec88b28-ef2c-4ce5-a957-f98ee85433ff');\n",
              "        const dataTable =\n",
              "          await google.colab.kernel.invokeFunction('convertToInteractive',\n",
              "                                                    [key], {});\n",
              "        if (!dataTable) return;\n",
              "\n",
              "        const docLinkHtml = 'Like what you see? Visit the ' +\n",
              "          '<a target=\"_blank\" href=https://colab.research.google.com/notebooks/data_table.ipynb>data table notebook</a>'\n",
              "          + ' to learn more about interactive tables.';\n",
              "        element.innerHTML = '';\n",
              "        dataTable['output_type'] = 'display_data';\n",
              "        await google.colab.output.renderOutput(dataTable, element);\n",
              "        const docLink = document.createElement('div');\n",
              "        docLink.innerHTML = docLinkHtml;\n",
              "        element.appendChild(docLink);\n",
              "      }\n",
              "    </script>\n",
              "  </div>\n",
              "\n",
              "\n",
              "<div id=\"df-63845a14-f9ae-48e5-9dc7-4a122e69eb0d\">\n",
              "  <button class=\"colab-df-quickchart\" onclick=\"quickchart('df-63845a14-f9ae-48e5-9dc7-4a122e69eb0d')\"\n",
              "            title=\"Suggest charts\"\n",
              "            style=\"display:none;\">\n",
              "\n",
              "<svg xmlns=\"http://www.w3.org/2000/svg\" height=\"24px\"viewBox=\"0 0 24 24\"\n",
              "     width=\"24px\">\n",
              "    <g>\n",
              "        <path d=\"M19 3H5c-1.1 0-2 .9-2 2v14c0 1.1.9 2 2 2h14c1.1 0 2-.9 2-2V5c0-1.1-.9-2-2-2zM9 17H7v-7h2v7zm4 0h-2V7h2v10zm4 0h-2v-4h2v4z\"/>\n",
              "    </g>\n",
              "</svg>\n",
              "  </button>\n",
              "\n",
              "<style>\n",
              "  .colab-df-quickchart {\n",
              "      --bg-color: #E8F0FE;\n",
              "      --fill-color: #1967D2;\n",
              "      --hover-bg-color: #E2EBFA;\n",
              "      --hover-fill-color: #174EA6;\n",
              "      --disabled-fill-color: #AAA;\n",
              "      --disabled-bg-color: #DDD;\n",
              "  }\n",
              "\n",
              "  [theme=dark] .colab-df-quickchart {\n",
              "      --bg-color: #3B4455;\n",
              "      --fill-color: #D2E3FC;\n",
              "      --hover-bg-color: #434B5C;\n",
              "      --hover-fill-color: #FFFFFF;\n",
              "      --disabled-bg-color: #3B4455;\n",
              "      --disabled-fill-color: #666;\n",
              "  }\n",
              "\n",
              "  .colab-df-quickchart {\n",
              "    background-color: var(--bg-color);\n",
              "    border: none;\n",
              "    border-radius: 50%;\n",
              "    cursor: pointer;\n",
              "    display: none;\n",
              "    fill: var(--fill-color);\n",
              "    height: 32px;\n",
              "    padding: 0;\n",
              "    width: 32px;\n",
              "  }\n",
              "\n",
              "  .colab-df-quickchart:hover {\n",
              "    background-color: var(--hover-bg-color);\n",
              "    box-shadow: 0 1px 2px rgba(60, 64, 67, 0.3), 0 1px 3px 1px rgba(60, 64, 67, 0.15);\n",
              "    fill: var(--button-hover-fill-color);\n",
              "  }\n",
              "\n",
              "  .colab-df-quickchart-complete:disabled,\n",
              "  .colab-df-quickchart-complete:disabled:hover {\n",
              "    background-color: var(--disabled-bg-color);\n",
              "    fill: var(--disabled-fill-color);\n",
              "    box-shadow: none;\n",
              "  }\n",
              "\n",
              "  .colab-df-spinner {\n",
              "    border: 2px solid var(--fill-color);\n",
              "    border-color: transparent;\n",
              "    border-bottom-color: var(--fill-color);\n",
              "    animation:\n",
              "      spin 1s steps(1) infinite;\n",
              "  }\n",
              "\n",
              "  @keyframes spin {\n",
              "    0% {\n",
              "      border-color: transparent;\n",
              "      border-bottom-color: var(--fill-color);\n",
              "      border-left-color: var(--fill-color);\n",
              "    }\n",
              "    20% {\n",
              "      border-color: transparent;\n",
              "      border-left-color: var(--fill-color);\n",
              "      border-top-color: var(--fill-color);\n",
              "    }\n",
              "    30% {\n",
              "      border-color: transparent;\n",
              "      border-left-color: var(--fill-color);\n",
              "      border-top-color: var(--fill-color);\n",
              "      border-right-color: var(--fill-color);\n",
              "    }\n",
              "    40% {\n",
              "      border-color: transparent;\n",
              "      border-right-color: var(--fill-color);\n",
              "      border-top-color: var(--fill-color);\n",
              "    }\n",
              "    60% {\n",
              "      border-color: transparent;\n",
              "      border-right-color: var(--fill-color);\n",
              "    }\n",
              "    80% {\n",
              "      border-color: transparent;\n",
              "      border-right-color: var(--fill-color);\n",
              "      border-bottom-color: var(--fill-color);\n",
              "    }\n",
              "    90% {\n",
              "      border-color: transparent;\n",
              "      border-bottom-color: var(--fill-color);\n",
              "    }\n",
              "  }\n",
              "</style>\n",
              "\n",
              "  <script>\n",
              "    async function quickchart(key) {\n",
              "      const quickchartButtonEl =\n",
              "        document.querySelector('#' + key + ' button');\n",
              "      quickchartButtonEl.disabled = true;  // To prevent multiple clicks.\n",
              "      quickchartButtonEl.classList.add('colab-df-spinner');\n",
              "      try {\n",
              "        const charts = await google.colab.kernel.invokeFunction(\n",
              "            'suggestCharts', [key], {});\n",
              "      } catch (error) {\n",
              "        console.error('Error during call to suggestCharts:', error);\n",
              "      }\n",
              "      quickchartButtonEl.classList.remove('colab-df-spinner');\n",
              "      quickchartButtonEl.classList.add('colab-df-quickchart-complete');\n",
              "    }\n",
              "    (() => {\n",
              "      let quickchartButtonEl =\n",
              "        document.querySelector('#df-63845a14-f9ae-48e5-9dc7-4a122e69eb0d button');\n",
              "      quickchartButtonEl.style.display =\n",
              "        google.colab.kernel.accessAllowed ? 'block' : 'none';\n",
              "    })();\n",
              "  </script>\n",
              "</div>\n",
              "\n",
              "  <div id=\"id_365c309b-5fb2-4118-89d4-b6ba539c04c3\">\n",
              "    <style>\n",
              "      .colab-df-generate {\n",
              "        background-color: #E8F0FE;\n",
              "        border: none;\n",
              "        border-radius: 50%;\n",
              "        cursor: pointer;\n",
              "        display: none;\n",
              "        fill: #1967D2;\n",
              "        height: 32px;\n",
              "        padding: 0 0 0 0;\n",
              "        width: 32px;\n",
              "      }\n",
              "\n",
              "      .colab-df-generate:hover {\n",
              "        background-color: #E2EBFA;\n",
              "        box-shadow: 0px 1px 2px rgba(60, 64, 67, 0.3), 0px 1px 3px 1px rgba(60, 64, 67, 0.15);\n",
              "        fill: #174EA6;\n",
              "      }\n",
              "\n",
              "      [theme=dark] .colab-df-generate {\n",
              "        background-color: #3B4455;\n",
              "        fill: #D2E3FC;\n",
              "      }\n",
              "\n",
              "      [theme=dark] .colab-df-generate:hover {\n",
              "        background-color: #434B5C;\n",
              "        box-shadow: 0px 1px 3px 1px rgba(0, 0, 0, 0.15);\n",
              "        filter: drop-shadow(0px 1px 2px rgba(0, 0, 0, 0.3));\n",
              "        fill: #FFFFFF;\n",
              "      }\n",
              "    </style>\n",
              "    <button class=\"colab-df-generate\" onclick=\"generateWithVariable('cont')\"\n",
              "            title=\"Generate code using this dataframe.\"\n",
              "            style=\"display:none;\">\n",
              "\n",
              "  <svg xmlns=\"http://www.w3.org/2000/svg\" height=\"24px\"viewBox=\"0 0 24 24\"\n",
              "       width=\"24px\">\n",
              "    <path d=\"M7,19H8.4L18.45,9,17,7.55,7,17.6ZM5,21V16.75L18.45,3.32a2,2,0,0,1,2.83,0l1.4,1.43a1.91,1.91,0,0,1,.58,1.4,1.91,1.91,0,0,1-.58,1.4L9.25,21ZM18.45,9,17,7.55Zm-12,3A5.31,5.31,0,0,0,4.9,8.1,5.31,5.31,0,0,0,1,6.5,5.31,5.31,0,0,0,4.9,4.9,5.31,5.31,0,0,0,6.5,1,5.31,5.31,0,0,0,8.1,4.9,5.31,5.31,0,0,0,12,6.5,5.46,5.46,0,0,0,6.5,12Z\"/>\n",
              "  </svg>\n",
              "    </button>\n",
              "    <script>\n",
              "      (() => {\n",
              "      const buttonEl =\n",
              "        document.querySelector('#id_365c309b-5fb2-4118-89d4-b6ba539c04c3 button.colab-df-generate');\n",
              "      buttonEl.style.display =\n",
              "        google.colab.kernel.accessAllowed ? 'block' : 'none';\n",
              "\n",
              "      buttonEl.onclick = () => {\n",
              "        google.colab.notebook.generateWithVariable('cont');\n",
              "      }\n",
              "      })();\n",
              "    </script>\n",
              "  </div>\n",
              "\n",
              "    </div>\n",
              "  </div>\n"
            ],
            "application/vnd.google.colaboratory.intrinsic+json": {
              "type": "dataframe",
              "variable_name": "cont",
              "summary": "{\n  \"name\": \"cont\",\n  \"rows\": 5,\n  \"fields\": [\n    {\n      \"column\": \"quart_mois\",\n      \"properties\": {\n        \"dtype\": \"string\",\n        \"num_unique_values\": 5,\n        \"samples\": [\n          2,\n          \"Total\",\n          3\n        ],\n        \"semantic_type\": \"\",\n        \"description\": \"\"\n      }\n    },\n    {\n      \"column\": \"AUTRE\",\n      \"properties\": {\n        \"dtype\": \"number\",\n        \"std\": 71.31409397867998,\n        \"min\": 45.0,\n        \"max\": 212.0,\n        \"num_unique_values\": 5,\n        \"samples\": [\n          45.0,\n          212.0,\n          60.0\n        ],\n        \"semantic_type\": \"\",\n        \"description\": \"\"\n      }\n    },\n    {\n      \"column\": \"COTISATION BANCAIRE\",\n      \"properties\": {\n        \"dtype\": \"number\",\n        \"std\": 0.0,\n        \"min\": 7.0,\n        \"max\": 7.0,\n        \"num_unique_values\": 1,\n        \"samples\": [\n          7.0\n        ],\n        \"semantic_type\": \"\",\n        \"description\": \"\"\n      }\n    },\n    {\n      \"column\": \"COURSES\",\n      \"properties\": {\n        \"dtype\": \"number\",\n        \"std\": 13.982131454109563,\n        \"min\": 6.0,\n        \"max\": 40.0,\n        \"num_unique_values\": 5,\n        \"samples\": [\n          11.0\n        ],\n        \"semantic_type\": \"\",\n        \"description\": \"\"\n      }\n    },\n    {\n      \"column\": \"FACTURE TELEPHONE\",\n      \"properties\": {\n        \"dtype\": \"number\",\n        \"std\": 3.214550253664318,\n        \"min\": 1.0,\n        \"max\": 7.0,\n        \"num_unique_values\": 3,\n        \"samples\": [\n          6.0\n        ],\n        \"semantic_type\": \"\",\n        \"description\": \"\"\n      }\n    },\n    {\n      \"column\": \"LOYER\",\n      \"properties\": {\n        \"dtype\": \"number\",\n        \"std\": 0.0,\n        \"min\": 6.0,\n        \"max\": 6.0,\n        \"num_unique_values\": 1,\n        \"samples\": [\n          6.0\n        ],\n        \"semantic_type\": \"\",\n        \"description\": \"\"\n      }\n    },\n    {\n      \"column\": \"RESTAURANT\",\n      \"properties\": {\n        \"dtype\": \"number\",\n        \"std\": 5.683308895353129,\n        \"min\": 2.0,\n        \"max\": 16.0,\n        \"num_unique_values\": 5,\n        \"samples\": [\n          7.0\n        ],\n        \"semantic_type\": \"\",\n        \"description\": \"\"\n      }\n    },\n    {\n      \"column\": \"TRANSPORT\",\n      \"properties\": {\n        \"dtype\": \"number\",\n        \"std\": 7.503332592921628,\n        \"min\": 2.0,\n        \"max\": 21.0,\n        \"num_unique_values\": 5,\n        \"samples\": [\n          6.0\n        ],\n        \"semantic_type\": \"\",\n        \"description\": \"\"\n      }\n    },\n    {\n      \"column\": \"Total\",\n      \"properties\": {\n        \"dtype\": \"number\",\n        \"std\": 103,\n        \"min\": 72,\n        \"max\": 309,\n        \"num_unique_values\": 5,\n        \"samples\": [\n          76\n        ],\n        \"semantic_type\": \"\",\n        \"description\": \"\"\n      }\n    }\n  ]\n}"
            }
          },
          "metadata": {},
          "execution_count": 356
        }
      ]
    },
    {
      "cell_type": "code",
      "source": [
        "# Extract the \"Total\" column\n",
        "tx = cont.loc[:, [\"Total\"]]\n",
        "\n",
        "# Extract the \"Total\" row\n",
        "ty = cont.loc[[\"Total\"], :]\n",
        "\n",
        "# Calculate the total number of observations (individuals) based on the length of op\n",
        "n = len(op)\n",
        "\n",
        "# Calculate the independence table by performing a matrix product between tx and ty, then normalize by n\n",
        "indep = tx.dot(ty) / n\n",
        "\n",
        "# Replace NaN values in the contingency table with zeros\n",
        "c = cont.fillna(0)\n",
        "\n",
        "# Calculate the measure of non-independence\n",
        "measure = (c - indep) ** 2 / indep\n",
        "\n",
        "# Calculate the overall chi-squared statistic\n",
        "xi_n = measure.sum().sum()\n",
        "\n",
        "# Normalize the measure table by dividing by the overall statistic xi_n\n",
        "table = measure / xi_n\n",
        "\n",
        "# Create a heatmap from the normalized table, annotated with the observed values\n",
        "sns.heatmap(table.iloc[:-1, :-1], annot=c.iloc[:-1, :-1])\n",
        "plt.show()"
      ],
      "metadata": {
        "colab": {
          "base_uri": "https://localhost:8080/",
          "height": 595
        },
        "id": "LELkbiODShLe",
        "outputId": "d0d70874-2496-4129-81df-87969b507104"
      },
      "execution_count": null,
      "outputs": [
        {
          "output_type": "display_data",
          "data": {
            "text/plain": [
              "<Figure size 640x480 with 2 Axes>"
            ],
            "image/png": "[encoded data removed]"
          },
          "metadata": {}
        }
      ]
    }
  ]
}